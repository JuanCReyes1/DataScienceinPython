{
  "nbformat": 4,
  "nbformat_minor": 0,
  "metadata": {
    "colab": {
      "name": "GeneralizedDeltaLearning_GradientDescent.ipynb",
      "provenance": [],
      "collapsed_sections": [],
      "include_colab_link": true
    },
    "kernelspec": {
      "name": "python3",
      "display_name": "Python 3"
    }
  },
  "cells": [
    {
      "cell_type": "markdown",
      "metadata": {
        "id": "view-in-github",
        "colab_type": "text"
      },
      "source": [
        "<a href=\"https://colab.research.google.com/github/JuanCReyes1/DataScienceinPython/blob/master/GeneralizedDeltaLearning_GradientDescent_ThreeNeuronFeedForwardNetwork.ipynb\" target=\"_parent\"><img src=\"https://colab.research.google.com/assets/colab-badge.svg\" alt=\"Open In Colab\"/></a>"
      ]
    },
    {
      "cell_type": "markdown",
      "metadata": {
        "id": "aC-GkQdYSG6d",
        "colab_type": "text"
      },
      "source": [
        "# Neural Networks\n",
        "## The Delta Learning Rule and Backpropagation\n",
        "\n",
        "## Juan C. Reyes - Dalhousie University \n",
        "### Nov.28, 2019.\n",
        "### The following exercise is based on Stephen Lynch's Book: Dynamical Systems with Applications using Python.\n",
        "### Chapter 20: The Delta Learning Rule and Backpropagation"
      ]
    },
    {
      "cell_type": "markdown",
      "metadata": {
        "id": "jLavv1fSRzhN",
        "colab_type": "text"
      },
      "source": [
        "A neural network can be thought of as a parallel information-processing system. They are used in a wide variety of fields for implementing associative memories for pattern and speech production and recognition. When we model certain neural networks, we often try to attribute certain functions in our brains in common with their network architecture. \n",
        "\n",
        "In the following notebook we will implement a neural network composed of *neurons* and *synaptic weights* which together will perform a series of complex computations through what is called a *learning process*. We will be performing such complex computations on the famous Boston housing dataset which is publicly available through the sklearn.datasets library. \n",
        "The goal of this learning process is to devise a neural network which will accurately *predict* the dataset's target characteristic: The median *value* of owner-occupied homes in Boston (column 14).\n",
        "\n",
        "Since we are viewing this document through Google Colab you may execute my code as you read along by holding shift+enter on each code 'chunk'. Just make sure to 'view' this file through the 'playground' option in the top left hand corner. This mode will let you edit my code and save your own version!\n"
      ]
    },
    {
      "cell_type": "markdown",
      "metadata": {
        "id": "8zpuNAhwehOR",
        "colab_type": "text"
      },
      "source": [
        "### Importing Data and Data Cleaning\n",
        "Before we create a neural network to help us with any prediction task we must make sure that the data it will be operating on is as clean as possible. For this it is necessary to complete some *data cleaning* prior to running our model and fitting parameters.\n",
        "\n",
        "We import the sklearn.datasets package which contains the load_boston function."
      ]
    },
    {
      "cell_type": "code",
      "metadata": {
        "id": "7HMM32KPwSru",
        "colab_type": "code",
        "colab": {}
      },
      "source": [
        "from sklearn.datasets import load_boston\n"
      ],
      "execution_count": 0,
      "outputs": []
    },
    {
      "cell_type": "markdown",
      "metadata": {
        "id": "gKZeyFQ7SJBl",
        "colab_type": "text"
      },
      "source": [
        "Load the Boston housing dataset with the load_boston function.\n",
        "We display the type of data generated from this operation."
      ]
    },
    {
      "cell_type": "code",
      "metadata": {
        "id": "JVHqYoMFwU0q",
        "colab_type": "code",
        "outputId": "655d0261-abb6-4930-ca44-20327803e0a0",
        "colab": {
          "base_uri": "https://localhost:8080/",
          "height": 34
        }
      },
      "source": [
        "boston = load_boston()\n",
        "print(type(boston))"
      ],
      "execution_count": 0,
      "outputs": [
        {
          "output_type": "stream",
          "text": [
            "<class 'sklearn.utils.Bunch'>\n"
          ],
          "name": "stdout"
        }
      ]
    },
    {
      "cell_type": "markdown",
      "metadata": {
        "id": "DOzyk3iFTWk-",
        "colab_type": "text"
      },
      "source": [
        "A 'Bunch' is a subclass of the 'dict' datatype. It supports all methods a dictionary object does.\n",
        "Lets find out the keys for each Bunch object."
      ]
    },
    {
      "cell_type": "code",
      "metadata": {
        "id": "tCWYcXhlweon",
        "colab_type": "code",
        "outputId": "983bf8dc-2bfe-40eb-9629-be3397a58c1d",
        "colab": {
          "base_uri": "https://localhost:8080/",
          "height": 34
        }
      },
      "source": [
        "print(boston.keys())"
      ],
      "execution_count": 0,
      "outputs": [
        {
          "output_type": "stream",
          "text": [
            "dict_keys(['data', 'target', 'feature_names', 'DESCR', 'filename'])\n"
          ],
          "name": "stdout"
        }
      ]
    },
    {
      "cell_type": "markdown",
      "metadata": {
        "id": "fW9oJ8PP4dlB",
        "colab_type": "text"
      },
      "source": [
        "With the given keys we may explore the data downloaded:\n",
        "The housing data is stored under 'boston.data':"
      ]
    },
    {
      "cell_type": "code",
      "metadata": {
        "id": "M3A36EUb4ma3",
        "colab_type": "code",
        "outputId": "96353ecf-b1df-4411-b337-9a356c22700b",
        "colab": {
          "base_uri": "https://localhost:8080/",
          "height": 136
        }
      },
      "source": [
        "print(boston.data) #display the housing data"
      ],
      "execution_count": 0,
      "outputs": [
        {
          "output_type": "stream",
          "text": [
            "[[6.3200e-03 1.8000e+01 2.3100e+00 ... 1.5300e+01 3.9690e+02 4.9800e+00]\n",
            " [2.7310e-02 0.0000e+00 7.0700e+00 ... 1.7800e+01 3.9690e+02 9.1400e+00]\n",
            " [2.7290e-02 0.0000e+00 7.0700e+00 ... 1.7800e+01 3.9283e+02 4.0300e+00]\n",
            " ...\n",
            " [6.0760e-02 0.0000e+00 1.1930e+01 ... 2.1000e+01 3.9690e+02 5.6400e+00]\n",
            " [1.0959e-01 0.0000e+00 1.1930e+01 ... 2.1000e+01 3.9345e+02 6.4800e+00]\n",
            " [4.7410e-02 0.0000e+00 1.1930e+01 ... 2.1000e+01 3.9690e+02 7.8800e+00]]\n"
          ],
          "name": "stdout"
        }
      ]
    },
    {
      "cell_type": "markdown",
      "metadata": {
        "id": "mAdkbHzhUVvr",
        "colab_type": "text"
      },
      "source": [
        "We can display the dimensions of the housing data:"
      ]
    },
    {
      "cell_type": "code",
      "metadata": {
        "id": "NdtZA8aswg-P",
        "colab_type": "code",
        "outputId": "fc8b946a-0767-4e98-9ffe-783467e3b17c",
        "colab": {
          "base_uri": "https://localhost:8080/",
          "height": 34
        }
      },
      "source": [
        "print(boston.data.shape) "
      ],
      "execution_count": 0,
      "outputs": [
        {
          "output_type": "stream",
          "text": [
            "(506, 13)\n"
          ],
          "name": "stdout"
        }
      ]
    },
    {
      "cell_type": "markdown",
      "metadata": {
        "id": "DfSUv9NEWVvm",
        "colab_type": "text"
      },
      "source": [
        "The Boston housing dataset consists of 506 rows (observations) and 13 columns (attributes).\n",
        "The column names (attributes) are stored in boston.feature_names :"
      ]
    },
    {
      "cell_type": "code",
      "metadata": {
        "id": "wTOjGXU_wjyv",
        "colab_type": "code",
        "outputId": "8c833458-907f-4556-d79d-441b7e7023dd",
        "colab": {
          "base_uri": "https://localhost:8080/",
          "height": 51
        }
      },
      "source": [
        "print(boston.feature_names)"
      ],
      "execution_count": 0,
      "outputs": [
        {
          "output_type": "stream",
          "text": [
            "['CRIM' 'ZN' 'INDUS' 'CHAS' 'NOX' 'RM' 'AGE' 'DIS' 'RAD' 'TAX' 'PTRATIO'\n",
            " 'B' 'LSTAT']\n"
          ],
          "name": "stdout"
        }
      ]
    },
    {
      "cell_type": "markdown",
      "metadata": {
        "id": "jiMNrM1yWxG6",
        "colab_type": "text"
      },
      "source": [
        "Our dataset has a strange choice of column names, lets look into our dataset's documentation to learn more about the data. It is worthwhile to note that boston.data does not include our target column values. Hopefully a description of the dataset will reveal more information on the structure of the data."
      ]
    },
    {
      "cell_type": "code",
      "metadata": {
        "id": "9Yk01XmlwqUw",
        "colab_type": "code",
        "outputId": "b962d154-c3e4-4dc8-988c-9a4eb93598cd",
        "colab": {
          "base_uri": "https://localhost:8080/",
          "height": 904
        }
      },
      "source": [
        "#description of the dataset\n",
        "print(boston.DESCR)"
      ],
      "execution_count": 0,
      "outputs": [
        {
          "output_type": "stream",
          "text": [
            ".. _boston_dataset:\n",
            "\n",
            "Boston house prices dataset\n",
            "---------------------------\n",
            "\n",
            "**Data Set Characteristics:**  \n",
            "\n",
            "    :Number of Instances: 506 \n",
            "\n",
            "    :Number of Attributes: 13 numeric/categorical predictive. Median Value (attribute 14) is usually the target.\n",
            "\n",
            "    :Attribute Information (in order):\n",
            "        - CRIM     per capita crime rate by town\n",
            "        - ZN       proportion of residential land zoned for lots over 25,000 sq.ft.\n",
            "        - INDUS    proportion of non-retail business acres per town\n",
            "        - CHAS     Charles River dummy variable (= 1 if tract bounds river; 0 otherwise)\n",
            "        - NOX      nitric oxides concentration (parts per 10 million)\n",
            "        - RM       average number of rooms per dwelling\n",
            "        - AGE      proportion of owner-occupied units built prior to 1940\n",
            "        - DIS      weighted distances to five Boston employment centres\n",
            "        - RAD      index of accessibility to radial highways\n",
            "        - TAX      full-value property-tax rate per $10,000\n",
            "        - PTRATIO  pupil-teacher ratio by town\n",
            "        - B        1000(Bk - 0.63)^2 where Bk is the proportion of blacks by town\n",
            "        - LSTAT    % lower status of the population\n",
            "        - MEDV     Median value of owner-occupied homes in $1000's\n",
            "\n",
            "    :Missing Attribute Values: None\n",
            "\n",
            "    :Creator: Harrison, D. and Rubinfeld, D.L.\n",
            "\n",
            "This is a copy of UCI ML housing dataset.\n",
            "https://archive.ics.uci.edu/ml/machine-learning-databases/housing/\n",
            "\n",
            "\n",
            "This dataset was taken from the StatLib library which is maintained at Carnegie Mellon University.\n",
            "\n",
            "The Boston house-price data of Harrison, D. and Rubinfeld, D.L. 'Hedonic\n",
            "prices and the demand for clean air', J. Environ. Economics & Management,\n",
            "vol.5, 81-102, 1978.   Used in Belsley, Kuh & Welsch, 'Regression diagnostics\n",
            "...', Wiley, 1980.   N.B. Various transformations are used in the table on\n",
            "pages 244-261 of the latter.\n",
            "\n",
            "The Boston house-price data has been used in many machine learning papers that address regression\n",
            "problems.   \n",
            "     \n",
            ".. topic:: References\n",
            "\n",
            "   - Belsley, Kuh & Welsch, 'Regression diagnostics: Identifying Influential Data and Sources of Collinearity', Wiley, 1980. 244-261.\n",
            "   - Quinlan,R. (1993). Combining Instance-Based and Model-Based Learning. In Proceedings on the Tenth International Conference of Machine Learning, 236-243, University of Massachusetts, Amherst. Morgan Kaufmann.\n",
            "\n"
          ],
          "name": "stdout"
        }
      ]
    },
    {
      "cell_type": "markdown",
      "metadata": {
        "id": "NVbSxZdOgfxS",
        "colab_type": "text"
      },
      "source": [
        "The documentation of the Boston housing dataset revealed a lot of information regarding our dataset!\n",
        "We confirm that the size of our dataset is 506 measurements with 13 (numerical and categorical) *attributes* of our data. Our data's *target* column is the median value of owner-occupied homes.\n",
        "\n",
        " Our aim for now is to use just three of these attributes (columns) and their corresponding data (506 rows) to *train* a *learning model* which will help predict the target column (median value of owner-occupied homes) of our dataset. "
      ]
    },
    {
      "cell_type": "markdown",
      "metadata": {
        "id": "AIv3IVlvxCjs",
        "colab_type": "text"
      },
      "source": [
        "We will make some small adjustments to this dataset with Pandas. Mainly adding our target value to the dataset, and displaying a quick summary of statistics relevant to the dataset.\n",
        "\n",
        "Recall that pandas is an open source data analysis library with many useful functions for data cleaning and manipulation readily available for us.\n",
        "\n",
        "We will now inport Pandas into our notebook and convert boston.data which is a NumPy ndarray into a Pandas dataframe:"
      ]
    },
    {
      "cell_type": "code",
      "metadata": {
        "id": "pVaRt6-CxOaY",
        "colab_type": "code",
        "outputId": "c594e255-b588-4c2c-d8f2-bcd9d5d33d81",
        "colab": {
          "base_uri": "https://localhost:8080/",
          "height": 34
        }
      },
      "source": [
        "type(boston.data)"
      ],
      "execution_count": 0,
      "outputs": [
        {
          "output_type": "execute_result",
          "data": {
            "text/plain": [
              "numpy.ndarray"
            ]
          },
          "metadata": {
            "tags": []
          },
          "execution_count": 8
        }
      ]
    },
    {
      "cell_type": "code",
      "metadata": {
        "id": "RJk1l2XIw6RD",
        "colab_type": "code",
        "outputId": "3100a6f1-c0a4-42d3-e387-fcd40e42fcc2",
        "colab": {
          "base_uri": "https://localhost:8080/",
          "height": 34
        }
      },
      "source": [
        "import pandas as pd\n",
        "bos = pd.DataFrame(boston.data) #convert boston.data into a Pandas dataframe\n",
        "type(bos)"
      ],
      "execution_count": 0,
      "outputs": [
        {
          "output_type": "execute_result",
          "data": {
            "text/plain": [
              "pandas.core.frame.DataFrame"
            ]
          },
          "metadata": {
            "tags": []
          },
          "execution_count": 9
        }
      ]
    },
    {
      "cell_type": "markdown",
      "metadata": {
        "id": "Gv5Vav4oxbwW",
        "colab_type": "text"
      },
      "source": [
        "We use the df.head() function to display the first 5 features of our dataset."
      ]
    },
    {
      "cell_type": "code",
      "metadata": {
        "id": "QePd8_xtxOCg",
        "colab_type": "code",
        "outputId": "f54798d8-a0c6-4464-e0fc-33d8c3f1f752",
        "colab": {
          "base_uri": "https://localhost:8080/",
          "height": 204
        }
      },
      "source": [
        "bos.head()"
      ],
      "execution_count": 0,
      "outputs": [
        {
          "output_type": "execute_result",
          "data": {
            "text/html": [
              "<div>\n",
              "<style scoped>\n",
              "    .dataframe tbody tr th:only-of-type {\n",
              "        vertical-align: middle;\n",
              "    }\n",
              "\n",
              "    .dataframe tbody tr th {\n",
              "        vertical-align: top;\n",
              "    }\n",
              "\n",
              "    .dataframe thead th {\n",
              "        text-align: right;\n",
              "    }\n",
              "</style>\n",
              "<table border=\"1\" class=\"dataframe\">\n",
              "  <thead>\n",
              "    <tr style=\"text-align: right;\">\n",
              "      <th></th>\n",
              "      <th>0</th>\n",
              "      <th>1</th>\n",
              "      <th>2</th>\n",
              "      <th>3</th>\n",
              "      <th>4</th>\n",
              "      <th>5</th>\n",
              "      <th>6</th>\n",
              "      <th>7</th>\n",
              "      <th>8</th>\n",
              "      <th>9</th>\n",
              "      <th>10</th>\n",
              "      <th>11</th>\n",
              "      <th>12</th>\n",
              "    </tr>\n",
              "  </thead>\n",
              "  <tbody>\n",
              "    <tr>\n",
              "      <th>0</th>\n",
              "      <td>0.00632</td>\n",
              "      <td>18.0</td>\n",
              "      <td>2.31</td>\n",
              "      <td>0.0</td>\n",
              "      <td>0.538</td>\n",
              "      <td>6.575</td>\n",
              "      <td>65.2</td>\n",
              "      <td>4.0900</td>\n",
              "      <td>1.0</td>\n",
              "      <td>296.0</td>\n",
              "      <td>15.3</td>\n",
              "      <td>396.90</td>\n",
              "      <td>4.98</td>\n",
              "    </tr>\n",
              "    <tr>\n",
              "      <th>1</th>\n",
              "      <td>0.02731</td>\n",
              "      <td>0.0</td>\n",
              "      <td>7.07</td>\n",
              "      <td>0.0</td>\n",
              "      <td>0.469</td>\n",
              "      <td>6.421</td>\n",
              "      <td>78.9</td>\n",
              "      <td>4.9671</td>\n",
              "      <td>2.0</td>\n",
              "      <td>242.0</td>\n",
              "      <td>17.8</td>\n",
              "      <td>396.90</td>\n",
              "      <td>9.14</td>\n",
              "    </tr>\n",
              "    <tr>\n",
              "      <th>2</th>\n",
              "      <td>0.02729</td>\n",
              "      <td>0.0</td>\n",
              "      <td>7.07</td>\n",
              "      <td>0.0</td>\n",
              "      <td>0.469</td>\n",
              "      <td>7.185</td>\n",
              "      <td>61.1</td>\n",
              "      <td>4.9671</td>\n",
              "      <td>2.0</td>\n",
              "      <td>242.0</td>\n",
              "      <td>17.8</td>\n",
              "      <td>392.83</td>\n",
              "      <td>4.03</td>\n",
              "    </tr>\n",
              "    <tr>\n",
              "      <th>3</th>\n",
              "      <td>0.03237</td>\n",
              "      <td>0.0</td>\n",
              "      <td>2.18</td>\n",
              "      <td>0.0</td>\n",
              "      <td>0.458</td>\n",
              "      <td>6.998</td>\n",
              "      <td>45.8</td>\n",
              "      <td>6.0622</td>\n",
              "      <td>3.0</td>\n",
              "      <td>222.0</td>\n",
              "      <td>18.7</td>\n",
              "      <td>394.63</td>\n",
              "      <td>2.94</td>\n",
              "    </tr>\n",
              "    <tr>\n",
              "      <th>4</th>\n",
              "      <td>0.06905</td>\n",
              "      <td>0.0</td>\n",
              "      <td>2.18</td>\n",
              "      <td>0.0</td>\n",
              "      <td>0.458</td>\n",
              "      <td>7.147</td>\n",
              "      <td>54.2</td>\n",
              "      <td>6.0622</td>\n",
              "      <td>3.0</td>\n",
              "      <td>222.0</td>\n",
              "      <td>18.7</td>\n",
              "      <td>396.90</td>\n",
              "      <td>5.33</td>\n",
              "    </tr>\n",
              "  </tbody>\n",
              "</table>\n",
              "</div>"
            ],
            "text/plain": [
              "        0     1     2    3      4   ...   8      9     10      11    12\n",
              "0  0.00632  18.0  2.31  0.0  0.538  ...  1.0  296.0  15.3  396.90  4.98\n",
              "1  0.02731   0.0  7.07  0.0  0.469  ...  2.0  242.0  17.8  396.90  9.14\n",
              "2  0.02729   0.0  7.07  0.0  0.469  ...  2.0  242.0  17.8  392.83  4.03\n",
              "3  0.03237   0.0  2.18  0.0  0.458  ...  3.0  222.0  18.7  394.63  2.94\n",
              "4  0.06905   0.0  2.18  0.0  0.458  ...  3.0  222.0  18.7  396.90  5.33\n",
              "\n",
              "[5 rows x 13 columns]"
            ]
          },
          "metadata": {
            "tags": []
          },
          "execution_count": 10
        }
      ]
    },
    {
      "cell_type": "markdown",
      "metadata": {
        "id": "o5cwRKPwxmdp",
        "colab_type": "text"
      },
      "source": [
        "Our dataset's columns have lost their name label and have been indexed from 0-12. This can be solved quickly with Pandas.\n",
        "\n",
        "Recall that our column names were imported as *feature names* from sklearn.datasets . Lets see what they are again: "
      ]
    },
    {
      "cell_type": "code",
      "metadata": {
        "id": "uSYsz_JSxSB_",
        "colab_type": "code",
        "outputId": "4b4863d1-ab19-4ac9-a53a-3a96e6f06daf",
        "colab": {
          "base_uri": "https://localhost:8080/",
          "height": 68
        }
      },
      "source": [
        "#column names\n",
        "print(boston.feature_names)\n",
        "print(type(boston.feature_names))"
      ],
      "execution_count": 0,
      "outputs": [
        {
          "output_type": "stream",
          "text": [
            "['CRIM' 'ZN' 'INDUS' 'CHAS' 'NOX' 'RM' 'AGE' 'DIS' 'RAD' 'TAX' 'PTRATIO'\n",
            " 'B' 'LSTAT']\n",
            "<class 'numpy.ndarray'>\n"
          ],
          "name": "stdout"
        }
      ]
    },
    {
      "cell_type": "markdown",
      "metadata": {
        "id": "0-EJEey9yGRo",
        "colab_type": "text"
      },
      "source": [
        "Simply assign these feature names to the columns of our Pandas dataframe with the df.columns function"
      ]
    },
    {
      "cell_type": "code",
      "metadata": {
        "id": "-oFEmXMiyS8y",
        "colab_type": "code",
        "outputId": "39654d91-f093-4d31-935c-aedc92d86349",
        "colab": {
          "base_uri": "https://localhost:8080/",
          "height": 68
        }
      },
      "source": [
        "bos.columns = boston.feature_names #Assigns the feature names (numpy.ndarray) to the column names of our Pandas dataframe.\n",
        "print(bos.columns)"
      ],
      "execution_count": 0,
      "outputs": [
        {
          "output_type": "stream",
          "text": [
            "Index(['CRIM', 'ZN', 'INDUS', 'CHAS', 'NOX', 'RM', 'AGE', 'DIS', 'RAD', 'TAX',\n",
            "       'PTRATIO', 'B', 'LSTAT'],\n",
            "      dtype='object')\n"
          ],
          "name": "stdout"
        }
      ]
    },
    {
      "cell_type": "markdown",
      "metadata": {
        "id": "Y4a9iMxSzbys",
        "colab_type": "text"
      },
      "source": [
        "Reviewing our dataframe again should display our dataframe with the column names added to it."
      ]
    },
    {
      "cell_type": "code",
      "metadata": {
        "id": "fT_714E8yUX7",
        "colab_type": "code",
        "outputId": "e6eb15d4-667d-4637-d583-a76466f68e67",
        "colab": {
          "base_uri": "https://localhost:8080/",
          "height": 204
        }
      },
      "source": [
        "bos.head()"
      ],
      "execution_count": 0,
      "outputs": [
        {
          "output_type": "execute_result",
          "data": {
            "text/html": [
              "<div>\n",
              "<style scoped>\n",
              "    .dataframe tbody tr th:only-of-type {\n",
              "        vertical-align: middle;\n",
              "    }\n",
              "\n",
              "    .dataframe tbody tr th {\n",
              "        vertical-align: top;\n",
              "    }\n",
              "\n",
              "    .dataframe thead th {\n",
              "        text-align: right;\n",
              "    }\n",
              "</style>\n",
              "<table border=\"1\" class=\"dataframe\">\n",
              "  <thead>\n",
              "    <tr style=\"text-align: right;\">\n",
              "      <th></th>\n",
              "      <th>CRIM</th>\n",
              "      <th>ZN</th>\n",
              "      <th>INDUS</th>\n",
              "      <th>CHAS</th>\n",
              "      <th>NOX</th>\n",
              "      <th>RM</th>\n",
              "      <th>AGE</th>\n",
              "      <th>DIS</th>\n",
              "      <th>RAD</th>\n",
              "      <th>TAX</th>\n",
              "      <th>PTRATIO</th>\n",
              "      <th>B</th>\n",
              "      <th>LSTAT</th>\n",
              "    </tr>\n",
              "  </thead>\n",
              "  <tbody>\n",
              "    <tr>\n",
              "      <th>0</th>\n",
              "      <td>0.00632</td>\n",
              "      <td>18.0</td>\n",
              "      <td>2.31</td>\n",
              "      <td>0.0</td>\n",
              "      <td>0.538</td>\n",
              "      <td>6.575</td>\n",
              "      <td>65.2</td>\n",
              "      <td>4.0900</td>\n",
              "      <td>1.0</td>\n",
              "      <td>296.0</td>\n",
              "      <td>15.3</td>\n",
              "      <td>396.90</td>\n",
              "      <td>4.98</td>\n",
              "    </tr>\n",
              "    <tr>\n",
              "      <th>1</th>\n",
              "      <td>0.02731</td>\n",
              "      <td>0.0</td>\n",
              "      <td>7.07</td>\n",
              "      <td>0.0</td>\n",
              "      <td>0.469</td>\n",
              "      <td>6.421</td>\n",
              "      <td>78.9</td>\n",
              "      <td>4.9671</td>\n",
              "      <td>2.0</td>\n",
              "      <td>242.0</td>\n",
              "      <td>17.8</td>\n",
              "      <td>396.90</td>\n",
              "      <td>9.14</td>\n",
              "    </tr>\n",
              "    <tr>\n",
              "      <th>2</th>\n",
              "      <td>0.02729</td>\n",
              "      <td>0.0</td>\n",
              "      <td>7.07</td>\n",
              "      <td>0.0</td>\n",
              "      <td>0.469</td>\n",
              "      <td>7.185</td>\n",
              "      <td>61.1</td>\n",
              "      <td>4.9671</td>\n",
              "      <td>2.0</td>\n",
              "      <td>242.0</td>\n",
              "      <td>17.8</td>\n",
              "      <td>392.83</td>\n",
              "      <td>4.03</td>\n",
              "    </tr>\n",
              "    <tr>\n",
              "      <th>3</th>\n",
              "      <td>0.03237</td>\n",
              "      <td>0.0</td>\n",
              "      <td>2.18</td>\n",
              "      <td>0.0</td>\n",
              "      <td>0.458</td>\n",
              "      <td>6.998</td>\n",
              "      <td>45.8</td>\n",
              "      <td>6.0622</td>\n",
              "      <td>3.0</td>\n",
              "      <td>222.0</td>\n",
              "      <td>18.7</td>\n",
              "      <td>394.63</td>\n",
              "      <td>2.94</td>\n",
              "    </tr>\n",
              "    <tr>\n",
              "      <th>4</th>\n",
              "      <td>0.06905</td>\n",
              "      <td>0.0</td>\n",
              "      <td>2.18</td>\n",
              "      <td>0.0</td>\n",
              "      <td>0.458</td>\n",
              "      <td>7.147</td>\n",
              "      <td>54.2</td>\n",
              "      <td>6.0622</td>\n",
              "      <td>3.0</td>\n",
              "      <td>222.0</td>\n",
              "      <td>18.7</td>\n",
              "      <td>396.90</td>\n",
              "      <td>5.33</td>\n",
              "    </tr>\n",
              "  </tbody>\n",
              "</table>\n",
              "</div>"
            ],
            "text/plain": [
              "      CRIM    ZN  INDUS  CHAS    NOX  ...  RAD    TAX  PTRATIO       B  LSTAT\n",
              "0  0.00632  18.0   2.31   0.0  0.538  ...  1.0  296.0     15.3  396.90   4.98\n",
              "1  0.02731   0.0   7.07   0.0  0.469  ...  2.0  242.0     17.8  396.90   9.14\n",
              "2  0.02729   0.0   7.07   0.0  0.469  ...  2.0  242.0     17.8  392.83   4.03\n",
              "3  0.03237   0.0   2.18   0.0  0.458  ...  3.0  222.0     18.7  394.63   2.94\n",
              "4  0.06905   0.0   2.18   0.0  0.458  ...  3.0  222.0     18.7  396.90   5.33\n",
              "\n",
              "[5 rows x 13 columns]"
            ]
          },
          "metadata": {
            "tags": []
          },
          "execution_count": 13
        }
      ]
    },
    {
      "cell_type": "markdown",
      "metadata": {
        "id": "NKQuWyqOy7p7",
        "colab_type": "text"
      },
      "source": [
        "The authors of the dataset have chosen to not include our target column into the dataset. As a result, there is no column named 'PRICE' in our Pandas dataframe.\n",
        "The target column is available as a separate attribute in the Boston bunch called 'target'. "
      ]
    },
    {
      "cell_type": "code",
      "metadata": {
        "id": "jYaWtPBByV5t",
        "colab_type": "code",
        "outputId": "4102cfd7-28c1-4232-c7a0-8a3350c1d4da",
        "colab": {
          "base_uri": "https://localhost:8080/",
          "height": 663
        }
      },
      "source": [
        "#Check\n",
        "print(\"target shape: \" +\"\"+ str(boston.target.shape))\n",
        "print(boston.target) #our target column !"
      ],
      "execution_count": 0,
      "outputs": [
        {
          "output_type": "stream",
          "text": [
            "target shape: (506,)\n",
            "[24.  21.6 34.7 33.4 36.2 28.7 22.9 27.1 16.5 18.9 15.  18.9 21.7 20.4\n",
            " 18.2 19.9 23.1 17.5 20.2 18.2 13.6 19.6 15.2 14.5 15.6 13.9 16.6 14.8\n",
            " 18.4 21.  12.7 14.5 13.2 13.1 13.5 18.9 20.  21.  24.7 30.8 34.9 26.6\n",
            " 25.3 24.7 21.2 19.3 20.  16.6 14.4 19.4 19.7 20.5 25.  23.4 18.9 35.4\n",
            " 24.7 31.6 23.3 19.6 18.7 16.  22.2 25.  33.  23.5 19.4 22.  17.4 20.9\n",
            " 24.2 21.7 22.8 23.4 24.1 21.4 20.  20.8 21.2 20.3 28.  23.9 24.8 22.9\n",
            " 23.9 26.6 22.5 22.2 23.6 28.7 22.6 22.  22.9 25.  20.6 28.4 21.4 38.7\n",
            " 43.8 33.2 27.5 26.5 18.6 19.3 20.1 19.5 19.5 20.4 19.8 19.4 21.7 22.8\n",
            " 18.8 18.7 18.5 18.3 21.2 19.2 20.4 19.3 22.  20.3 20.5 17.3 18.8 21.4\n",
            " 15.7 16.2 18.  14.3 19.2 19.6 23.  18.4 15.6 18.1 17.4 17.1 13.3 17.8\n",
            " 14.  14.4 13.4 15.6 11.8 13.8 15.6 14.6 17.8 15.4 21.5 19.6 15.3 19.4\n",
            " 17.  15.6 13.1 41.3 24.3 23.3 27.  50.  50.  50.  22.7 25.  50.  23.8\n",
            " 23.8 22.3 17.4 19.1 23.1 23.6 22.6 29.4 23.2 24.6 29.9 37.2 39.8 36.2\n",
            " 37.9 32.5 26.4 29.6 50.  32.  29.8 34.9 37.  30.5 36.4 31.1 29.1 50.\n",
            " 33.3 30.3 34.6 34.9 32.9 24.1 42.3 48.5 50.  22.6 24.4 22.5 24.4 20.\n",
            " 21.7 19.3 22.4 28.1 23.7 25.  23.3 28.7 21.5 23.  26.7 21.7 27.5 30.1\n",
            " 44.8 50.  37.6 31.6 46.7 31.5 24.3 31.7 41.7 48.3 29.  24.  25.1 31.5\n",
            " 23.7 23.3 22.  20.1 22.2 23.7 17.6 18.5 24.3 20.5 24.5 26.2 24.4 24.8\n",
            " 29.6 42.8 21.9 20.9 44.  50.  36.  30.1 33.8 43.1 48.8 31.  36.5 22.8\n",
            " 30.7 50.  43.5 20.7 21.1 25.2 24.4 35.2 32.4 32.  33.2 33.1 29.1 35.1\n",
            " 45.4 35.4 46.  50.  32.2 22.  20.1 23.2 22.3 24.8 28.5 37.3 27.9 23.9\n",
            " 21.7 28.6 27.1 20.3 22.5 29.  24.8 22.  26.4 33.1 36.1 28.4 33.4 28.2\n",
            " 22.8 20.3 16.1 22.1 19.4 21.6 23.8 16.2 17.8 19.8 23.1 21.  23.8 23.1\n",
            " 20.4 18.5 25.  24.6 23.  22.2 19.3 22.6 19.8 17.1 19.4 22.2 20.7 21.1\n",
            " 19.5 18.5 20.6 19.  18.7 32.7 16.5 23.9 31.2 17.5 17.2 23.1 24.5 26.6\n",
            " 22.9 24.1 18.6 30.1 18.2 20.6 17.8 21.7 22.7 22.6 25.  19.9 20.8 16.8\n",
            " 21.9 27.5 21.9 23.1 50.  50.  50.  50.  50.  13.8 13.8 15.  13.9 13.3\n",
            " 13.1 10.2 10.4 10.9 11.3 12.3  8.8  7.2 10.5  7.4 10.2 11.5 15.1 23.2\n",
            "  9.7 13.8 12.7 13.1 12.5  8.5  5.   6.3  5.6  7.2 12.1  8.3  8.5  5.\n",
            " 11.9 27.9 17.2 27.5 15.  17.2 17.9 16.3  7.   7.2  7.5 10.4  8.8  8.4\n",
            " 16.7 14.2 20.8 13.4 11.7  8.3 10.2 10.9 11.   9.5 14.5 14.1 16.1 14.3\n",
            " 11.7 13.4  9.6  8.7  8.4 12.8 10.5 17.1 18.4 15.4 10.8 11.8 14.9 12.6\n",
            " 14.1 13.  13.4 15.2 16.1 17.8 14.9 14.1 12.7 13.5 14.9 20.  16.4 17.7\n",
            " 19.5 20.2 21.4 19.9 19.  19.1 19.1 20.1 19.9 19.6 23.2 29.8 13.8 13.3\n",
            " 16.7 12.  14.6 21.4 23.  23.7 25.  21.8 20.6 21.2 19.1 20.6 15.2  7.\n",
            "  8.1 13.6 20.1 21.8 24.5 23.1 19.7 18.3 21.2 17.5 16.8 22.4 20.6 23.9\n",
            " 22.  11.9]\n"
          ],
          "name": "stdout"
        }
      ]
    },
    {
      "cell_type": "markdown",
      "metadata": {
        "id": "1JFB4tffzLW3",
        "colab_type": "text"
      },
      "source": [
        "As we can see our target column exactly matches the number of rows (506) in our Pandas dataset. We will now add the target column to our Pandas dataframe."
      ]
    },
    {
      "cell_type": "code",
      "metadata": {
        "id": "jTmfRUAny3pG",
        "colab_type": "code",
        "outputId": "08df3aa7-7fa1-4b63-ee61-76ba0d22bffc",
        "colab": {
          "base_uri": "https://localhost:8080/",
          "height": 204
        }
      },
      "source": [
        "bos['PRICE'] = boston.target # Add the boston.target rows to a new column in our dataframe 'PRICE' \n",
        "bos.head()"
      ],
      "execution_count": 0,
      "outputs": [
        {
          "output_type": "execute_result",
          "data": {
            "text/html": [
              "<div>\n",
              "<style scoped>\n",
              "    .dataframe tbody tr th:only-of-type {\n",
              "        vertical-align: middle;\n",
              "    }\n",
              "\n",
              "    .dataframe tbody tr th {\n",
              "        vertical-align: top;\n",
              "    }\n",
              "\n",
              "    .dataframe thead th {\n",
              "        text-align: right;\n",
              "    }\n",
              "</style>\n",
              "<table border=\"1\" class=\"dataframe\">\n",
              "  <thead>\n",
              "    <tr style=\"text-align: right;\">\n",
              "      <th></th>\n",
              "      <th>CRIM</th>\n",
              "      <th>ZN</th>\n",
              "      <th>INDUS</th>\n",
              "      <th>CHAS</th>\n",
              "      <th>NOX</th>\n",
              "      <th>RM</th>\n",
              "      <th>AGE</th>\n",
              "      <th>DIS</th>\n",
              "      <th>RAD</th>\n",
              "      <th>TAX</th>\n",
              "      <th>PTRATIO</th>\n",
              "      <th>B</th>\n",
              "      <th>LSTAT</th>\n",
              "      <th>PRICE</th>\n",
              "    </tr>\n",
              "  </thead>\n",
              "  <tbody>\n",
              "    <tr>\n",
              "      <th>0</th>\n",
              "      <td>0.00632</td>\n",
              "      <td>18.0</td>\n",
              "      <td>2.31</td>\n",
              "      <td>0.0</td>\n",
              "      <td>0.538</td>\n",
              "      <td>6.575</td>\n",
              "      <td>65.2</td>\n",
              "      <td>4.0900</td>\n",
              "      <td>1.0</td>\n",
              "      <td>296.0</td>\n",
              "      <td>15.3</td>\n",
              "      <td>396.90</td>\n",
              "      <td>4.98</td>\n",
              "      <td>24.0</td>\n",
              "    </tr>\n",
              "    <tr>\n",
              "      <th>1</th>\n",
              "      <td>0.02731</td>\n",
              "      <td>0.0</td>\n",
              "      <td>7.07</td>\n",
              "      <td>0.0</td>\n",
              "      <td>0.469</td>\n",
              "      <td>6.421</td>\n",
              "      <td>78.9</td>\n",
              "      <td>4.9671</td>\n",
              "      <td>2.0</td>\n",
              "      <td>242.0</td>\n",
              "      <td>17.8</td>\n",
              "      <td>396.90</td>\n",
              "      <td>9.14</td>\n",
              "      <td>21.6</td>\n",
              "    </tr>\n",
              "    <tr>\n",
              "      <th>2</th>\n",
              "      <td>0.02729</td>\n",
              "      <td>0.0</td>\n",
              "      <td>7.07</td>\n",
              "      <td>0.0</td>\n",
              "      <td>0.469</td>\n",
              "      <td>7.185</td>\n",
              "      <td>61.1</td>\n",
              "      <td>4.9671</td>\n",
              "      <td>2.0</td>\n",
              "      <td>242.0</td>\n",
              "      <td>17.8</td>\n",
              "      <td>392.83</td>\n",
              "      <td>4.03</td>\n",
              "      <td>34.7</td>\n",
              "    </tr>\n",
              "    <tr>\n",
              "      <th>3</th>\n",
              "      <td>0.03237</td>\n",
              "      <td>0.0</td>\n",
              "      <td>2.18</td>\n",
              "      <td>0.0</td>\n",
              "      <td>0.458</td>\n",
              "      <td>6.998</td>\n",
              "      <td>45.8</td>\n",
              "      <td>6.0622</td>\n",
              "      <td>3.0</td>\n",
              "      <td>222.0</td>\n",
              "      <td>18.7</td>\n",
              "      <td>394.63</td>\n",
              "      <td>2.94</td>\n",
              "      <td>33.4</td>\n",
              "    </tr>\n",
              "    <tr>\n",
              "      <th>4</th>\n",
              "      <td>0.06905</td>\n",
              "      <td>0.0</td>\n",
              "      <td>2.18</td>\n",
              "      <td>0.0</td>\n",
              "      <td>0.458</td>\n",
              "      <td>7.147</td>\n",
              "      <td>54.2</td>\n",
              "      <td>6.0622</td>\n",
              "      <td>3.0</td>\n",
              "      <td>222.0</td>\n",
              "      <td>18.7</td>\n",
              "      <td>396.90</td>\n",
              "      <td>5.33</td>\n",
              "      <td>36.2</td>\n",
              "    </tr>\n",
              "  </tbody>\n",
              "</table>\n",
              "</div>"
            ],
            "text/plain": [
              "      CRIM    ZN  INDUS  CHAS    NOX  ...    TAX  PTRATIO       B  LSTAT  PRICE\n",
              "0  0.00632  18.0   2.31   0.0  0.538  ...  296.0     15.3  396.90   4.98   24.0\n",
              "1  0.02731   0.0   7.07   0.0  0.469  ...  242.0     17.8  396.90   9.14   21.6\n",
              "2  0.02729   0.0   7.07   0.0  0.469  ...  242.0     17.8  392.83   4.03   34.7\n",
              "3  0.03237   0.0   2.18   0.0  0.458  ...  222.0     18.7  394.63   2.94   33.4\n",
              "4  0.06905   0.0   2.18   0.0  0.458  ...  222.0     18.7  396.90   5.33   36.2\n",
              "\n",
              "[5 rows x 14 columns]"
            ]
          },
          "metadata": {
            "tags": []
          },
          "execution_count": 15
        }
      ]
    },
    {
      "cell_type": "markdown",
      "metadata": {
        "id": "7Kkxtwa7zeL8",
        "colab_type": "text"
      },
      "source": [
        "Our data is officially clean! \n",
        "Lets perform a quick summary of relevant statistics for our data with the Pandas df.describe() function:"
      ]
    },
    {
      "cell_type": "code",
      "metadata": {
        "id": "-szT1Ghe0f1E",
        "colab_type": "code",
        "outputId": "68c8275f-25e2-44e4-a122-aa9db8ba6093",
        "colab": {
          "base_uri": "https://localhost:8080/",
          "height": 317
        }
      },
      "source": [
        "bos.describe() #provides summary statistics"
      ],
      "execution_count": 0,
      "outputs": [
        {
          "output_type": "execute_result",
          "data": {
            "text/html": [
              "<div>\n",
              "<style scoped>\n",
              "    .dataframe tbody tr th:only-of-type {\n",
              "        vertical-align: middle;\n",
              "    }\n",
              "\n",
              "    .dataframe tbody tr th {\n",
              "        vertical-align: top;\n",
              "    }\n",
              "\n",
              "    .dataframe thead th {\n",
              "        text-align: right;\n",
              "    }\n",
              "</style>\n",
              "<table border=\"1\" class=\"dataframe\">\n",
              "  <thead>\n",
              "    <tr style=\"text-align: right;\">\n",
              "      <th></th>\n",
              "      <th>CRIM</th>\n",
              "      <th>ZN</th>\n",
              "      <th>INDUS</th>\n",
              "      <th>CHAS</th>\n",
              "      <th>NOX</th>\n",
              "      <th>RM</th>\n",
              "      <th>AGE</th>\n",
              "      <th>DIS</th>\n",
              "      <th>RAD</th>\n",
              "      <th>TAX</th>\n",
              "      <th>PTRATIO</th>\n",
              "      <th>B</th>\n",
              "      <th>LSTAT</th>\n",
              "      <th>PRICE</th>\n",
              "    </tr>\n",
              "  </thead>\n",
              "  <tbody>\n",
              "    <tr>\n",
              "      <th>count</th>\n",
              "      <td>506.000000</td>\n",
              "      <td>506.000000</td>\n",
              "      <td>506.000000</td>\n",
              "      <td>506.000000</td>\n",
              "      <td>506.000000</td>\n",
              "      <td>506.000000</td>\n",
              "      <td>506.000000</td>\n",
              "      <td>506.000000</td>\n",
              "      <td>506.000000</td>\n",
              "      <td>506.000000</td>\n",
              "      <td>506.000000</td>\n",
              "      <td>506.000000</td>\n",
              "      <td>506.000000</td>\n",
              "      <td>506.000000</td>\n",
              "    </tr>\n",
              "    <tr>\n",
              "      <th>mean</th>\n",
              "      <td>3.613524</td>\n",
              "      <td>11.363636</td>\n",
              "      <td>11.136779</td>\n",
              "      <td>0.069170</td>\n",
              "      <td>0.554695</td>\n",
              "      <td>6.284634</td>\n",
              "      <td>68.574901</td>\n",
              "      <td>3.795043</td>\n",
              "      <td>9.549407</td>\n",
              "      <td>408.237154</td>\n",
              "      <td>18.455534</td>\n",
              "      <td>356.674032</td>\n",
              "      <td>12.653063</td>\n",
              "      <td>22.532806</td>\n",
              "    </tr>\n",
              "    <tr>\n",
              "      <th>std</th>\n",
              "      <td>8.601545</td>\n",
              "      <td>23.322453</td>\n",
              "      <td>6.860353</td>\n",
              "      <td>0.253994</td>\n",
              "      <td>0.115878</td>\n",
              "      <td>0.702617</td>\n",
              "      <td>28.148861</td>\n",
              "      <td>2.105710</td>\n",
              "      <td>8.707259</td>\n",
              "      <td>168.537116</td>\n",
              "      <td>2.164946</td>\n",
              "      <td>91.294864</td>\n",
              "      <td>7.141062</td>\n",
              "      <td>9.197104</td>\n",
              "    </tr>\n",
              "    <tr>\n",
              "      <th>min</th>\n",
              "      <td>0.006320</td>\n",
              "      <td>0.000000</td>\n",
              "      <td>0.460000</td>\n",
              "      <td>0.000000</td>\n",
              "      <td>0.385000</td>\n",
              "      <td>3.561000</td>\n",
              "      <td>2.900000</td>\n",
              "      <td>1.129600</td>\n",
              "      <td>1.000000</td>\n",
              "      <td>187.000000</td>\n",
              "      <td>12.600000</td>\n",
              "      <td>0.320000</td>\n",
              "      <td>1.730000</td>\n",
              "      <td>5.000000</td>\n",
              "    </tr>\n",
              "    <tr>\n",
              "      <th>25%</th>\n",
              "      <td>0.082045</td>\n",
              "      <td>0.000000</td>\n",
              "      <td>5.190000</td>\n",
              "      <td>0.000000</td>\n",
              "      <td>0.449000</td>\n",
              "      <td>5.885500</td>\n",
              "      <td>45.025000</td>\n",
              "      <td>2.100175</td>\n",
              "      <td>4.000000</td>\n",
              "      <td>279.000000</td>\n",
              "      <td>17.400000</td>\n",
              "      <td>375.377500</td>\n",
              "      <td>6.950000</td>\n",
              "      <td>17.025000</td>\n",
              "    </tr>\n",
              "    <tr>\n",
              "      <th>50%</th>\n",
              "      <td>0.256510</td>\n",
              "      <td>0.000000</td>\n",
              "      <td>9.690000</td>\n",
              "      <td>0.000000</td>\n",
              "      <td>0.538000</td>\n",
              "      <td>6.208500</td>\n",
              "      <td>77.500000</td>\n",
              "      <td>3.207450</td>\n",
              "      <td>5.000000</td>\n",
              "      <td>330.000000</td>\n",
              "      <td>19.050000</td>\n",
              "      <td>391.440000</td>\n",
              "      <td>11.360000</td>\n",
              "      <td>21.200000</td>\n",
              "    </tr>\n",
              "    <tr>\n",
              "      <th>75%</th>\n",
              "      <td>3.677083</td>\n",
              "      <td>12.500000</td>\n",
              "      <td>18.100000</td>\n",
              "      <td>0.000000</td>\n",
              "      <td>0.624000</td>\n",
              "      <td>6.623500</td>\n",
              "      <td>94.075000</td>\n",
              "      <td>5.188425</td>\n",
              "      <td>24.000000</td>\n",
              "      <td>666.000000</td>\n",
              "      <td>20.200000</td>\n",
              "      <td>396.225000</td>\n",
              "      <td>16.955000</td>\n",
              "      <td>25.000000</td>\n",
              "    </tr>\n",
              "    <tr>\n",
              "      <th>max</th>\n",
              "      <td>88.976200</td>\n",
              "      <td>100.000000</td>\n",
              "      <td>27.740000</td>\n",
              "      <td>1.000000</td>\n",
              "      <td>0.871000</td>\n",
              "      <td>8.780000</td>\n",
              "      <td>100.000000</td>\n",
              "      <td>12.126500</td>\n",
              "      <td>24.000000</td>\n",
              "      <td>711.000000</td>\n",
              "      <td>22.000000</td>\n",
              "      <td>396.900000</td>\n",
              "      <td>37.970000</td>\n",
              "      <td>50.000000</td>\n",
              "    </tr>\n",
              "  </tbody>\n",
              "</table>\n",
              "</div>"
            ],
            "text/plain": [
              "             CRIM          ZN       INDUS  ...           B       LSTAT       PRICE\n",
              "count  506.000000  506.000000  506.000000  ...  506.000000  506.000000  506.000000\n",
              "mean     3.613524   11.363636   11.136779  ...  356.674032   12.653063   22.532806\n",
              "std      8.601545   23.322453    6.860353  ...   91.294864    7.141062    9.197104\n",
              "min      0.006320    0.000000    0.460000  ...    0.320000    1.730000    5.000000\n",
              "25%      0.082045    0.000000    5.190000  ...  375.377500    6.950000   17.025000\n",
              "50%      0.256510    0.000000    9.690000  ...  391.440000   11.360000   21.200000\n",
              "75%      3.677083   12.500000   18.100000  ...  396.225000   16.955000   25.000000\n",
              "max     88.976200  100.000000   27.740000  ...  396.900000   37.970000   50.000000\n",
              "\n",
              "[8 rows x 14 columns]"
            ]
          },
          "metadata": {
            "tags": []
          },
          "execution_count": 18
        }
      ]
    },
    {
      "cell_type": "markdown",
      "metadata": {
        "id": "nErUQ5BeRXr6",
        "colab_type": "text"
      },
      "source": [
        "While it is handy to work with our dataset in Pandas to clean data, add column names, and obtain statistics, we will now return to working with our data as a numpy array in order to perform various numerical calculations using the NumPy package in Python.\n",
        "\n",
        "Import the NumPy library:"
      ]
    },
    {
      "cell_type": "code",
      "metadata": {
        "id": "XoZwlpdISr-R",
        "colab_type": "code",
        "colab": {}
      },
      "source": [
        "import numpy as np"
      ],
      "execution_count": 0,
      "outputs": []
    },
    {
      "cell_type": "markdown",
      "metadata": {
        "id": "EAWtbTU92Yzi",
        "colab_type": "text"
      },
      "source": [
        "We can use the Pandas.DataFrame.to_numpy() function to convert a Pandas Dataframe to a NumPy ndarray."
      ]
    },
    {
      "cell_type": "code",
      "metadata": {
        "id": "gVdc-_uU0mM4",
        "colab_type": "code",
        "outputId": "33c5aed5-bb3b-4cb0-deac-38c0ac370dc3",
        "colab": {
          "base_uri": "https://localhost:8080/",
          "height": 255
        }
      },
      "source": [
        "bosnp = pd.DataFrame.to_numpy(bos) #convert from Pandas dataframe to NumPy ndarray.\n",
        "print(type(bosnp)) #display the type of data generated\n",
        "bosnp #show data"
      ],
      "execution_count": 0,
      "outputs": [
        {
          "output_type": "stream",
          "text": [
            "<class 'numpy.ndarray'>\n"
          ],
          "name": "stdout"
        },
        {
          "output_type": "execute_result",
          "data": {
            "text/plain": [
              "array([[6.3200e-03, 1.8000e+01, 2.3100e+00, ..., 3.9690e+02, 4.9800e+00,\n",
              "        2.4000e+01],\n",
              "       [2.7310e-02, 0.0000e+00, 7.0700e+00, ..., 3.9690e+02, 9.1400e+00,\n",
              "        2.1600e+01],\n",
              "       [2.7290e-02, 0.0000e+00, 7.0700e+00, ..., 3.9283e+02, 4.0300e+00,\n",
              "        3.4700e+01],\n",
              "       ...,\n",
              "       [6.0760e-02, 0.0000e+00, 1.1930e+01, ..., 3.9690e+02, 5.6400e+00,\n",
              "        2.3900e+01],\n",
              "       [1.0959e-01, 0.0000e+00, 1.1930e+01, ..., 3.9345e+02, 6.4800e+00,\n",
              "        2.2000e+01],\n",
              "       [4.7410e-02, 0.0000e+00, 1.1930e+01, ..., 3.9690e+02, 7.8800e+00,\n",
              "        1.1900e+01]])"
            ]
          },
          "metadata": {
            "tags": []
          },
          "execution_count": 20
        }
      ]
    },
    {
      "cell_type": "markdown",
      "metadata": {
        "id": "m5FnscYL2tY2",
        "colab_type": "text"
      },
      "source": [
        "Lets confirm that the size of our dataset remained unchanged."
      ]
    },
    {
      "cell_type": "code",
      "metadata": {
        "id": "9807xKCCSj00",
        "colab_type": "code",
        "outputId": "9d11babd-620b-4f83-f427-0a1ece56c390",
        "colab": {
          "base_uri": "https://localhost:8080/",
          "height": 51
        }
      },
      "source": [
        "rows, columns = bosnp.shape #assign the dimensions of our dataset to variables\n",
        "print(rows)\n",
        "print(columns)"
      ],
      "execution_count": 0,
      "outputs": [
        {
          "output_type": "stream",
          "text": [
            "506\n",
            "14\n"
          ],
          "name": "stdout"
        }
      ]
    },
    {
      "cell_type": "markdown",
      "metadata": {
        "id": "FpxinTiOWJ-M",
        "colab_type": "text"
      },
      "source": [
        "# Implementing a Generalized Delta Learning Rule with Gradient Descent"
      ]
    },
    {
      "cell_type": "markdown",
      "metadata": {
        "id": "tFQNpVBdcphM",
        "colab_type": "text"
      },
      "source": [
        "<figure>\n",
        "<center>\n",
        "<img src='https://drive.google.com/uc?id=1wBP3Tq8qmGLPWUKD2ESj9ulhXGAiwEFY' alt = \"a neuron\" width=\"600\" height=\"400\" />\n",
        "<figcaption>A model of a single neuron with a bias $b$, inputs $x_{n}$, activation function $\\phi$, and output $y_{k}$</figcaption>\n",
        "</center>\n",
        "</figure>"
      ]
    },
    {
      "cell_type": "markdown",
      "metadata": {
        "id": "cfcKzMcFO93f",
        "colab_type": "text"
      },
      "source": [
        "Now that we have a clean dataset we can turn our focus to creating a neural network to help us with making a prediction process of our dataset. I present a Python program which applies the generalized delta learning rule to the Boston housing data for three attributes: average number of rooms, accessibility to radial highways, and percentage of lower status of the population to help us estimate the target value of owner-occupied homes in the Boston housing dataset. "
      ]
    },
    {
      "cell_type": "markdown",
      "metadata": {
        "id": "JTZi1uhGdcIo",
        "colab_type": "text"
      },
      "source": [
        "Consider a single neuron as presented in Figure 20.1 Given a linear activation function then our output is given by:\n",
        "\n",
        "$ y_{k} = \\sum_{j} w_{kj}x_{j} + b_{k} $\n",
        "\n",
        "With an *error function* defined by the mean squared error:\n",
        "$E = \\frac{1}{2N} \\sum_{x} (E_{k}^{x})^{2} = \\frac{1}{2N} \\sum_{x} (t_{k} - y_{k})^2$\n",
        "\n",
        "Here the x index ranges over all input vectors, $N$ is the number of neurons in our model, $E^{x}$ is the error on vector $x$ and $t_{k}$ is the target output when vector x is presented. \n",
        "\n",
        "The aim is to minimize the error function $E$ with respect to the weights $w_{kj}$. This is an *unconstrained optimization* problem. Parameters $w_{kj}$ are sought to minimize the error. The *method of steepest descent* is applied to the error function to adjust the weights in our neural network.\n",
        "\n",
        "The method of gradient descent we will be using:\n",
        "The gradients $g = x_{k}(1- y_{k}^{2})(y_{k} - t_{k})$ to update each weight:\n",
        "$w_{kj}(n+1) = w_{kj}(n) - \\eta g_{kj} $.\n",
        "\n",
        "We begin our implementation:\n",
        "\n",
        "\n",
        "\n"
      ]
    },
    {
      "cell_type": "code",
      "metadata": {
        "id": "ApwwA8l4VvOv",
        "colab_type": "code",
        "colab": {}
      },
      "source": [
        "columns = 4 #Define the total number of inputs into our model (1 bias + 3 column attributes)\n",
        "X = bosnp[:, [5,8,12]] # cols(attributes): average num. rooms, access.to radial highways, percentage lower status of pop.\n",
        "t = bosnp[:, 13] #target column: median value of owner-occupied homes.\n"
      ],
      "execution_count": 0,
      "outputs": []
    },
    {
      "cell_type": "markdown",
      "metadata": {
        "id": "nNyDdr1oWr1G",
        "colab_type": "text"
      },
      "source": [
        "Initialize our weight arrays and iteration count variable:"
      ]
    },
    {
      "cell_type": "code",
      "metadata": {
        "id": "PinfRTDlWT6G",
        "colab_type": "code",
        "colab": {}
      },
      "source": [
        "ws1, ws2, ws3, ws4 = [], [], [], []\n",
        "k = 0 "
      ],
      "execution_count": 0,
      "outputs": []
    },
    {
      "cell_type": "markdown",
      "metadata": {
        "id": "actP0qI1W_p3",
        "colab_type": "text"
      },
      "source": [
        "We scale our data to a mean of zero:\n"
      ]
    },
    {
      "cell_type": "code",
      "metadata": {
        "id": "Z0uLNetfWUr3",
        "colab_type": "code",
        "colab": {}
      },
      "source": [
        "#Calculate the average\n",
        "xmean = X.mean(axis=0)\n",
        "#Calculate the standard deviation\n",
        "xstd = X.std(axis=0)\n",
        "\n",
        "#Create an array of ones, will help with algebra\n",
        "ones = np.array([np.ones(rows)])\n",
        "\n",
        "#Scale to zero mean\n",
        "X = (X- xmean*ones.T) / (xstd* ones.T)"
      ],
      "execution_count": 0,
      "outputs": []
    },
    {
      "cell_type": "markdown",
      "metadata": {
        "id": "gI6gIkDhnNxq",
        "colab_type": "text"
      },
      "source": [
        "Incorporate a bias (+1) into our model:"
      ]
    },
    {
      "cell_type": "code",
      "metadata": {
        "id": "x2g1DaIWmenL",
        "colab_type": "code",
        "colab": {}
      },
      "source": [
        "#Incorporate our array of ones into our dataset as a bias input\n",
        "X = np.c_[np.ones(rows),X] "
      ],
      "execution_count": 0,
      "outputs": []
    },
    {
      "cell_type": "code",
      "metadata": {
        "id": "0PP09ziFnqmB",
        "colab_type": "code",
        "outputId": "9d91cdcd-edf0-468e-9549-ddf6f24a5568",
        "colab": {
          "base_uri": "https://localhost:8080/",
          "height": 153
        }
      },
      "source": [
        "print(X)\n",
        "print(\"X shape: \"+ \"\" + str(X.shape))"
      ],
      "execution_count": 0,
      "outputs": [
        {
          "output_type": "stream",
          "text": [
            "[[ 1.          0.41367189 -0.98284286 -1.0755623 ]\n",
            " [ 1.          0.19427445 -0.8678825  -0.49243937]\n",
            " [ 1.          1.28271368 -0.8678825  -1.2087274 ]\n",
            " ...\n",
            " [ 1.          0.98496002 -0.98284286 -0.98304761]\n",
            " [ 1.          0.72567214 -0.98284286 -0.86530163]\n",
            " [ 1.         -0.36276709 -0.98284286 -0.66905833]]\n",
            "X shape: (506, 4)\n"
          ],
          "name": "stdout"
        }
      ]
    },
    {
      "cell_type": "markdown",
      "metadata": {
        "id": "lxzsW9jAbfin",
        "colab_type": "text"
      },
      "source": [
        "Additionally, scale the target variable to zero mean:"
      ]
    },
    {
      "cell_type": "code",
      "metadata": {
        "id": "r39Zyhz6XgI5",
        "colab_type": "code",
        "colab": {}
      },
      "source": [
        "#Calculate the average of the target variable\n",
        "tmean = (max(t) + min(t)) / 2\n",
        "#Calculate the standard deviation of the target variable.\n",
        "tstd = (max(t) - min(t)) / 2\n",
        "\n",
        "#Scale to zero mean\n",
        "t = (t - tmean) / tstd\n"
      ],
      "execution_count": 0,
      "outputs": []
    },
    {
      "cell_type": "markdown",
      "metadata": {
        "id": "kNz8lmDSiDnp",
        "colab_type": "text"
      },
      "source": [
        "Our data is labelled and scaled! We are now ready to implement the learning process. We begin by assigning small random weights to our weight vector:"
      ]
    },
    {
      "cell_type": "code",
      "metadata": {
        "id": "BqSZXIWbXhCZ",
        "colab_type": "code",
        "colab": {}
      },
      "source": [
        "w = 0.1 * np.random.random(columns)"
      ],
      "execution_count": 0,
      "outputs": []
    },
    {
      "cell_type": "markdown",
      "metadata": {
        "id": "3IToeJOCo4VZ",
        "colab_type": "text"
      },
      "source": [
        "Since the value of the weights have a direct impact on how each of the features are being taken into account and since we chosen the weights at random, **we are extremely likely to obtain a large error in our initial learning exercise**. We will see how the *gradient descent* method will yield an optimized set of parameters $w_{kj}$ such that they minimize the error from our predicted value $y_{k}$ and the correct target value $t_{k}$.\n",
        "\n",
        "We also fix our learning rate parameter $\\eta$ and introduce an epoch value, which corresponds to the number of times we wish to subject our dataset to the *learning process* to improve its accuracy.\n",
        " "
      ]
    },
    {
      "cell_type": "code",
      "metadata": {
        "id": "MxvCX2H3qBc0",
        "colab_type": "code",
        "colab": {}
      },
      "source": [
        "num_epochs = 10 #number of iterations\n",
        "eta = 0.001"
      ],
      "execution_count": 0,
      "outputs": []
    },
    {
      "cell_type": "markdown",
      "metadata": {
        "id": "uAvNCl8micch",
        "colab_type": "text"
      },
      "source": [
        "Calculate our first output vector with the random weights:\n",
        "We are using $\\phi (v) = tanh(v)$ as our activation function."
      ]
    },
    {
      "cell_type": "code",
      "metadata": {
        "id": "To44ZLjdX0JW",
        "colab_type": "code",
        "colab": {}
      },
      "source": [
        "y1 = np.tanh(X.dot(w))"
      ],
      "execution_count": 0,
      "outputs": []
    },
    {
      "cell_type": "markdown",
      "metadata": {
        "id": "bQ6zfB1UjEzo",
        "colab_type": "text"
      },
      "source": [
        "Determine our error given the respective target variable t and our newly calculated output using our random weights:"
      ]
    },
    {
      "cell_type": "code",
      "metadata": {
        "id": "fDkmsz2vX01H",
        "colab_type": "code",
        "colab": {}
      },
      "source": [
        "e1 = t - y1 #first error calculation\n",
        "mse = np.var(e1) #variance of our error"
      ],
      "execution_count": 0,
      "outputs": []
    },
    {
      "cell_type": "markdown",
      "metadata": {
        "id": "VY_rfS67txxo",
        "colab_type": "text"
      },
      "source": [
        "Update our iteration count (we have performed one calculation)."
      ]
    },
    {
      "cell_type": "code",
      "metadata": {
        "id": "T-aBEqfAjcEX",
        "colab_type": "code",
        "colab": {}
      },
      "source": [
        "k = 1"
      ],
      "execution_count": 0,
      "outputs": []
    },
    {
      "cell_type": "markdown",
      "metadata": {
        "id": "nSgd0eZijSyX",
        "colab_type": "text"
      },
      "source": [
        "Now we iterate this same procedure over the total number of epochs we have chosen. At the end of all epochs we store all our weight values into an array where we can investigate to which values our parameters converged to."
      ]
    },
    {
      "cell_type": "code",
      "metadata": {
        "id": "c6VIaJqEt_W8",
        "colab_type": "code",
        "colab": {}
      },
      "source": [
        "for m in range(num_epochs): #number of calculations \n",
        "  for n in range(rows):\n",
        "    ## Calculate new output given the new weights and calculate the error.\n",
        "\n",
        "    yk = np.tanh(X[n,:].dot(w)) #new output vector given new weight vector\n",
        "    err = yk - t[n] #error recalculation step\n",
        "\n",
        "    ## Now use gradient descent to calculate new weights w for the next loop.\n",
        "    \n",
        "    g = X[n,:].T * ((1 - yk**2) * err) #first recalculate the new gradient vector g\n",
        "    w = w - eta * g #delta rule for a linear activation function\n",
        "    k += 1 #update our iteration parameter count\n",
        "\n",
        "    ##Append new weight values into our list of weight values \n",
        "    \n",
        "    ws1.append([k, np.array(w[0]).tolist()])\n",
        "    ws2.append([k, np.array(w[1]).tolist()])\n",
        "    ws3.append([k, np.array(w[2]).tolist()])\n",
        "    ws4.append([k, np.array(w[3]).tolist()])\n",
        "\n",
        "## Store our complete list of iteration counts-weight values as a NumPy array.\n",
        "ws1 = np.array(ws1)\n",
        "ws2 = np.array(ws2)\n",
        "ws3 = np.array(ws3)\n",
        "ws4 = np.array(ws4)     "
      ],
      "execution_count": 0,
      "outputs": []
    },
    {
      "cell_type": "markdown",
      "metadata": {
        "id": "tqHnjKE53vbj",
        "colab_type": "text"
      },
      "source": [
        "Our weight vectors $\\sum_{i=1} ^ {n=4} w_{i}$ are now stored as NumPy arrays. For each weight, we may now check the parameter value to which our gradient descent model converged to, given our number of epochs and learning parameter $\\eta$."
      ]
    },
    {
      "cell_type": "code",
      "metadata": {
        "id": "azN_DlxM3VWT",
        "colab_type": "code",
        "outputId": "9847d3ea-a089-4b5c-f459-6eff38f22769",
        "colab": {
          "base_uri": "https://localhost:8080/",
          "height": 34
        }
      },
      "source": [
        "k #the total number of iterations our program performed"
      ],
      "execution_count": 0,
      "outputs": [
        {
          "output_type": "execute_result",
          "data": {
            "text/plain": [
              "5061"
            ]
          },
          "metadata": {
            "tags": []
          },
          "execution_count": 34
        }
      ]
    },
    {
      "cell_type": "code",
      "metadata": {
        "id": "-FUVY-XA6gpH",
        "colab_type": "code",
        "outputId": "797bd57d-aacd-43c6-a111-a374189627b1",
        "colab": {
          "base_uri": "https://localhost:8080/",
          "height": 85
        }
      },
      "source": [
        "ws1f = ws1[k-2][1]\n",
        "ws2f = ws2[k-2][1]\n",
        "ws3f = ws3[k-2][1]\n",
        "ws4f = ws4[k-2][1]\n",
        "print(ws1f)\n",
        "print(ws2f)\n",
        "print(ws3f)\n",
        "print(ws4f)"
      ],
      "execution_count": 0,
      "outputs": [
        {
          "output_type": "stream",
          "text": [
            "-0.2644246610778815\n",
            "0.21528347662655192\n",
            "-0.04513856184549004\n",
            "-0.21603947335808393\n"
          ],
          "name": "stdout"
        }
      ]
    },
    {
      "cell_type": "markdown",
      "metadata": {
        "id": "0Lyma3Uk7lWT",
        "colab_type": "text"
      },
      "source": [
        "From reading the last of our parameter values from our NumPy array's of weights we can see our weight values:\n",
        "\n",
        "\n",
        "1.   $w_{1} = w_{1f} = -0.27$ \n",
        "2.   $w_{2} = w_{2f} = 0.21$ \n",
        "3.   $w_{3} = w_{3f} = -0.04$ \n",
        "4.   $w_{4} = w_{4f} = -0.24$ \n",
        "\n",
        "\n",
        "\n"
      ]
    },
    {
      "cell_type": "markdown",
      "metadata": {
        "id": "rCaAoszVBqKC",
        "colab_type": "text"
      },
      "source": [
        "It is much easier to visualize our weight values converging if we interpret this visually through a graph.\n",
        "We now import matplotlib to help us with creating mathematical graphs."
      ]
    },
    {
      "cell_type": "code",
      "metadata": {
        "id": "Z6BiRdGj6lA0",
        "colab_type": "code",
        "colab": {}
      },
      "source": [
        "import matplotlib.pyplot as plt"
      ],
      "execution_count": 0,
      "outputs": []
    },
    {
      "cell_type": "markdown",
      "metadata": {
        "id": "aYRlGXy8CB4n",
        "colab_type": "text"
      },
      "source": [
        "We create our plot with the following code:"
      ]
    },
    {
      "cell_type": "code",
      "metadata": {
        "id": "Kh7xzkPGCAXT",
        "colab_type": "code",
        "outputId": "a1514866-e9ee-49ea-c468-ab6eb719b0d6",
        "colab": {
          "base_uri": "https://localhost:8080/",
          "height": 307
        }
      },
      "source": [
        "## Plot our iteration number k vs weight value\n",
        "\n",
        "plt.plot(ws1[:,0], ws1[:,1], 'k.', markersize=0.1)\n",
        "plt.plot(ws2[:,0], ws2[:,1], 'g.', markersize=0.1)\n",
        "plt.plot(ws3[:,0], ws3[:,1], 'b.', markersize=0.1)\n",
        "plt.plot(ws4[:,0], ws4[:,1], 'r.', markersize=0.1)\n",
        "\n",
        "## Label our axes\n",
        "plt.xlabel('Number of iterations', fontsize=15)\n",
        "plt.ylabel('Weights', fontsize = 15)\n",
        "plt.title(\"Weight value convergence over number of iterations.\", fontsize=15)\n",
        "plt.tick_params(labelsize=15)\n",
        "plt.show()"
      ],
      "execution_count": 0,
      "outputs": [
        {
          "output_type": "display_data",
          "data": {
            "image/png": "[encoded data removed]",
            "text/plain": [
              "<Figure size 432x288 with 1 Axes>"
            ]
          },
          "metadata": {
            "tags": []
          }
        }
      ]
    },
    {
      "cell_type": "markdown",
      "metadata": {
        "id": "sQjtgeDAkkiG",
        "colab_type": "text"
      },
      "source": [
        "We have seen how a non-linear activation function has resulted in a convergence of our weight values as our number of iterations increased. This is an example of a simple three-neuron +bias feed forward network; there were no hidden layers and there was only one output. In the following exercise we will use a generalized delta rule with batch backpropagation of errors on the full dataset. We will use the same activation function but include a hidden layer in the neural network. In general we can work with any number of hidden layers although in general one suffices. It has been shown that one hidden layer is sufficient to approximate any continuous function. "
      ]
    }
  ]
}