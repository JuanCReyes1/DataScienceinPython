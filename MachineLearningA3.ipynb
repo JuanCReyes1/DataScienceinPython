{
  "nbformat": 4,
  "nbformat_minor": 0,
  "metadata": {
    "colab": {
      "name": "MachineLearningA3.ipynb",
      "provenance": [],
      "collapsed_sections": [],
      "include_colab_link": true
    },
    "kernelspec": {
      "display_name": "Python 3",
      "language": "python",
      "name": "python3"
    },
    "language_info": {
      "codemirror_mode": {
        "name": "ipython",
        "version": 3
      },
      "file_extension": ".py",
      "mimetype": "text/x-python",
      "name": "python",
      "nbconvert_exporter": "python",
      "pygments_lexer": "ipython3",
      "version": "3.7.3"
    },
    "widgets": {
      "application/vnd.jupyter.widget-state+json": {
        "d6dd1f3e8bfe431c996a27c4cd48becd": {
          "model_module": "@jupyter-widgets/controls",
          "model_name": "HBoxModel",
          "state": {
            "_view_name": "HBoxView",
            "_dom_classes": [],
            "_model_name": "HBoxModel",
            "_view_module": "@jupyter-widgets/controls",
            "_model_module_version": "1.5.0",
            "_view_count": null,
            "_view_module_version": "1.5.0",
            "box_style": "",
            "layout": "IPY_MODEL_06b25a213335403e8bfcbb30b1e7572a",
            "_model_module": "@jupyter-widgets/controls",
            "children": [
              "IPY_MODEL_5a36ad288b6b4b7ea0784f74d82a1f61",
              "IPY_MODEL_1b3651f7ce9944af8f90bca7e54f0d20"
            ]
          }
        },
        "06b25a213335403e8bfcbb30b1e7572a": {
          "model_module": "@jupyter-widgets/base",
          "model_name": "LayoutModel",
          "state": {
            "_view_name": "LayoutView",
            "grid_template_rows": null,
            "right": null,
            "justify_content": null,
            "_view_module": "@jupyter-widgets/base",
            "overflow": null,
            "_model_module_version": "1.2.0",
            "_view_count": null,
            "flex_flow": null,
            "width": null,
            "min_width": null,
            "border": null,
            "align_items": null,
            "bottom": null,
            "_model_module": "@jupyter-widgets/base",
            "top": null,
            "grid_column": null,
            "overflow_y": null,
            "overflow_x": null,
            "grid_auto_flow": null,
            "grid_area": null,
            "grid_template_columns": null,
            "flex": null,
            "_model_name": "LayoutModel",
            "justify_items": null,
            "grid_row": null,
            "max_height": null,
            "align_content": null,
            "visibility": null,
            "align_self": null,
            "height": null,
            "min_height": null,
            "padding": null,
            "grid_auto_rows": null,
            "grid_gap": null,
            "max_width": null,
            "order": null,
            "_view_module_version": "1.2.0",
            "grid_template_areas": null,
            "object_position": null,
            "object_fit": null,
            "grid_auto_columns": null,
            "margin": null,
            "display": null,
            "left": null
          }
        },
        "5a36ad288b6b4b7ea0784f74d82a1f61": {
          "model_module": "@jupyter-widgets/controls",
          "model_name": "IntProgressModel",
          "state": {
            "_view_name": "ProgressView",
            "style": "IPY_MODEL_edb5fc756b9d4358847dea08178981ad",
            "_dom_classes": [],
            "description": "",
            "_model_name": "IntProgressModel",
            "bar_style": "info",
            "max": 1,
            "_view_module": "@jupyter-widgets/controls",
            "_model_module_version": "1.5.0",
            "value": 1,
            "_view_count": null,
            "_view_module_version": "1.5.0",
            "orientation": "horizontal",
            "min": 0,
            "description_tooltip": null,
            "_model_module": "@jupyter-widgets/controls",
            "layout": "IPY_MODEL_31f230bcb8cb49df9f9ff5a745b28a43"
          }
        },
        "1b3651f7ce9944af8f90bca7e54f0d20": {
          "model_module": "@jupyter-widgets/controls",
          "model_name": "HTMLModel",
          "state": {
            "_view_name": "HTMLView",
            "style": "IPY_MODEL_30b4714c06124b98965ddf3167754052",
            "_dom_classes": [],
            "description": "",
            "_model_name": "HTMLModel",
            "placeholder": "​",
            "_view_module": "@jupyter-widgets/controls",
            "_model_module_version": "1.5.0",
            "value": " 9920512/? [00:20&lt;00:00, 1305651.87it/s]",
            "_view_count": null,
            "_view_module_version": "1.5.0",
            "description_tooltip": null,
            "_model_module": "@jupyter-widgets/controls",
            "layout": "IPY_MODEL_1fbd8604276b4d4d81223fc51e63d533"
          }
        },
        "edb5fc756b9d4358847dea08178981ad": {
          "model_module": "@jupyter-widgets/controls",
          "model_name": "ProgressStyleModel",
          "state": {
            "_view_name": "StyleView",
            "_model_name": "ProgressStyleModel",
            "description_width": "initial",
            "_view_module": "@jupyter-widgets/base",
            "_model_module_version": "1.5.0",
            "_view_count": null,
            "_view_module_version": "1.2.0",
            "bar_color": null,
            "_model_module": "@jupyter-widgets/controls"
          }
        },
        "31f230bcb8cb49df9f9ff5a745b28a43": {
          "model_module": "@jupyter-widgets/base",
          "model_name": "LayoutModel",
          "state": {
            "_view_name": "LayoutView",
            "grid_template_rows": null,
            "right": null,
            "justify_content": null,
            "_view_module": "@jupyter-widgets/base",
            "overflow": null,
            "_model_module_version": "1.2.0",
            "_view_count": null,
            "flex_flow": null,
            "width": null,
            "min_width": null,
            "border": null,
            "align_items": null,
            "bottom": null,
            "_model_module": "@jupyter-widgets/base",
            "top": null,
            "grid_column": null,
            "overflow_y": null,
            "overflow_x": null,
            "grid_auto_flow": null,
            "grid_area": null,
            "grid_template_columns": null,
            "flex": null,
            "_model_name": "LayoutModel",
            "justify_items": null,
            "grid_row": null,
            "max_height": null,
            "align_content": null,
            "visibility": null,
            "align_self": null,
            "height": null,
            "min_height": null,
            "padding": null,
            "grid_auto_rows": null,
            "grid_gap": null,
            "max_width": null,
            "order": null,
            "_view_module_version": "1.2.0",
            "grid_template_areas": null,
            "object_position": null,
            "object_fit": null,
            "grid_auto_columns": null,
            "margin": null,
            "display": null,
            "left": null
          }
        },
        "30b4714c06124b98965ddf3167754052": {
          "model_module": "@jupyter-widgets/controls",
          "model_name": "DescriptionStyleModel",
          "state": {
            "_view_name": "StyleView",
            "_model_name": "DescriptionStyleModel",
            "description_width": "",
            "_view_module": "@jupyter-widgets/base",
            "_model_module_version": "1.5.0",
            "_view_count": null,
            "_view_module_version": "1.2.0",
            "_model_module": "@jupyter-widgets/controls"
          }
        },
        "1fbd8604276b4d4d81223fc51e63d533": {
          "model_module": "@jupyter-widgets/base",
          "model_name": "LayoutModel",
          "state": {
            "_view_name": "LayoutView",
            "grid_template_rows": null,
            "right": null,
            "justify_content": null,
            "_view_module": "@jupyter-widgets/base",
            "overflow": null,
            "_model_module_version": "1.2.0",
            "_view_count": null,
            "flex_flow": null,
            "width": null,
            "min_width": null,
            "border": null,
            "align_items": null,
            "bottom": null,
            "_model_module": "@jupyter-widgets/base",
            "top": null,
            "grid_column": null,
            "overflow_y": null,
            "overflow_x": null,
            "grid_auto_flow": null,
            "grid_area": null,
            "grid_template_columns": null,
            "flex": null,
            "_model_name": "LayoutModel",
            "justify_items": null,
            "grid_row": null,
            "max_height": null,
            "align_content": null,
            "visibility": null,
            "align_self": null,
            "height": null,
            "min_height": null,
            "padding": null,
            "grid_auto_rows": null,
            "grid_gap": null,
            "max_width": null,
            "order": null,
            "_view_module_version": "1.2.0",
            "grid_template_areas": null,
            "object_position": null,
            "object_fit": null,
            "grid_auto_columns": null,
            "margin": null,
            "display": null,
            "left": null
          }
        },
        "65cb500eb0f44b5cb9962555cf2a5b75": {
          "model_module": "@jupyter-widgets/controls",
          "model_name": "HBoxModel",
          "state": {
            "_view_name": "HBoxView",
            "_dom_classes": [],
            "_model_name": "HBoxModel",
            "_view_module": "@jupyter-widgets/controls",
            "_model_module_version": "1.5.0",
            "_view_count": null,
            "_view_module_version": "1.5.0",
            "box_style": "",
            "layout": "IPY_MODEL_a5ab70ea975c4473b261b2581bc299c7",
            "_model_module": "@jupyter-widgets/controls",
            "children": [
              "IPY_MODEL_9c05fb45c963416e8be393a10d37965c",
              "IPY_MODEL_57ece34c1be546b9bc085e4f213c5c46"
            ]
          }
        },
        "a5ab70ea975c4473b261b2581bc299c7": {
          "model_module": "@jupyter-widgets/base",
          "model_name": "LayoutModel",
          "state": {
            "_view_name": "LayoutView",
            "grid_template_rows": null,
            "right": null,
            "justify_content": null,
            "_view_module": "@jupyter-widgets/base",
            "overflow": null,
            "_model_module_version": "1.2.0",
            "_view_count": null,
            "flex_flow": null,
            "width": null,
            "min_width": null,
            "border": null,
            "align_items": null,
            "bottom": null,
            "_model_module": "@jupyter-widgets/base",
            "top": null,
            "grid_column": null,
            "overflow_y": null,
            "overflow_x": null,
            "grid_auto_flow": null,
            "grid_area": null,
            "grid_template_columns": null,
            "flex": null,
            "_model_name": "LayoutModel",
            "justify_items": null,
            "grid_row": null,
            "max_height": null,
            "align_content": null,
            "visibility": null,
            "align_self": null,
            "height": null,
            "min_height": null,
            "padding": null,
            "grid_auto_rows": null,
            "grid_gap": null,
            "max_width": null,
            "order": null,
            "_view_module_version": "1.2.0",
            "grid_template_areas": null,
            "object_position": null,
            "object_fit": null,
            "grid_auto_columns": null,
            "margin": null,
            "display": null,
            "left": null
          }
        },
        "9c05fb45c963416e8be393a10d37965c": {
          "model_module": "@jupyter-widgets/controls",
          "model_name": "IntProgressModel",
          "state": {
            "_view_name": "ProgressView",
            "style": "IPY_MODEL_8251d663be5d4f848bb2a35378fc065d",
            "_dom_classes": [],
            "description": "",
            "_model_name": "IntProgressModel",
            "bar_style": "success",
            "max": 1,
            "_view_module": "@jupyter-widgets/controls",
            "_model_module_version": "1.5.0",
            "value": 1,
            "_view_count": null,
            "_view_module_version": "1.5.0",
            "orientation": "horizontal",
            "min": 0,
            "description_tooltip": null,
            "_model_module": "@jupyter-widgets/controls",
            "layout": "IPY_MODEL_dd50ebd3f428438aa5a2b5fe2c078580"
          }
        },
        "57ece34c1be546b9bc085e4f213c5c46": {
          "model_module": "@jupyter-widgets/controls",
          "model_name": "HTMLModel",
          "state": {
            "_view_name": "HTMLView",
            "style": "IPY_MODEL_4b4104de5ff24d28aae6cf53711c0df4",
            "_dom_classes": [],
            "description": "",
            "_model_name": "HTMLModel",
            "placeholder": "​",
            "_view_module": "@jupyter-widgets/controls",
            "_model_module_version": "1.5.0",
            "value": " 32768/? [00:02&lt;00:00, 13174.44it/s]",
            "_view_count": null,
            "_view_module_version": "1.5.0",
            "description_tooltip": null,
            "_model_module": "@jupyter-widgets/controls",
            "layout": "IPY_MODEL_33eaf88b16db4ec1aff416ede49ec5d0"
          }
        },
        "8251d663be5d4f848bb2a35378fc065d": {
          "model_module": "@jupyter-widgets/controls",
          "model_name": "ProgressStyleModel",
          "state": {
            "_view_name": "StyleView",
            "_model_name": "ProgressStyleModel",
            "description_width": "initial",
            "_view_module": "@jupyter-widgets/base",
            "_model_module_version": "1.5.0",
            "_view_count": null,
            "_view_module_version": "1.2.0",
            "bar_color": null,
            "_model_module": "@jupyter-widgets/controls"
          }
        },
        "dd50ebd3f428438aa5a2b5fe2c078580": {
          "model_module": "@jupyter-widgets/base",
          "model_name": "LayoutModel",
          "state": {
            "_view_name": "LayoutView",
            "grid_template_rows": null,
            "right": null,
            "justify_content": null,
            "_view_module": "@jupyter-widgets/base",
            "overflow": null,
            "_model_module_version": "1.2.0",
            "_view_count": null,
            "flex_flow": null,
            "width": null,
            "min_width": null,
            "border": null,
            "align_items": null,
            "bottom": null,
            "_model_module": "@jupyter-widgets/base",
            "top": null,
            "grid_column": null,
            "overflow_y": null,
            "overflow_x": null,
            "grid_auto_flow": null,
            "grid_area": null,
            "grid_template_columns": null,
            "flex": null,
            "_model_name": "LayoutModel",
            "justify_items": null,
            "grid_row": null,
            "max_height": null,
            "align_content": null,
            "visibility": null,
            "align_self": null,
            "height": null,
            "min_height": null,
            "padding": null,
            "grid_auto_rows": null,
            "grid_gap": null,
            "max_width": null,
            "order": null,
            "_view_module_version": "1.2.0",
            "grid_template_areas": null,
            "object_position": null,
            "object_fit": null,
            "grid_auto_columns": null,
            "margin": null,
            "display": null,
            "left": null
          }
        },
        "4b4104de5ff24d28aae6cf53711c0df4": {
          "model_module": "@jupyter-widgets/controls",
          "model_name": "DescriptionStyleModel",
          "state": {
            "_view_name": "StyleView",
            "_model_name": "DescriptionStyleModel",
            "description_width": "",
            "_view_module": "@jupyter-widgets/base",
            "_model_module_version": "1.5.0",
            "_view_count": null,
            "_view_module_version": "1.2.0",
            "_model_module": "@jupyter-widgets/controls"
          }
        },
        "33eaf88b16db4ec1aff416ede49ec5d0": {
          "model_module": "@jupyter-widgets/base",
          "model_name": "LayoutModel",
          "state": {
            "_view_name": "LayoutView",
            "grid_template_rows": null,
            "right": null,
            "justify_content": null,
            "_view_module": "@jupyter-widgets/base",
            "overflow": null,
            "_model_module_version": "1.2.0",
            "_view_count": null,
            "flex_flow": null,
            "width": null,
            "min_width": null,
            "border": null,
            "align_items": null,
            "bottom": null,
            "_model_module": "@jupyter-widgets/base",
            "top": null,
            "grid_column": null,
            "overflow_y": null,
            "overflow_x": null,
            "grid_auto_flow": null,
            "grid_area": null,
            "grid_template_columns": null,
            "flex": null,
            "_model_name": "LayoutModel",
            "justify_items": null,
            "grid_row": null,
            "max_height": null,
            "align_content": null,
            "visibility": null,
            "align_self": null,
            "height": null,
            "min_height": null,
            "padding": null,
            "grid_auto_rows": null,
            "grid_gap": null,
            "max_width": null,
            "order": null,
            "_view_module_version": "1.2.0",
            "grid_template_areas": null,
            "object_position": null,
            "object_fit": null,
            "grid_auto_columns": null,
            "margin": null,
            "display": null,
            "left": null
          }
        },
        "aa2c759e3b9d4ddcbb489c82b85b0a7c": {
          "model_module": "@jupyter-widgets/controls",
          "model_name": "HBoxModel",
          "state": {
            "_view_name": "HBoxView",
            "_dom_classes": [],
            "_model_name": "HBoxModel",
            "_view_module": "@jupyter-widgets/controls",
            "_model_module_version": "1.5.0",
            "_view_count": null,
            "_view_module_version": "1.5.0",
            "box_style": "",
            "layout": "IPY_MODEL_e7a7a2aede2c417dbb48e358daed5f9b",
            "_model_module": "@jupyter-widgets/controls",
            "children": [
              "IPY_MODEL_3a89144fb21d4ee889fe830d95d55b08",
              "IPY_MODEL_2f547b12f38a4f89b9c78a047f17928a"
            ]
          }
        },
        "e7a7a2aede2c417dbb48e358daed5f9b": {
          "model_module": "@jupyter-widgets/base",
          "model_name": "LayoutModel",
          "state": {
            "_view_name": "LayoutView",
            "grid_template_rows": null,
            "right": null,
            "justify_content": null,
            "_view_module": "@jupyter-widgets/base",
            "overflow": null,
            "_model_module_version": "1.2.0",
            "_view_count": null,
            "flex_flow": null,
            "width": null,
            "min_width": null,
            "border": null,
            "align_items": null,
            "bottom": null,
            "_model_module": "@jupyter-widgets/base",
            "top": null,
            "grid_column": null,
            "overflow_y": null,
            "overflow_x": null,
            "grid_auto_flow": null,
            "grid_area": null,
            "grid_template_columns": null,
            "flex": null,
            "_model_name": "LayoutModel",
            "justify_items": null,
            "grid_row": null,
            "max_height": null,
            "align_content": null,
            "visibility": null,
            "align_self": null,
            "height": null,
            "min_height": null,
            "padding": null,
            "grid_auto_rows": null,
            "grid_gap": null,
            "max_width": null,
            "order": null,
            "_view_module_version": "1.2.0",
            "grid_template_areas": null,
            "object_position": null,
            "object_fit": null,
            "grid_auto_columns": null,
            "margin": null,
            "display": null,
            "left": null
          }
        },
        "3a89144fb21d4ee889fe830d95d55b08": {
          "model_module": "@jupyter-widgets/controls",
          "model_name": "IntProgressModel",
          "state": {
            "_view_name": "ProgressView",
            "style": "IPY_MODEL_c0657b98c67d4e6997acfdb8aa6ac09d",
            "_dom_classes": [],
            "description": "",
            "_model_name": "IntProgressModel",
            "bar_style": "success",
            "max": 1,
            "_view_module": "@jupyter-widgets/controls",
            "_model_module_version": "1.5.0",
            "value": 1,
            "_view_count": null,
            "_view_module_version": "1.5.0",
            "orientation": "horizontal",
            "min": 0,
            "description_tooltip": null,
            "_model_module": "@jupyter-widgets/controls",
            "layout": "IPY_MODEL_5cf590fcc36d477db3bf010c500b62ad"
          }
        },
        "2f547b12f38a4f89b9c78a047f17928a": {
          "model_module": "@jupyter-widgets/controls",
          "model_name": "HTMLModel",
          "state": {
            "_view_name": "HTMLView",
            "style": "IPY_MODEL_a033447f3cf6400d99f745f518a906b0",
            "_dom_classes": [],
            "description": "",
            "_model_name": "HTMLModel",
            "placeholder": "​",
            "_view_module": "@jupyter-widgets/controls",
            "_model_module_version": "1.5.0",
            "value": " 1654784/? [00:01&lt;00:00, 909502.12it/s]",
            "_view_count": null,
            "_view_module_version": "1.5.0",
            "description_tooltip": null,
            "_model_module": "@jupyter-widgets/controls",
            "layout": "IPY_MODEL_7f5470def346435db5d93169e531353d"
          }
        },
        "c0657b98c67d4e6997acfdb8aa6ac09d": {
          "model_module": "@jupyter-widgets/controls",
          "model_name": "ProgressStyleModel",
          "state": {
            "_view_name": "StyleView",
            "_model_name": "ProgressStyleModel",
            "description_width": "initial",
            "_view_module": "@jupyter-widgets/base",
            "_model_module_version": "1.5.0",
            "_view_count": null,
            "_view_module_version": "1.2.0",
            "bar_color": null,
            "_model_module": "@jupyter-widgets/controls"
          }
        },
        "5cf590fcc36d477db3bf010c500b62ad": {
          "model_module": "@jupyter-widgets/base",
          "model_name": "LayoutModel",
          "state": {
            "_view_name": "LayoutView",
            "grid_template_rows": null,
            "right": null,
            "justify_content": null,
            "_view_module": "@jupyter-widgets/base",
            "overflow": null,
            "_model_module_version": "1.2.0",
            "_view_count": null,
            "flex_flow": null,
            "width": null,
            "min_width": null,
            "border": null,
            "align_items": null,
            "bottom": null,
            "_model_module": "@jupyter-widgets/base",
            "top": null,
            "grid_column": null,
            "overflow_y": null,
            "overflow_x": null,
            "grid_auto_flow": null,
            "grid_area": null,
            "grid_template_columns": null,
            "flex": null,
            "_model_name": "LayoutModel",
            "justify_items": null,
            "grid_row": null,
            "max_height": null,
            "align_content": null,
            "visibility": null,
            "align_self": null,
            "height": null,
            "min_height": null,
            "padding": null,
            "grid_auto_rows": null,
            "grid_gap": null,
            "max_width": null,
            "order": null,
            "_view_module_version": "1.2.0",
            "grid_template_areas": null,
            "object_position": null,
            "object_fit": null,
            "grid_auto_columns": null,
            "margin": null,
            "display": null,
            "left": null
          }
        },
        "a033447f3cf6400d99f745f518a906b0": {
          "model_module": "@jupyter-widgets/controls",
          "model_name": "DescriptionStyleModel",
          "state": {
            "_view_name": "StyleView",
            "_model_name": "DescriptionStyleModel",
            "description_width": "",
            "_view_module": "@jupyter-widgets/base",
            "_model_module_version": "1.5.0",
            "_view_count": null,
            "_view_module_version": "1.2.0",
            "_model_module": "@jupyter-widgets/controls"
          }
        },
        "7f5470def346435db5d93169e531353d": {
          "model_module": "@jupyter-widgets/base",
          "model_name": "LayoutModel",
          "state": {
            "_view_name": "LayoutView",
            "grid_template_rows": null,
            "right": null,
            "justify_content": null,
            "_view_module": "@jupyter-widgets/base",
            "overflow": null,
            "_model_module_version": "1.2.0",
            "_view_count": null,
            "flex_flow": null,
            "width": null,
            "min_width": null,
            "border": null,
            "align_items": null,
            "bottom": null,
            "_model_module": "@jupyter-widgets/base",
            "top": null,
            "grid_column": null,
            "overflow_y": null,
            "overflow_x": null,
            "grid_auto_flow": null,
            "grid_area": null,
            "grid_template_columns": null,
            "flex": null,
            "_model_name": "LayoutModel",
            "justify_items": null,
            "grid_row": null,
            "max_height": null,
            "align_content": null,
            "visibility": null,
            "align_self": null,
            "height": null,
            "min_height": null,
            "padding": null,
            "grid_auto_rows": null,
            "grid_gap": null,
            "max_width": null,
            "order": null,
            "_view_module_version": "1.2.0",
            "grid_template_areas": null,
            "object_position": null,
            "object_fit": null,
            "grid_auto_columns": null,
            "margin": null,
            "display": null,
            "left": null
          }
        },
        "eb90744269d24503822318c17a4f13f3": {
          "model_module": "@jupyter-widgets/controls",
          "model_name": "HBoxModel",
          "state": {
            "_view_name": "HBoxView",
            "_dom_classes": [],
            "_model_name": "HBoxModel",
            "_view_module": "@jupyter-widgets/controls",
            "_model_module_version": "1.5.0",
            "_view_count": null,
            "_view_module_version": "1.5.0",
            "box_style": "",
            "layout": "IPY_MODEL_808c88dcfe0f4188a5916a1950931298",
            "_model_module": "@jupyter-widgets/controls",
            "children": [
              "IPY_MODEL_cda69429fcb9473facdd83de683231df",
              "IPY_MODEL_9d77d99af3a34d1c94446f16edb04d81"
            ]
          }
        },
        "808c88dcfe0f4188a5916a1950931298": {
          "model_module": "@jupyter-widgets/base",
          "model_name": "LayoutModel",
          "state": {
            "_view_name": "LayoutView",
            "grid_template_rows": null,
            "right": null,
            "justify_content": null,
            "_view_module": "@jupyter-widgets/base",
            "overflow": null,
            "_model_module_version": "1.2.0",
            "_view_count": null,
            "flex_flow": null,
            "width": null,
            "min_width": null,
            "border": null,
            "align_items": null,
            "bottom": null,
            "_model_module": "@jupyter-widgets/base",
            "top": null,
            "grid_column": null,
            "overflow_y": null,
            "overflow_x": null,
            "grid_auto_flow": null,
            "grid_area": null,
            "grid_template_columns": null,
            "flex": null,
            "_model_name": "LayoutModel",
            "justify_items": null,
            "grid_row": null,
            "max_height": null,
            "align_content": null,
            "visibility": null,
            "align_self": null,
            "height": null,
            "min_height": null,
            "padding": null,
            "grid_auto_rows": null,
            "grid_gap": null,
            "max_width": null,
            "order": null,
            "_view_module_version": "1.2.0",
            "grid_template_areas": null,
            "object_position": null,
            "object_fit": null,
            "grid_auto_columns": null,
            "margin": null,
            "display": null,
            "left": null
          }
        },
        "cda69429fcb9473facdd83de683231df": {
          "model_module": "@jupyter-widgets/controls",
          "model_name": "IntProgressModel",
          "state": {
            "_view_name": "ProgressView",
            "style": "IPY_MODEL_98719b2366ce4b29bdf65c1420e7e46e",
            "_dom_classes": [],
            "description": "",
            "_model_name": "IntProgressModel",
            "bar_style": "success",
            "max": 1,
            "_view_module": "@jupyter-widgets/controls",
            "_model_module_version": "1.5.0",
            "value": 1,
            "_view_count": null,
            "_view_module_version": "1.5.0",
            "orientation": "horizontal",
            "min": 0,
            "description_tooltip": null,
            "_model_module": "@jupyter-widgets/controls",
            "layout": "IPY_MODEL_d61a671951c8473faf853180203bd8ee"
          }
        },
        "9d77d99af3a34d1c94446f16edb04d81": {
          "model_module": "@jupyter-widgets/controls",
          "model_name": "HTMLModel",
          "state": {
            "_view_name": "HTMLView",
            "style": "IPY_MODEL_14ce640285e6429dbc2b7f05a95e55dc",
            "_dom_classes": [],
            "description": "",
            "_model_name": "HTMLModel",
            "placeholder": "​",
            "_view_module": "@jupyter-widgets/controls",
            "_model_module_version": "1.5.0",
            "value": " 8192/? [00:00&lt;00:00, 9713.23it/s]",
            "_view_count": null,
            "_view_module_version": "1.5.0",
            "description_tooltip": null,
            "_model_module": "@jupyter-widgets/controls",
            "layout": "IPY_MODEL_5dc7ad0d0f964e34a3941530dbf2830b"
          }
        },
        "98719b2366ce4b29bdf65c1420e7e46e": {
          "model_module": "@jupyter-widgets/controls",
          "model_name": "ProgressStyleModel",
          "state": {
            "_view_name": "StyleView",
            "_model_name": "ProgressStyleModel",
            "description_width": "initial",
            "_view_module": "@jupyter-widgets/base",
            "_model_module_version": "1.5.0",
            "_view_count": null,
            "_view_module_version": "1.2.0",
            "bar_color": null,
            "_model_module": "@jupyter-widgets/controls"
          }
        },
        "d61a671951c8473faf853180203bd8ee": {
          "model_module": "@jupyter-widgets/base",
          "model_name": "LayoutModel",
          "state": {
            "_view_name": "LayoutView",
            "grid_template_rows": null,
            "right": null,
            "justify_content": null,
            "_view_module": "@jupyter-widgets/base",
            "overflow": null,
            "_model_module_version": "1.2.0",
            "_view_count": null,
            "flex_flow": null,
            "width": null,
            "min_width": null,
            "border": null,
            "align_items": null,
            "bottom": null,
            "_model_module": "@jupyter-widgets/base",
            "top": null,
            "grid_column": null,
            "overflow_y": null,
            "overflow_x": null,
            "grid_auto_flow": null,
            "grid_area": null,
            "grid_template_columns": null,
            "flex": null,
            "_model_name": "LayoutModel",
            "justify_items": null,
            "grid_row": null,
            "max_height": null,
            "align_content": null,
            "visibility": null,
            "align_self": null,
            "height": null,
            "min_height": null,
            "padding": null,
            "grid_auto_rows": null,
            "grid_gap": null,
            "max_width": null,
            "order": null,
            "_view_module_version": "1.2.0",
            "grid_template_areas": null,
            "object_position": null,
            "object_fit": null,
            "grid_auto_columns": null,
            "margin": null,
            "display": null,
            "left": null
          }
        },
        "14ce640285e6429dbc2b7f05a95e55dc": {
          "model_module": "@jupyter-widgets/controls",
          "model_name": "DescriptionStyleModel",
          "state": {
            "_view_name": "StyleView",
            "_model_name": "DescriptionStyleModel",
            "description_width": "",
            "_view_module": "@jupyter-widgets/base",
            "_model_module_version": "1.5.0",
            "_view_count": null,
            "_view_module_version": "1.2.0",
            "_model_module": "@jupyter-widgets/controls"
          }
        },
        "5dc7ad0d0f964e34a3941530dbf2830b": {
          "model_module": "@jupyter-widgets/base",
          "model_name": "LayoutModel",
          "state": {
            "_view_name": "LayoutView",
            "grid_template_rows": null,
            "right": null,
            "justify_content": null,
            "_view_module": "@jupyter-widgets/base",
            "overflow": null,
            "_model_module_version": "1.2.0",
            "_view_count": null,
            "flex_flow": null,
            "width": null,
            "min_width": null,
            "border": null,
            "align_items": null,
            "bottom": null,
            "_model_module": "@jupyter-widgets/base",
            "top": null,
            "grid_column": null,
            "overflow_y": null,
            "overflow_x": null,
            "grid_auto_flow": null,
            "grid_area": null,
            "grid_template_columns": null,
            "flex": null,
            "_model_name": "LayoutModel",
            "justify_items": null,
            "grid_row": null,
            "max_height": null,
            "align_content": null,
            "visibility": null,
            "align_self": null,
            "height": null,
            "min_height": null,
            "padding": null,
            "grid_auto_rows": null,
            "grid_gap": null,
            "max_width": null,
            "order": null,
            "_view_module_version": "1.2.0",
            "grid_template_areas": null,
            "object_position": null,
            "object_fit": null,
            "grid_auto_columns": null,
            "margin": null,
            "display": null,
            "left": null
          }
        }
      }
    }
  },
  "cells": [
    {
      "cell_type": "markdown",
      "metadata": {
        "id": "view-in-github",
        "colab_type": "text"
      },
      "source": [
        "<a href=\"https://colab.research.google.com/github/JuanCReyes1/DataScienceinPython/blob/master/MachineLearningA3.ipynb\" target=\"_parent\"><img src=\"https://colab.research.google.com/assets/colab-badge.svg\" alt=\"Open In Colab\"/></a>"
      ]
    },
    {
      "cell_type": "markdown",
      "metadata": {
        "colab_type": "text",
        "id": "9fjsMehrN3k4"
      },
      "source": [
        "# CSCI 4155/6505 - A3 - To be submitted individually\n",
        "\n",
        "**[Total of 4 points]**\n",
        "\n",
        "For this assignment, you will be modifying the functionality of some base code that implements a convolutional network in PyTorch. Follow along this notebook in Google Colab, running each code block as you go, and insert answers where appropriate.\n",
        "(Optional note: this assignment builds directly on last week's lab where you modified parts of the PyTorch tutorials!)\n",
        "\n"
      ]
    },
    {
      "cell_type": "code",
      "metadata": {
        "colab_type": "code",
        "id": "WD81nHOfrEcx",
        "colab": {}
      },
      "source": [
        "%matplotlib inline"
      ],
      "execution_count": 0,
      "outputs": []
    },
    {
      "cell_type": "code",
      "metadata": {
        "colab_type": "code",
        "id": "MDbQh7QMrEc3",
        "colab": {}
      },
      "source": [
        "# PyTorch packages\n",
        "import torch\n",
        "import torch.nn as nn\n",
        "import torch.nn.functional as F\n",
        "import torch.optim as optim\n",
        "\n",
        "# torchvision for loading MNIST dataset\n",
        "import torchvision\n",
        "from torchvision import datasets, transforms\n",
        "\n",
        "# For plotting\n",
        "import matplotlib.pyplot as plt"
      ],
      "execution_count": 0,
      "outputs": []
    },
    {
      "cell_type": "markdown",
      "metadata": {
        "colab_type": "text",
        "id": "EM7iYDxkMIps"
      },
      "source": [
        "First, we have to load the MNIST dataset. Try running the code block below, and if it executes successfully, you should see a printout saying that there are 60,000 training examples and 10,000 test examples. A folder titled \"mnist_data\" will appear in your left sidebar if you click on the folder icon."
      ]
    },
    {
      "cell_type": "code",
      "metadata": {
        "colab_type": "code",
        "id": "pxCQM2iIrEc7",
        "outputId": "5e99e322-d4e2-45b1-adf0-3012075a4f67",
        "colab": {
          "base_uri": "https://localhost:8080/",
          "height": 383,
          "referenced_widgets": [
            "d6dd1f3e8bfe431c996a27c4cd48becd",
            "06b25a213335403e8bfcbb30b1e7572a",
            "5a36ad288b6b4b7ea0784f74d82a1f61",
            "1b3651f7ce9944af8f90bca7e54f0d20",
            "edb5fc756b9d4358847dea08178981ad",
            "31f230bcb8cb49df9f9ff5a745b28a43",
            "30b4714c06124b98965ddf3167754052",
            "1fbd8604276b4d4d81223fc51e63d533",
            "65cb500eb0f44b5cb9962555cf2a5b75",
            "a5ab70ea975c4473b261b2581bc299c7",
            "9c05fb45c963416e8be393a10d37965c",
            "57ece34c1be546b9bc085e4f213c5c46",
            "8251d663be5d4f848bb2a35378fc065d",
            "dd50ebd3f428438aa5a2b5fe2c078580",
            "4b4104de5ff24d28aae6cf53711c0df4",
            "33eaf88b16db4ec1aff416ede49ec5d0",
            "aa2c759e3b9d4ddcbb489c82b85b0a7c",
            "e7a7a2aede2c417dbb48e358daed5f9b",
            "3a89144fb21d4ee889fe830d95d55b08",
            "2f547b12f38a4f89b9c78a047f17928a",
            "c0657b98c67d4e6997acfdb8aa6ac09d",
            "5cf590fcc36d477db3bf010c500b62ad",
            "a033447f3cf6400d99f745f518a906b0",
            "7f5470def346435db5d93169e531353d",
            "eb90744269d24503822318c17a4f13f3",
            "808c88dcfe0f4188a5916a1950931298",
            "cda69429fcb9473facdd83de683231df",
            "9d77d99af3a34d1c94446f16edb04d81",
            "98719b2366ce4b29bdf65c1420e7e46e",
            "d61a671951c8473faf853180203bd8ee",
            "14ce640285e6429dbc2b7f05a95e55dc",
            "5dc7ad0d0f964e34a3941530dbf2830b"
          ]
        }
      },
      "source": [
        "# Download the training data\n",
        "train_data = datasets.MNIST('./mnist_data', download=True, train=True,\n",
        "                            transform=transforms.Compose([\n",
        "                              transforms.ToTensor(),\n",
        "                              transforms.Normalize((0.5,), (0.5,))\n",
        "                            ]))\n",
        "\n",
        "# Download the test data\n",
        "test_data = datasets.MNIST('./mnist_data', download=True, train=False,\n",
        "                            transform=transforms.Compose([\n",
        "                              transforms.ToTensor(),\n",
        "                              transforms.Normalize((0.5,), (0.5,))\n",
        "                            ]))\n",
        "\n",
        "classes = [i for i in range(10)]\n",
        "\n",
        "print(\"Training examples: \", len(train_data))\n",
        "print(\"Test examples: \", len(test_data))"
      ],
      "execution_count": 3,
      "outputs": [
        {
          "output_type": "stream",
          "text": [
            "Downloading http://yann.lecun.com/exdb/mnist/train-images-idx3-ubyte.gz to ./mnist_data/MNIST/raw/train-images-idx3-ubyte.gz\n"
          ],
          "name": "stdout"
        },
        {
          "output_type": "display_data",
          "data": {
            "application/vnd.jupyter.widget-view+json": {
              "model_id": "d6dd1f3e8bfe431c996a27c4cd48becd",
              "version_minor": 0,
              "version_major": 2
            },
            "text/plain": [
              "HBox(children=(IntProgress(value=1, bar_style='info', max=1), HTML(value='')))"
            ]
          },
          "metadata": {
            "tags": []
          }
        },
        {
          "output_type": "stream",
          "text": [
            "Extracting ./mnist_data/MNIST/raw/train-images-idx3-ubyte.gz to ./mnist_data/MNIST/raw\n",
            "Downloading http://yann.lecun.com/exdb/mnist/train-labels-idx1-ubyte.gz to ./mnist_data/MNIST/raw/train-labels-idx1-ubyte.gz\n"
          ],
          "name": "stdout"
        },
        {
          "output_type": "display_data",
          "data": {
            "application/vnd.jupyter.widget-view+json": {
              "model_id": "65cb500eb0f44b5cb9962555cf2a5b75",
              "version_minor": 0,
              "version_major": 2
            },
            "text/plain": [
              "HBox(children=(IntProgress(value=1, bar_style='info', max=1), HTML(value='')))"
            ]
          },
          "metadata": {
            "tags": []
          }
        },
        {
          "output_type": "stream",
          "text": [
            "Extracting ./mnist_data/MNIST/raw/train-labels-idx1-ubyte.gz to ./mnist_data/MNIST/raw\n",
            "Downloading http://yann.lecun.com/exdb/mnist/t10k-images-idx3-ubyte.gz to ./mnist_data/MNIST/raw/t10k-images-idx3-ubyte.gz\n"
          ],
          "name": "stdout"
        },
        {
          "output_type": "display_data",
          "data": {
            "application/vnd.jupyter.widget-view+json": {
              "model_id": "aa2c759e3b9d4ddcbb489c82b85b0a7c",
              "version_minor": 0,
              "version_major": 2
            },
            "text/plain": [
              "HBox(children=(IntProgress(value=1, bar_style='info', max=1), HTML(value='')))"
            ]
          },
          "metadata": {
            "tags": []
          }
        },
        {
          "output_type": "stream",
          "text": [
            "Extracting ./mnist_data/MNIST/raw/t10k-images-idx3-ubyte.gz to ./mnist_data/MNIST/raw\n",
            "Downloading http://yann.lecun.com/exdb/mnist/t10k-labels-idx1-ubyte.gz to ./mnist_data/MNIST/raw/t10k-labels-idx1-ubyte.gz\n",
            "\n",
            "\n"
          ],
          "name": "stdout"
        },
        {
          "output_type": "display_data",
          "data": {
            "application/vnd.jupyter.widget-view+json": {
              "model_id": "eb90744269d24503822318c17a4f13f3",
              "version_minor": 0,
              "version_major": 2
            },
            "text/plain": [
              "HBox(children=(IntProgress(value=1, bar_style='info', max=1), HTML(value='')))"
            ]
          },
          "metadata": {
            "tags": []
          }
        },
        {
          "output_type": "stream",
          "text": [
            "Extracting ./mnist_data/MNIST/raw/t10k-labels-idx1-ubyte.gz to ./mnist_data/MNIST/raw\n",
            "Processing...\n",
            "Done!\n",
            "Training examples:  60000\n",
            "Test examples:  10000\n"
          ],
          "name": "stdout"
        }
      ]
    },
    {
      "cell_type": "markdown",
      "metadata": {
        "id": "xwL7DMta6fDU",
        "colab_type": "text"
      },
      "source": [
        "## Lets visualize an MNIST picture:"
      ]
    },
    {
      "cell_type": "code",
      "metadata": {
        "id": "FRRVDZfe6esP",
        "colab_type": "code",
        "outputId": "b5e5b600-901d-4f43-eed1-0f575ed1084e",
        "colab": {
          "base_uri": "https://localhost:8080/",
          "height": 206
        }
      },
      "source": [
        "import matplotlib.pyplot as plt\n",
        "import numpy as np\n",
        "\n",
        "# function to show an image\n",
        "def imshow(img):\n",
        "    img = img / 2 + 0.5 # unnormalize\n",
        "    npimg = img.numpy()\n",
        "    plt.imshow(np.transpose(npimg, (1, 2, 0)))\n",
        "\n",
        "sample_picture = torch.utils.data.DataLoader(train_data, batch_size=5, shuffle=True)\n",
        "print(type(sample_picture))\n",
        "dataiter = iter(sample_picture)\n",
        "print(type(dataiter))\n",
        "images, labels = dataiter.next()\n",
        "print(images.size())\n",
        "# show images\n",
        "imshow(torchvision.utils.make_grid(images))\n",
        "# print labels\n",
        "print(' '.join('%5s' % classes[labels[j]] for j in range(images.shape[0])))\n",
        "\n"
      ],
      "execution_count": 4,
      "outputs": [
        {
          "output_type": "stream",
          "text": [
            "<class 'torch.utils.data.dataloader.DataLoader'>\n",
            "<class 'torch.utils.data.dataloader._SingleProcessDataLoaderIter'>\n",
            "torch.Size([5, 1, 28, 28])\n",
            "    6     0     6     7     3\n"
          ],
          "name": "stdout"
        },
        {
          "output_type": "display_data",
          "data": {
            "image/png": "[encoded data removed]",
            "text/plain": [
              "<Figure size 432x288 with 1 Axes>"
            ]
          },
          "metadata": {
            "tags": []
          }
        },
        {
          "output_type": "stream",
          "text": [
            "\n"
          ],
          "name": "stdout"
        }
      ]
    },
    {
      "cell_type": "markdown",
      "metadata": {
        "colab_type": "text",
        "id": "iQAh-OPINJeU"
      },
      "source": [
        "For now we will assume that we are using the MNIST dataset. I want to call a single function that encapsulates all parts of the process: initializing the network, training, and testing. Passing to this function as arguments, I want to be able to control some basic functionality of the learning process:\n",
        "\n",
        "*   Number of epochs (repetitions of the entire training data)\n",
        "*   Batch size (how many training examples to average over per gradient update)\n",
        "\n",
        "The function call will look like:\n",
        "\n",
        "```\n",
        "losses, train_acc, test_acc = eval_net(epochs, batch_size)\n",
        "```\n",
        "\n",
        "*   `losses` will be a list of all the losses I saw during training: one for every update.\n",
        "*   `train_acc` will be a single scalar: the accuracy on the training data after training is finished.\n",
        "*   `test_acc` will be a single scalar: the accuracy on the test data after training is finished\n",
        "\n",
        "Below is the implementation of `eval_net()`.\n",
        "\n",
        "(Optional note: If the following code is confusing, please note that this is exactly the same as what you already went through step-by-step in last week's lab, so you may need to review that first.)"
      ]
    },
    {
      "cell_type": "code",
      "metadata": {
        "colab_type": "code",
        "id": "e1VHebuHrEdC",
        "colab": {}
      },
      "source": [
        "def eval_net(epochs, batch_size):\n",
        "\n",
        "  ##### Prepare return values ##################################################\n",
        "  losses = []\n",
        "  train_acc = 0\n",
        "  test_acc = 0\n",
        "\n",
        "  ##### Create iterators for each dataset ######################################\n",
        "  train_loader = torch.utils.data.DataLoader(train_data, batch_size=batch_size, shuffle=True)\n",
        "  test_loader = torch.utils.data.DataLoader(test_data, batch_size=batch_size, shuffle=False)\n",
        "\n",
        "  ##### Define the network #####################################################\n",
        "  class Net(nn.Module):\n",
        "    def __init__(self):\n",
        "      super(Net, self).__init__()\n",
        "      self.conv1 = nn.Conv2d(1, 6, 3)     # 1 channel in, 6 filters out, 3x3 filters\n",
        "      self.pool = nn.MaxPool2d(2, 2)      # 2x2 pooling, with a stride of 2 (move the window by 2 pixels)\n",
        "      self.conv2 = nn.Conv2d(6, 16, 3)    # 6 filters in, 16 filters out, 3x3 filters\n",
        "      self.fc1 = nn.Linear(16 * 5 * 5, 120) # the 16 filtered images are reduced to 5x5 now, connect to 120 hidden units out\n",
        "      self.fc2 = nn.Linear(120, 84)       # 120 hidden units in, 84 hidden units out\n",
        "      self.fc3 = nn.Linear(84, 10)        # 84 hidden units in, 10 outputs units\n",
        "\n",
        "    def forward(self, x):\n",
        "      x = self.pool(F.relu(self.conv1(x)))\n",
        "      x = self.pool(F.relu(self.conv2(x)))\n",
        "      x = x.view(-1, 16 * 5 * 5) # .view() is similar to .reshape(), so this flattens x into a vector\n",
        "      x = F.relu(self.fc1(x))\n",
        "      x = F.relu(self.fc2(x))\n",
        "      x = F.log_softmax(self.fc3(x), dim=1)\n",
        "      return x\n",
        "  \n",
        "  ##### Initialize the network and optimizer ###################################\n",
        "  print(\"Initializing the network ...\")\n",
        "  net = Net()\n",
        "  criterion = nn.CrossEntropyLoss()\n",
        "  optimizer = optim.SGD(net.parameters(), lr=0.001, momentum=0.9) # lr = learning rate/step size\n",
        "\n",
        "  ##### Training the network ###################################################\n",
        "  print(\"Training the network ...\")\n",
        "  for e in range(epochs):  # loop over the dataset multiple times\n",
        "    print(\"Epoch: \", e+1)\n",
        "    for i, data in enumerate(train_loader, 0):\n",
        "      inputs, labels = data\n",
        "      optimizer.zero_grad() # zero the parameter gradients\n",
        "\n",
        "      outputs = net(inputs) # forward pass\n",
        "      loss = criterion(outputs, labels) # compute loss\n",
        "      loss.backward() # backward pass\n",
        "      optimizer.step() # gradient descent update\n",
        "\n",
        "      losses.append(loss.item())\n",
        "\n",
        "  ##### Evaluating the network on training data ################################\n",
        "  print(\"Evaluating on training data ...\")\n",
        "  correct = 0\n",
        "  total = 0\n",
        "  with torch.no_grad():\n",
        "    for data in train_loader:\n",
        "      inputs, labels = data\n",
        "      outputs = net(inputs)\n",
        "      _, predicted = torch.max(outputs.data, 1)\n",
        "      total += labels.size(0)\n",
        "      correct += (predicted == labels).sum().item()\n",
        "  train_acc = correct / total\n",
        "\n",
        "  ##### Evaluating the network on test data ####################################\n",
        "  print(\"Evaluating on test data ...\")\n",
        "  correct = 0\n",
        "  total = 0\n",
        "  with torch.no_grad():\n",
        "    for data in test_loader:\n",
        "      inputs, labels = data\n",
        "      outputs = net(inputs)\n",
        "      _, predicted = torch.max(outputs.data, 1)\n",
        "      total += labels.size(0)\n",
        "      correct += (predicted == labels).sum().item()\n",
        "  test_acc = correct / total\n",
        "\n",
        "  return losses, train_acc, test_acc, net"
      ],
      "execution_count": 0,
      "outputs": []
    },
    {
      "cell_type": "markdown",
      "metadata": {
        "colab_type": "text",
        "id": "vcnm1UqkVMQW"
      },
      "source": [
        "Now we can try out our implementation!"
      ]
    },
    {
      "cell_type": "code",
      "metadata": {
        "colab_type": "code",
        "id": "e9uU7BjzVjq2",
        "outputId": "24adccaa-e081-410a-cde0-90650a2269da",
        "colab": {
          "base_uri": "https://localhost:8080/",
          "height": 418
        }
      },
      "source": [
        "losses, train_acc, test_acc,thenet = eval_net(epochs=3, batch_size=100)\n",
        "print(\"Training accuracy: \", train_acc)\n",
        "print(\"Test accuracy: \", test_acc)\n",
        "plt.plot(losses)\n",
        "plt.show()"
      ],
      "execution_count": 6,
      "outputs": [
        {
          "output_type": "stream",
          "text": [
            "Initializing the network ...\n",
            "Training the network ...\n",
            "Epoch:  1\n",
            "Epoch:  2\n",
            "Epoch:  3\n",
            "Evaluating on training data ...\n",
            "Evaluating on test data ...\n",
            "Training accuracy:  0.9170333333333334\n",
            "Test accuracy:  0.9224\n"
          ],
          "name": "stdout"
        },
        {
          "output_type": "display_data",
          "data": {
            "image/png": "[encoded data removed]",
            "text/plain": [
              "<Figure size 432x288 with 1 Axes>"
            ]
          },
          "metadata": {
            "tags": []
          }
        }
      ]
    },
    {
      "cell_type": "markdown",
      "metadata": {
        "colab_type": "text",
        "id": "rxMqVf9cyS3H"
      },
      "source": [
        "# Questions\n",
        "\n",
        "For the following questions, you will mostly be copying and pasting the implementation of `eval_net()` and modifying a few things.\n",
        "\n",
        "\n",
        "---\n",
        "---\n",
        "---\n",
        "\n",
        "\n",
        "a) **[1 point]** You will implement a modification called `eval_net_a()`. Since we are following the implementation in `eval_net()`, assume that there are always 2 convolutional layers, and 2 fully connected hidden layers (the layer of size 10 is the output). We want to control the number of filters and the size of the hidden layers. As arguments, we will pass the epoch and batch_size as before, but also pass a list containing 4 elements: \n",
        "\n",
        "*   The number of filters in convolutional layer 1\n",
        "*   The number of filters in convolutional layer 2\n",
        "*   The number of hidden nodes in fully connected layer 1\n",
        "*   The number of hidden nodes in fully connected layer 2\n",
        "\n",
        "```\n",
        "num_params = [num_filters1, num_filters2, num_hidden1, num_hidden2]\n",
        "```"
      ]
    },
    {
      "cell_type": "code",
      "metadata": {
        "colab_type": "code",
        "id": "_BIKWtRtdzET",
        "colab": {}
      },
      "source": [
        "def eval_net_a(epochs, batch_size,num_params):\n",
        "\n",
        "  ##### Prepare return values ##################################################\n",
        "  losses = []\n",
        "  train_acc = 0\n",
        "  test_acc = 0\n",
        "  \n",
        "  num_filters1, num_filters2, num_hidden1, num_hidden2 = num_params\n",
        "\n",
        "\n",
        "  ##### Create iterators for each dataset ######################################\n",
        "  train_loader = torch.utils.data.DataLoader(train_data, batch_size=batch_size, shuffle=True)\n",
        "  test_loader = torch.utils.data.DataLoader(test_data, batch_size=batch_size, shuffle=False)\n",
        "\n",
        "  ##### Define the network #####################################################\n",
        "  class Net(nn.Module):\n",
        "    def __init__(self):\n",
        "      super(Net, self).__init__()\n",
        "      self.conv1 = nn.Conv2d(1, num_filters1, 3)     # 1 channel in, 6 filters out, 3x3 filters\n",
        "      self.pool = nn.MaxPool2d(2, 2)      # 2x2 pooling, with a stride of 2 (move the window by 2 pixels)\n",
        "      self.conv2 = nn.Conv2d(num_filters1, num_filters2, 3)    # 6 filters in, 16 filters out, 3x3 filters\n",
        "      self.fc1 = nn.Linear(num_filters2 * 5 * 5, num_hidden1) # the 16 filtered images are reduced to 5x5 now, connect to 120 hidden units out\n",
        "      self.fc2 = nn.Linear(num_hidden1, num_hidden2)       # 120 hidden units in, 84 hidden units out\n",
        "      self.fc3 = nn.Linear(num_hidden2, 10)        # 84 hidden units in, 10 outputs units\n",
        "\n",
        "    def forward(self, x):\n",
        "      x = self.pool(F.relu(self.conv1(x)))\n",
        "      x = self.pool(F.relu(self.conv2(x)))\n",
        "      x = x.view(-1, num_filters2 * 5 * 5) # .view() is similar to .reshape(), so this flattens x into a vector\n",
        "      x = F.relu(self.fc1(x))\n",
        "      x = F.relu(self.fc2(x))\n",
        "      x = F.log_softmax(self.fc3(x), dim=1)\n",
        "      return x    \n",
        "    \n",
        "  ##### Initialize the network and optimizer ###################################\n",
        "  print(\"Initializing the network ...\")\n",
        "  net = Net()\n",
        "  criterion = nn.CrossEntropyLoss()\n",
        "  optimizer = optim.SGD(net.parameters(), lr=0.001, momentum=0.9) # lr = learning rate/step size\n",
        "\n",
        "  ##### Training the network ###################################################\n",
        "  print(\"Training the network ...\")\n",
        "  for e in range(epochs):  # loop over the dataset multiple times\n",
        "    print(\"Epoch: \", e+1)\n",
        "    for i, data in enumerate(train_loader, 0):\n",
        "      inputs, labels = data\n",
        "      optimizer.zero_grad() # zero the parameter gradients\n",
        "\n",
        "      outputs = net(inputs) # forward pass\n",
        "      loss = criterion(outputs, labels) # compute loss\n",
        "      loss.backward() # backward pass\n",
        "      optimizer.step() # gradient descent update\n",
        "      losses.append(loss.item())\n",
        "\n",
        "  ##### Evaluating the network on training data ################################\n",
        "  print(\"Evaluating on training data ...\")\n",
        "  correct = 0\n",
        "  total = 0\n",
        "  with torch.no_grad():\n",
        "    for data in train_loader:\n",
        "      inputs, labels = data\n",
        "      outputs = net(inputs)\n",
        "      _, predicted = torch.max(outputs.data, 1)\n",
        "      total += labels.size(0)\n",
        "      correct += (predicted == labels).sum().item()\n",
        "  train_acc = correct / total\n",
        "\n",
        "  ##### Evaluating the network on test data ####################################\n",
        "  print(\"Evaluating on test data ...\")\n",
        "  correct = 0\n",
        "  total = 0\n",
        "  with torch.no_grad():\n",
        "    for data in test_loader:\n",
        "      inputs, labels = data\n",
        "      outputs = net(inputs)\n",
        "      _, predicted = torch.max(outputs.data, 1)\n",
        "      total += labels.size(0)\n",
        "      correct += (predicted == labels).sum().item()\n",
        "  test_acc = correct / total\n",
        "\n",
        "  return losses, train_acc, test_acc"
      ],
      "execution_count": 0,
      "outputs": []
    },
    {
      "cell_type": "code",
      "metadata": {
        "colab_type": "code",
        "id": "iU-u4Ar0eUFC",
        "outputId": "0229020b-f246-4284-e202-e761cfbb2db6",
        "colab": {
          "base_uri": "https://localhost:8080/",
          "height": 595
        }
      },
      "source": [
        "for epoch in range(1,5):\n",
        "    # We will call your answer like this:\n",
        "    losses, train_acc, test_acc = eval_net_a(epochs=epoch, batch_size=100, num_params=[6, 16, 120, 84])\n",
        "    print(\"Training accuracy: \", train_acc)\n",
        "    print(\"Test accuracy: \", test_acc)\n",
        "    #plt.plot(losses)\n",
        "    #plt.show()"
      ],
      "execution_count": 8,
      "outputs": [
        {
          "output_type": "stream",
          "text": [
            "Initializing the network ...\n",
            "Training the network ...\n",
            "Epoch:  1\n",
            "Evaluating on training data ...\n",
            "Evaluating on test data ...\n",
            "Training accuracy:  0.5034333333333333\n",
            "Test accuracy:  0.4982\n",
            "Initializing the network ...\n",
            "Training the network ...\n",
            "Epoch:  1\n",
            "Epoch:  2\n",
            "Evaluating on training data ...\n",
            "Evaluating on test data ...\n",
            "Training accuracy:  0.8668666666666667\n",
            "Test accuracy:  0.8776\n",
            "Initializing the network ...\n",
            "Training the network ...\n",
            "Epoch:  1\n",
            "Epoch:  2\n",
            "Epoch:  3\n",
            "Evaluating on training data ...\n",
            "Evaluating on test data ...\n",
            "Training accuracy:  0.9162166666666667\n",
            "Test accuracy:  0.9226\n",
            "Initializing the network ...\n",
            "Training the network ...\n",
            "Epoch:  1\n",
            "Epoch:  2\n",
            "Epoch:  3\n",
            "Epoch:  4\n",
            "Evaluating on training data ...\n",
            "Evaluating on test data ...\n",
            "Training accuracy:  0.9459\n",
            "Test accuracy:  0.9507\n"
          ],
          "name": "stdout"
        }
      ]
    },
    {
      "cell_type": "markdown",
      "metadata": {
        "colab_type": "text",
        "id": "LzFm3vGLgpAo"
      },
      "source": [
        "---\n",
        "---\n",
        "---\n",
        "\n",
        "b) **[1 point]** You will implement a modification called `eval_net_b()`. **Remove the second convolutional layer from `eval_net()`.** Now there should only be 1 convolutional layer, followed by 1 pooling layer, and 2 fully connected hidden layers. The convolutional filters are currently 3x3 and the pooling is currently 2x2. We will keep these square, but we want to control the size of the filters and the size of the pooling layer. We will add a new argument that controls these:\n",
        "\n",
        "```\n",
        "sizes = [filter_size, pooling_size]\n",
        "```\n",
        "\n",
        "**Be warned:** by modifying the filter sizes, you will also have to modify the total number of inputs into the first hidden layer. It was hard-coded at `16*5*5`, because we figured out that the images were reduced to 5x5 images after the convolution and pooling, but this will no longer be true. **Hint: use `x.size()` to get the proper dimensions.**"
      ]
    },
    {
      "cell_type": "code",
      "metadata": {
        "colab_type": "code",
        "id": "_2gOfvYlilnO",
        "colab": {}
      },
      "source": [
        "def eval_net_b(epochs, batch_size,sizes):\n",
        "\n",
        "  ##### Prepare return values ##################################################\n",
        "  losses = []\n",
        "  train_acc = 0\n",
        "  test_acc = 0\n",
        "  #num_filters1, num_filters2, num_hidden1, num_hidden2 = num_params\n",
        "  filter_size, pooling_size = sizes\n",
        "\n",
        "  ##### Create iterators for each dataset ######################################\n",
        "  train_loader = torch.utils.data.DataLoader(train_data, batch_size=batch_size, shuffle=True)\n",
        "  test_loader = torch.utils.data.DataLoader(test_data, batch_size=batch_size, shuffle=False)\n",
        "\n",
        "  ##### Define the network #####################################################\n",
        "  class Net(nn.Module):\n",
        "    def __init__(self):\n",
        "      super(Net, self).__init__()\n",
        "      self.conv1 = nn.Conv2d(1, 6, filter_size)     # 1 channel in, 6 filters out, 3x3 filters\n",
        "      self.pool = nn.MaxPool2d(pooling_size, pooling_size)      # 2x2 pooling, with a stride of 2 (move the window by 2 pixels)\n",
        "      #self.conv2 = nn.Conv2d(num_filters1, num_filters2, 3)    # 6 filters in, 16 filters out, 3x3 filters\n",
        "      self.conv2 = nn.Conv2d(1, 6, 3)    #for now make sure conv2 is conv1\n",
        "      self.fc1 = nn.Linear(6 * 13 * 13, 120) # the 16 filtered images are reduced to 5x5 now, connect to 120 hidden units out\n",
        "      self.fc2 = nn.Linear(120,84)       # 120 hidden units in, 84 hidden units out\n",
        "      self.fc3 = nn.Linear(84, 10)        # 84 hidden units in, 10 outputs units\n",
        "\n",
        "    def forward(self, x):\n",
        "      x = self.pool(F.relu(self.conv1(x)))\n",
        "      #x = self.pool(F.relu(self.conv2(x)))\n",
        "      x = x.view(-1, 6 * 13 * 13) # .view() is similar to .reshape(), so this flattens x into a vector\n",
        "      x = F.relu(self.fc1(x))\n",
        "      x = F.relu(self.fc2(x))\n",
        "      x = F.log_softmax(self.fc3(x), dim=1)\n",
        "      return x\n",
        " \n",
        "  ##### Initialize the network and optimizer ###################################\n",
        "  print(\"Initializing the network ...\")\n",
        "  net = Net()\n",
        "  criterion = nn.CrossEntropyLoss()\n",
        "  optimizer = optim.SGD(net.parameters(), lr=0.001, momentum=0.9) # lr = learning rate/step size\n",
        "\n",
        "\n",
        "  ##### Training the network ###################################################\n",
        "  print(\"Training the network ...\")\n",
        "  for e in range(epochs):  # loop over the dataset multiple times\n",
        "    print(\"Epoch: \", e+1)\n",
        "    for i, data in enumerate(train_loader, 0):\n",
        "      inputs, labels = data\n",
        "      optimizer.zero_grad() # zero the parameter gradients\n",
        "\n",
        "      outputs = net(inputs) # forward pass\n",
        "      loss = criterion(outputs, labels) # compute loss\n",
        "      loss.backward() # backward pass\n",
        "      optimizer.step() # gradient descent update\n",
        "\n",
        "      losses.append(loss.item())\n",
        "\n",
        "  ##### Evaluating the network on training data ################################\n",
        "  print(\"Evaluating on training data ...\")\n",
        "  correct = 0\n",
        "  total = 0\n",
        "  with torch.no_grad():\n",
        "    for data in train_loader:\n",
        "      inputs, labels = data\n",
        "      outputs = net(inputs)\n",
        "      _, predicted = torch.max(outputs.data, 1)\n",
        "      total += labels.size(0)\n",
        "      correct += (predicted == labels).sum().item()\n",
        "  train_acc = correct / total\n",
        "\n",
        "  ##### Evaluating the network on test data ####################################\n",
        "  print(\"Evaluating on test data ...\")\n",
        "  correct = 0\n",
        "  total = 0\n",
        "  with torch.no_grad():\n",
        "    for data in test_loader:\n",
        "      inputs, labels = data\n",
        "      outputs = net(inputs)\n",
        "      _, predicted = torch.max(outputs.data, 1)\n",
        "      total += labels.size(0)\n",
        "      correct += (predicted == labels).sum().item()\n",
        "  test_acc = correct / total\n",
        "\n",
        "  return losses, train_acc, test_acc"
      ],
      "execution_count": 0,
      "outputs": []
    },
    {
      "cell_type": "code",
      "metadata": {
        "colab_type": "code",
        "id": "e46COLiIin9i",
        "outputId": "84d0faa5-18db-4426-d18d-658b9ed3700a",
        "colab": {
          "base_uri": "https://localhost:8080/",
          "height": 435
        }
      },
      "source": [
        " # We will call your answer like this:\n",
        "losses, train_acc, test_acc = eval_net_b(epochs=4, batch_size=100, sizes=[3, 2])\n",
        "print(\"Training accuracy: \", train_acc)\n",
        "print(\"Test accuracy: \", test_acc)\n",
        "plt.plot(losses)\n",
        "plt.show()"
      ],
      "execution_count": 10,
      "outputs": [
        {
          "output_type": "stream",
          "text": [
            "Initializing the network ...\n",
            "Training the network ...\n",
            "Epoch:  1\n",
            "Epoch:  2\n",
            "Epoch:  3\n",
            "Epoch:  4\n",
            "Evaluating on training data ...\n",
            "Evaluating on test data ...\n",
            "Training accuracy:  0.9201666666666667\n",
            "Test accuracy:  0.9249\n"
          ],
          "name": "stdout"
        },
        {
          "output_type": "display_data",
          "data": {
            "image/png": "[encoded data removed]",
            "text/plain": [
              "<Figure size 432x288 with 1 Axes>"
            ]
          },
          "metadata": {
            "tags": []
          }
        }
      ]
    },
    {
      "cell_type": "markdown",
      "metadata": {
        "colab_type": "text",
        "id": "yl44Ykwmjmzq"
      },
      "source": [
        "---\n",
        "---\n",
        "---\n",
        "\n",
        "c) **[1 point]** You will implement a modification called `eval_net_c()`. The original `eval_net()` uses ReLU activations in the hidden layers. We should also try different activation functions. **Find a new activation function in the torch.nn.functional documentation.** They are listed under \"Non-linear activation functions\".\n",
        "\n",
        "https://pytorch.org/docs/stable/nn.functional.html\n",
        "\n",
        "Replace the ReLU activations with your new activation function. Many of these take additional arguments. Feel free to try out different values for these parameters.\n",
        "\n",
        "**Also find a new pooling function.** These can be found at:\n",
        "\n",
        "https://pytorch.org/docs/stable/nn.html\n",
        "\n",
        "listed under \"Pooling layers\". Be sure to pick one with the \"2d\" suffix. Currently we are using MaxPool2d. Replace it with the pooling function that you find."
      ]
    },
    {
      "cell_type": "code",
      "metadata": {
        "colab_type": "code",
        "id": "zWdzEU2GlCWk",
        "colab": {}
      },
      "source": [
        "def eval_net_c(epochs, batch_size):\n",
        "\n",
        "  ##### Prepare return values ##################################################\n",
        "  losses = []\n",
        "  train_acc = 0\n",
        "  test_acc = 0\n",
        "\n",
        "  ##### Create iterators for each dataset ######################################\n",
        "  train_loader = torch.utils.data.DataLoader(train_data, batch_size=batch_size, shuffle=True)\n",
        "  test_loader = torch.utils.data.DataLoader(test_data, batch_size=batch_size, shuffle=False)\n",
        "\n",
        "  ##### Define the network #####################################################\n",
        "  class Net(nn.Module):\n",
        "    def __init__(self):\n",
        "      super(Net, self).__init__()\n",
        "      self.conv1 = nn.Conv2d(1, 6, 3)     # 1 channel in, 6 filters out, 3x3 filters\n",
        "      \n",
        "      self.pool = nn.AvgPool2d(2, 2)      # 2x2 pooling, with a stride of 2 (move the window by 2 pixels)\n",
        "      \n",
        "      self.conv2 = nn.Conv2d(6, 16, 3)    # 6 filters in, 16 filters out, 3x3 filters\n",
        "      self.fc1 = nn.Linear(16 * 5 * 5, 120) # the 16 filtered images are reduced to 5x5 now, connect to 120 hidden units out\n",
        "      self.fc2 = nn.Linear(120, 84)       # 120 hidden units in, 84 hidden units out\n",
        "      self.fc3 = nn.Linear(84, 10)        # 84 hidden units in, 10 outputs units\n",
        "\n",
        "    def forward(self, x):\n",
        "      x = self.pool(F.relu(self.conv1(x)))\n",
        "      x = self.pool(F.relu(self.conv2(x)))\n",
        "      x = x.view(-1, 16 * 5 * 5) # .view() is similar to .reshape(), so this flattens x into a vector\n",
        "      #x = F.relu(self.fc1(x))\n",
        "      #x = F.relu(self.fc2(x))\n",
        "      ##Replace ReLu with softplus\n",
        "      x = F.softplus(self.fc1(x),beta=1,threshold=0.5)\n",
        "      x = F.softplus(self.fc2(x),beta=1,threshold=0.5)\n",
        "      x = F.log_softmax(self.fc3(x), dim=1)\n",
        "      return x\n",
        "  \n",
        "  ##### Initialize the network and optimizer ###################################\n",
        "  print(\"Initializing the network ...\")\n",
        "  net = Net()\n",
        "  criterion = nn.CrossEntropyLoss()\n",
        "  optimizer = optim.SGD(net.parameters(), lr=0.001, momentum=0.9) # lr = learning rate/step size\n",
        "\n",
        "  ##### Training the network ###################################################\n",
        "  print(\"Training the network ...\")\n",
        "  for e in range(epochs):  # loop over the dataset multiple times\n",
        "    print(\"Epoch: \", e+1)\n",
        "    for i, data in enumerate(train_loader, 0):\n",
        "      inputs, labels = data\n",
        "      optimizer.zero_grad() # zero the parameter gradients\n",
        "\n",
        "      outputs = net(inputs) # forward pass\n",
        "      loss = criterion(outputs, labels) # compute loss\n",
        "      loss.backward() # backward pass\n",
        "      optimizer.step() # gradient descent update\n",
        "\n",
        "      losses.append(loss.item())\n",
        "\n",
        "  ##### Evaluating the network on training data ################################\n",
        "  print(\"Evaluating on training data ...\")\n",
        "  correct = 0\n",
        "  total = 0\n",
        "  with torch.no_grad():\n",
        "    for data in train_loader:\n",
        "      inputs, labels = data\n",
        "      outputs = net(inputs)\n",
        "      _, predicted = torch.max(outputs.data, 1)\n",
        "      total += labels.size(0)\n",
        "      correct += (predicted == labels).sum().item()\n",
        "  train_acc = correct / total\n",
        "\n",
        "  ##### Evaluating the network on test data ####################################\n",
        "  print(\"Evaluating on test data ...\")\n",
        "  correct = 0\n",
        "  total = 0\n",
        "  with torch.no_grad():\n",
        "    for data in test_loader:\n",
        "      inputs, labels = data\n",
        "      outputs = net(inputs)\n",
        "      _, predicted = torch.max(outputs.data, 1)\n",
        "      total += labels.size(0)\n",
        "      correct += (predicted == labels).sum().item()\n",
        "  test_acc = correct / total\n",
        "\n",
        "  return losses, train_acc, test_acc, net"
      ],
      "execution_count": 0,
      "outputs": []
    },
    {
      "cell_type": "code",
      "metadata": {
        "colab_type": "code",
        "id": "8rE0geaZlF6Y",
        "outputId": "b0c702cc-695f-460c-d262-f5777581d7fa",
        "colab": {
          "base_uri": "https://localhost:8080/",
          "height": 418
        }
      },
      "source": [
        "# We will call your answer like this:\n",
        "losses, train_acc, test_acc,thenet = eval_net_c(epochs=3, batch_size=100)\n",
        "print(\"Training accuracy: \", train_acc)\n",
        "print(\"Test accuracy: \", test_acc)\n",
        "plt.plot(losses)\n",
        "plt.show()"
      ],
      "execution_count": 12,
      "outputs": [
        {
          "output_type": "stream",
          "text": [
            "Initializing the network ...\n",
            "Training the network ...\n",
            "Epoch:  1\n",
            "Epoch:  2\n",
            "Epoch:  3\n",
            "Evaluating on training data ...\n",
            "Evaluating on test data ...\n",
            "Training accuracy:  0.8885166666666666\n",
            "Test accuracy:  0.8947\n"
          ],
          "name": "stdout"
        },
        {
          "output_type": "display_data",
          "data": {
            "image/png": "[encoded data removed]",
            "text/plain": [
              "<Figure size 432x288 with 1 Axes>"
            ]
          },
          "metadata": {
            "tags": []
          }
        }
      ]
    },
    {
      "cell_type": "markdown",
      "metadata": {
        "colab_type": "text",
        "id": "MqS5mJpG1kOz"
      },
      "source": [
        "---\n",
        "---\n",
        "---\n",
        "\n",
        "d) **[1 point]** You will implement a modification called `eval_net_d()`. During training, we use backpropagation to compute the gradient of the weights when we call:\n",
        "\n",
        "`loss.backward()`\n",
        "\n",
        "Then we use the gradient to update the weights in the step:\n",
        "\n",
        "`optimizer.step()`\n",
        "\n",
        "The exact formula used to update the weights depends on which optimizer we chose. In `eval_net()`, we are using Stochastic Gradient Descent (SGD), with momentum. There are many optimizers, some of which can be found at:\n",
        "\n",
        "https://pytorch.org/docs/stable/optim.html\n",
        "\n",
        "**Find a new optimization algorithm under \"Algorithms\" and replace the optimizer in `eval_net()` with it.** Some algorithms include Adadelta, Adagrad, Adam, and RMSProp. Some of them require additional parameters. Feel free to use the defaults, or try out different values."
      ]
    },
    {
      "cell_type": "code",
      "metadata": {
        "colab_type": "code",
        "id": "wvkJPR_N2_yJ",
        "colab": {}
      },
      "source": [
        "def eval_net_d(epochs, batch_size):\n",
        "\n",
        "  ##### Prepare return values ##################################################\n",
        "  losses = []\n",
        "  train_acc = 0\n",
        "  test_acc = 0\n",
        "\n",
        "  ##### Create iterators for each dataset ######################################\n",
        "  train_loader = torch.utils.data.DataLoader(train_data, batch_size=batch_size, shuffle=True)\n",
        "  test_loader = torch.utils.data.DataLoader(test_data, batch_size=batch_size, shuffle=False)\n",
        "\n",
        "  ##### Define the network #####################################################\n",
        "  class Net(nn.Module):\n",
        "    def __init__(self):\n",
        "      super(Net, self).__init__()\n",
        "      self.conv1 = nn.Conv2d(1, 6, 3)     # 1 channel in, 6 filters out, 3x3 filters\n",
        "      self.pool = nn.MaxPool2d(2, 2)      # 2x2 pooling, with a stride of 2 (move the window by 2 pixels)\n",
        "      self.conv2 = nn.Conv2d(6, 16, 3)    # 6 filters in, 16 filters out, 3x3 filters\n",
        "      self.fc1 = nn.Linear(16 * 5 * 5, 120) # the 16 filtered images are reduced to 5x5 now, connect to 120 hidden units out\n",
        "      self.fc2 = nn.Linear(120, 84)       # 120 hidden units in, 84 hidden units out\n",
        "      self.fc3 = nn.Linear(84, 10)        # 84 hidden units in, 10 outputs units\n",
        "\n",
        "    def forward(self, x):\n",
        "      x = self.pool(F.relu(self.conv1(x)))\n",
        "      x = self.pool(F.relu(self.conv2(x)))\n",
        "      x = x.view(-1, 16 * 5 * 5) # .view() is similar to .reshape(), so this flattens x into a vector\n",
        "      x = F.relu(self.fc1(x))\n",
        "      x = F.relu(self.fc2(x))\n",
        "      x = F.log_softmax(self.fc3(x), dim=1)\n",
        "      return x\n",
        "  \n",
        "  ##### Initialize the network and optimizer ###################################\n",
        "  print(\"Initializing the network ...\")\n",
        "  net = Net()\n",
        "  criterion = nn.CrossEntropyLoss()\n",
        "  #optimizer = optim.SGD(net.parameters(), lr=0.001, momentum=0.9) # lr = learning rate/step size\n",
        "  optimizer = optim.Adam(net.parameters(), lr=0.001, betas=(0.9, 0.999),eps=1e-08,) # lr = learning rate/step size\n",
        "\n",
        "  ##### Training the network ###################################################\n",
        "  print(\"Training the network ...\")\n",
        "  for e in range(epochs):  # loop over the dataset multiple times\n",
        "    print(\"Epoch: \", e+1)\n",
        "    for i, data in enumerate(train_loader, 0):\n",
        "      inputs, labels = data\n",
        "      \n",
        "      optimizer.zero_grad() # zero the parameter gradients\n",
        "      outputs = net(inputs) # forward pass\n",
        "      loss = criterion(outputs, labels) # compute loss\n",
        "      loss.backward() # backward pass\n",
        "      optimizer.step() # gradient descent update\n",
        "      losses.append(loss.item())\n",
        "\n",
        "  ##### Evaluating the network on training data ################################\n",
        "  print(\"Evaluating on training data ...\")\n",
        "  correct = 0\n",
        "  total = 0\n",
        "  with torch.no_grad():\n",
        "    for data in train_loader:\n",
        "      inputs, labels = data\n",
        "      outputs = net(inputs)\n",
        "      _, predicted = torch.max(outputs.data, 1)\n",
        "      total += labels.size(0)\n",
        "      correct += (predicted == labels).sum().item()\n",
        "  train_acc = correct / total\n",
        "\n",
        "  ##### Evaluating the network on test data ####################################\n",
        "  print(\"Evaluating on test data ...\")\n",
        "  correct = 0\n",
        "  total = 0\n",
        "  with torch.no_grad():\n",
        "    for data in test_loader:\n",
        "      inputs, labels = data\n",
        "      outputs = net(inputs)\n",
        "      _, predicted = torch.max(outputs.data, 1)\n",
        "      total += labels.size(0)\n",
        "      correct += (predicted == labels).sum().item()\n",
        "  test_acc = correct / total\n",
        "\n",
        "  return losses, train_acc, test_acc, net"
      ],
      "execution_count": 0,
      "outputs": []
    },
    {
      "cell_type": "code",
      "metadata": {
        "colab_type": "code",
        "id": "ct0mSBvG3Ge1",
        "outputId": "3fde0d41-f6cb-4ba2-ff05-909e9520cbee",
        "colab": {
          "base_uri": "https://localhost:8080/",
          "height": 401
        }
      },
      "source": [
        "# We will call your answer like this:\n",
        "losses, train_acc, test_acc,thenet = eval_net_d(epochs=2, batch_size=100)\n",
        "print(\"Training accuracy: \", train_acc)\n",
        "print(\"Test accuracy: \", test_acc)\n",
        "plt.plot(losses)\n",
        "plt.show()"
      ],
      "execution_count": 14,
      "outputs": [
        {
          "output_type": "stream",
          "text": [
            "Initializing the network ...\n",
            "Training the network ...\n",
            "Epoch:  1\n",
            "Epoch:  2\n",
            "Evaluating on training data ...\n",
            "Evaluating on test data ...\n",
            "Training accuracy:  0.97825\n",
            "Test accuracy:  0.979\n"
          ],
          "name": "stdout"
        },
        {
          "output_type": "display_data",
          "data": {
            "image/png": "[encoded data removed]",
            "text/plain": [
              "<Figure size 432x288 with 1 Axes>"
            ]
          },
          "metadata": {
            "tags": []
          }
        }
      ]
    },
    {
      "cell_type": "code",
      "metadata": {
        "id": "6SNQZoIJREiu",
        "colab_type": "code",
        "outputId": "02cf87c7-0972-4923-be3a-0cfc797c5988",
        "colab": {
          "base_uri": "https://localhost:8080/",
          "height": 323
        }
      },
      "source": [
        "testloader = torch.utils.data.DataLoader(test_data, batch_size=100, shuffle=False)\n",
        "dataiter = iter(testloader)\n",
        "images, labels = dataiter.next()\n",
        "\n",
        "# print images\n",
        "imshow(torchvision.utils.make_grid(images))\n",
        "print('GroundTruth: ', ' '.join('%1s' % classes[labels[j]] for j in range(images.shape[0])))\n",
        "\n",
        "outputs = thenet(images)\n",
        "\n",
        "_, predicted = torch.max(outputs, 1)\n",
        "\n",
        "print('Predicted:   ', ' '.join('%1s' % classes[predicted[j]]\n",
        "                              for j in range(predicted.shape[0])))"
      ],
      "execution_count": 15,
      "outputs": [
        {
          "output_type": "stream",
          "text": [
            "GroundTruth:  7 2 1 0 4 1 4 9 5 9 0 6 9 0 1 5 9 7 3 4 9 6 6 5 4 0 7 4 0 1 3 1 3 4 7 2 7 1 2 1 1 7 4 2 3 5 1 2 4 4 6 3 5 5 6 0 4 1 9 5 7 8 9 3 7 4 6 4 3 0 7 0 2 9 1 7 3 2 9 7 7 6 2 7 8 4 7 3 6 1 3 6 9 3 1 4 1 7 6 9\n",
            "Predicted:    7 2 1 0 4 1 4 9 5 9 0 6 9 0 1 5 9 7 5 4 9 6 6 5 4 0 7 4 0 1 3 1 3 0 7 2 7 1 2 1 1 7 4 2 3 5 1 2 4 4 6 3 5 5 6 0 4 1 9 5 7 8 9 3 7 4 6 4 3 0 7 0 2 7 1 7 3 2 9 7 7 6 2 7 8 4 7 3 6 1 3 6 4 3 1 4 1 7 6 9\n"
          ],
          "name": "stdout"
        },
        {
          "output_type": "display_data",
          "data": {
            "image/png": "[encoded data removed]",
            "text/plain": [
              "<Figure size 432x288 with 1 Axes>"
            ]
          },
          "metadata": {
            "tags": []
          }
        }
      ]
    }
  ]
}