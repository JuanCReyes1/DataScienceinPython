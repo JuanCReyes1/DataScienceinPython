{
  "nbformat": 4,
  "nbformat_minor": 0,
  "metadata": {
    "colab": {
      "name": "MachineLearningA3.ipynb",
      "provenance": [],
      "collapsed_sections": [],
      "include_colab_link": true
    },
    "kernelspec": {
      "display_name": "Python 3",
      "language": "python",
      "name": "python3"
    },
    "language_info": {
      "codemirror_mode": {
        "name": "ipython",
        "version": 3
      },
      "file_extension": ".py",
      "mimetype": "text/x-python",
      "name": "python",
      "nbconvert_exporter": "python",
      "pygments_lexer": "ipython3",
      "version": "3.7.3"
    },
    "widgets": {
      "application/vnd.jupyter.widget-state+json": {
        "b3dfac6ec3e74061924273ea2b3ebf5f": {
          "model_module": "@jupyter-widgets/controls",
          "model_name": "HBoxModel",
          "state": {
            "_view_name": "HBoxView",
            "_dom_classes": [],
            "_model_name": "HBoxModel",
            "_view_module": "@jupyter-widgets/controls",
            "_model_module_version": "1.5.0",
            "_view_count": null,
            "_view_module_version": "1.5.0",
            "box_style": "",
            "layout": "IPY_MODEL_142a091579dc438baa9068a287f40537",
            "_model_module": "@jupyter-widgets/controls",
            "children": [
              "IPY_MODEL_65ef21b4a2f041a2b461bf750126bf03",
              "IPY_MODEL_2343e27536b3455ab932d87706e45cb3"
            ]
          }
        },
        "142a091579dc438baa9068a287f40537": {
          "model_module": "@jupyter-widgets/base",
          "model_name": "LayoutModel",
          "state": {
            "_view_name": "LayoutView",
            "grid_template_rows": null,
            "right": null,
            "justify_content": null,
            "_view_module": "@jupyter-widgets/base",
            "overflow": null,
            "_model_module_version": "1.2.0",
            "_view_count": null,
            "flex_flow": null,
            "width": null,
            "min_width": null,
            "border": null,
            "align_items": null,
            "bottom": null,
            "_model_module": "@jupyter-widgets/base",
            "top": null,
            "grid_column": null,
            "overflow_y": null,
            "overflow_x": null,
            "grid_auto_flow": null,
            "grid_area": null,
            "grid_template_columns": null,
            "flex": null,
            "_model_name": "LayoutModel",
            "justify_items": null,
            "grid_row": null,
            "max_height": null,
            "align_content": null,
            "visibility": null,
            "align_self": null,
            "height": null,
            "min_height": null,
            "padding": null,
            "grid_auto_rows": null,
            "grid_gap": null,
            "max_width": null,
            "order": null,
            "_view_module_version": "1.2.0",
            "grid_template_areas": null,
            "object_position": null,
            "object_fit": null,
            "grid_auto_columns": null,
            "margin": null,
            "display": null,
            "left": null
          }
        },
        "65ef21b4a2f041a2b461bf750126bf03": {
          "model_module": "@jupyter-widgets/controls",
          "model_name": "IntProgressModel",
          "state": {
            "_view_name": "ProgressView",
            "style": "IPY_MODEL_a9058ae8aea0437c90b4d235a81d150a",
            "_dom_classes": [],
            "description": "",
            "_model_name": "IntProgressModel",
            "bar_style": "success",
            "max": 1,
            "_view_module": "@jupyter-widgets/controls",
            "_model_module_version": "1.5.0",
            "value": 1,
            "_view_count": null,
            "_view_module_version": "1.5.0",
            "orientation": "horizontal",
            "min": 0,
            "description_tooltip": null,
            "_model_module": "@jupyter-widgets/controls",
            "layout": "IPY_MODEL_7a27c8840fd04a84ac10e8d10295ab14"
          }
        },
        "2343e27536b3455ab932d87706e45cb3": {
          "model_module": "@jupyter-widgets/controls",
          "model_name": "HTMLModel",
          "state": {
            "_view_name": "HTMLView",
            "style": "IPY_MODEL_6939124066124f39b34f75f23cdbb751",
            "_dom_classes": [],
            "description": "",
            "_model_name": "HTMLModel",
            "placeholder": "​",
            "_view_module": "@jupyter-widgets/controls",
            "_model_module_version": "1.5.0",
            "value": " 9920512/? [00:06&lt;00:00, 1519455.61it/s]",
            "_view_count": null,
            "_view_module_version": "1.5.0",
            "description_tooltip": null,
            "_model_module": "@jupyter-widgets/controls",
            "layout": "IPY_MODEL_ed490b5a724645dabc42becd40b7e8e5"
          }
        },
        "a9058ae8aea0437c90b4d235a81d150a": {
          "model_module": "@jupyter-widgets/controls",
          "model_name": "ProgressStyleModel",
          "state": {
            "_view_name": "StyleView",
            "_model_name": "ProgressStyleModel",
            "description_width": "initial",
            "_view_module": "@jupyter-widgets/base",
            "_model_module_version": "1.5.0",
            "_view_count": null,
            "_view_module_version": "1.2.0",
            "bar_color": null,
            "_model_module": "@jupyter-widgets/controls"
          }
        },
        "7a27c8840fd04a84ac10e8d10295ab14": {
          "model_module": "@jupyter-widgets/base",
          "model_name": "LayoutModel",
          "state": {
            "_view_name": "LayoutView",
            "grid_template_rows": null,
            "right": null,
            "justify_content": null,
            "_view_module": "@jupyter-widgets/base",
            "overflow": null,
            "_model_module_version": "1.2.0",
            "_view_count": null,
            "flex_flow": null,
            "width": null,
            "min_width": null,
            "border": null,
            "align_items": null,
            "bottom": null,
            "_model_module": "@jupyter-widgets/base",
            "top": null,
            "grid_column": null,
            "overflow_y": null,
            "overflow_x": null,
            "grid_auto_flow": null,
            "grid_area": null,
            "grid_template_columns": null,
            "flex": null,
            "_model_name": "LayoutModel",
            "justify_items": null,
            "grid_row": null,
            "max_height": null,
            "align_content": null,
            "visibility": null,
            "align_self": null,
            "height": null,
            "min_height": null,
            "padding": null,
            "grid_auto_rows": null,
            "grid_gap": null,
            "max_width": null,
            "order": null,
            "_view_module_version": "1.2.0",
            "grid_template_areas": null,
            "object_position": null,
            "object_fit": null,
            "grid_auto_columns": null,
            "margin": null,
            "display": null,
            "left": null
          }
        },
        "6939124066124f39b34f75f23cdbb751": {
          "model_module": "@jupyter-widgets/controls",
          "model_name": "DescriptionStyleModel",
          "state": {
            "_view_name": "StyleView",
            "_model_name": "DescriptionStyleModel",
            "description_width": "",
            "_view_module": "@jupyter-widgets/base",
            "_model_module_version": "1.5.0",
            "_view_count": null,
            "_view_module_version": "1.2.0",
            "_model_module": "@jupyter-widgets/controls"
          }
        },
        "ed490b5a724645dabc42becd40b7e8e5": {
          "model_module": "@jupyter-widgets/base",
          "model_name": "LayoutModel",
          "state": {
            "_view_name": "LayoutView",
            "grid_template_rows": null,
            "right": null,
            "justify_content": null,
            "_view_module": "@jupyter-widgets/base",
            "overflow": null,
            "_model_module_version": "1.2.0",
            "_view_count": null,
            "flex_flow": null,
            "width": null,
            "min_width": null,
            "border": null,
            "align_items": null,
            "bottom": null,
            "_model_module": "@jupyter-widgets/base",
            "top": null,
            "grid_column": null,
            "overflow_y": null,
            "overflow_x": null,
            "grid_auto_flow": null,
            "grid_area": null,
            "grid_template_columns": null,
            "flex": null,
            "_model_name": "LayoutModel",
            "justify_items": null,
            "grid_row": null,
            "max_height": null,
            "align_content": null,
            "visibility": null,
            "align_self": null,
            "height": null,
            "min_height": null,
            "padding": null,
            "grid_auto_rows": null,
            "grid_gap": null,
            "max_width": null,
            "order": null,
            "_view_module_version": "1.2.0",
            "grid_template_areas": null,
            "object_position": null,
            "object_fit": null,
            "grid_auto_columns": null,
            "margin": null,
            "display": null,
            "left": null
          }
        },
        "47c1289fa5654cd98f8bcea1c3be32c5": {
          "model_module": "@jupyter-widgets/controls",
          "model_name": "HBoxModel",
          "state": {
            "_view_name": "HBoxView",
            "_dom_classes": [],
            "_model_name": "HBoxModel",
            "_view_module": "@jupyter-widgets/controls",
            "_model_module_version": "1.5.0",
            "_view_count": null,
            "_view_module_version": "1.5.0",
            "box_style": "",
            "layout": "IPY_MODEL_b16915a2c3404e19b637348abc9712cc",
            "_model_module": "@jupyter-widgets/controls",
            "children": [
              "IPY_MODEL_0fc0dbfea1334a44a23f7d12d9c31c44",
              "IPY_MODEL_36528288121b4fe883cc697baadc9e5d"
            ]
          }
        },
        "b16915a2c3404e19b637348abc9712cc": {
          "model_module": "@jupyter-widgets/base",
          "model_name": "LayoutModel",
          "state": {
            "_view_name": "LayoutView",
            "grid_template_rows": null,
            "right": null,
            "justify_content": null,
            "_view_module": "@jupyter-widgets/base",
            "overflow": null,
            "_model_module_version": "1.2.0",
            "_view_count": null,
            "flex_flow": null,
            "width": null,
            "min_width": null,
            "border": null,
            "align_items": null,
            "bottom": null,
            "_model_module": "@jupyter-widgets/base",
            "top": null,
            "grid_column": null,
            "overflow_y": null,
            "overflow_x": null,
            "grid_auto_flow": null,
            "grid_area": null,
            "grid_template_columns": null,
            "flex": null,
            "_model_name": "LayoutModel",
            "justify_items": null,
            "grid_row": null,
            "max_height": null,
            "align_content": null,
            "visibility": null,
            "align_self": null,
            "height": null,
            "min_height": null,
            "padding": null,
            "grid_auto_rows": null,
            "grid_gap": null,
            "max_width": null,
            "order": null,
            "_view_module_version": "1.2.0",
            "grid_template_areas": null,
            "object_position": null,
            "object_fit": null,
            "grid_auto_columns": null,
            "margin": null,
            "display": null,
            "left": null
          }
        },
        "0fc0dbfea1334a44a23f7d12d9c31c44": {
          "model_module": "@jupyter-widgets/controls",
          "model_name": "IntProgressModel",
          "state": {
            "_view_name": "ProgressView",
            "style": "IPY_MODEL_ae5c40bd0e0b4bcea9ab55552d80bc4f",
            "_dom_classes": [],
            "description": "",
            "_model_name": "IntProgressModel",
            "bar_style": "success",
            "max": 1,
            "_view_module": "@jupyter-widgets/controls",
            "_model_module_version": "1.5.0",
            "value": 1,
            "_view_count": null,
            "_view_module_version": "1.5.0",
            "orientation": "horizontal",
            "min": 0,
            "description_tooltip": null,
            "_model_module": "@jupyter-widgets/controls",
            "layout": "IPY_MODEL_6debefa915c04511b2f9fe92ba8911be"
          }
        },
        "36528288121b4fe883cc697baadc9e5d": {
          "model_module": "@jupyter-widgets/controls",
          "model_name": "HTMLModel",
          "state": {
            "_view_name": "HTMLView",
            "style": "IPY_MODEL_7573505d6f814185a94fadd958c15e46",
            "_dom_classes": [],
            "description": "",
            "_model_name": "HTMLModel",
            "placeholder": "​",
            "_view_module": "@jupyter-widgets/controls",
            "_model_module_version": "1.5.0",
            "value": " 32768/? [00:00&lt;00:00, 43440.11it/s]",
            "_view_count": null,
            "_view_module_version": "1.5.0",
            "description_tooltip": null,
            "_model_module": "@jupyter-widgets/controls",
            "layout": "IPY_MODEL_0ec62fd384ca4c8caca4e4b23b0982f5"
          }
        },
        "ae5c40bd0e0b4bcea9ab55552d80bc4f": {
          "model_module": "@jupyter-widgets/controls",
          "model_name": "ProgressStyleModel",
          "state": {
            "_view_name": "StyleView",
            "_model_name": "ProgressStyleModel",
            "description_width": "initial",
            "_view_module": "@jupyter-widgets/base",
            "_model_module_version": "1.5.0",
            "_view_count": null,
            "_view_module_version": "1.2.0",
            "bar_color": null,
            "_model_module": "@jupyter-widgets/controls"
          }
        },
        "6debefa915c04511b2f9fe92ba8911be": {
          "model_module": "@jupyter-widgets/base",
          "model_name": "LayoutModel",
          "state": {
            "_view_name": "LayoutView",
            "grid_template_rows": null,
            "right": null,
            "justify_content": null,
            "_view_module": "@jupyter-widgets/base",
            "overflow": null,
            "_model_module_version": "1.2.0",
            "_view_count": null,
            "flex_flow": null,
            "width": null,
            "min_width": null,
            "border": null,
            "align_items": null,
            "bottom": null,
            "_model_module": "@jupyter-widgets/base",
            "top": null,
            "grid_column": null,
            "overflow_y": null,
            "overflow_x": null,
            "grid_auto_flow": null,
            "grid_area": null,
            "grid_template_columns": null,
            "flex": null,
            "_model_name": "LayoutModel",
            "justify_items": null,
            "grid_row": null,
            "max_height": null,
            "align_content": null,
            "visibility": null,
            "align_self": null,
            "height": null,
            "min_height": null,
            "padding": null,
            "grid_auto_rows": null,
            "grid_gap": null,
            "max_width": null,
            "order": null,
            "_view_module_version": "1.2.0",
            "grid_template_areas": null,
            "object_position": null,
            "object_fit": null,
            "grid_auto_columns": null,
            "margin": null,
            "display": null,
            "left": null
          }
        },
        "7573505d6f814185a94fadd958c15e46": {
          "model_module": "@jupyter-widgets/controls",
          "model_name": "DescriptionStyleModel",
          "state": {
            "_view_name": "StyleView",
            "_model_name": "DescriptionStyleModel",
            "description_width": "",
            "_view_module": "@jupyter-widgets/base",
            "_model_module_version": "1.5.0",
            "_view_count": null,
            "_view_module_version": "1.2.0",
            "_model_module": "@jupyter-widgets/controls"
          }
        },
        "0ec62fd384ca4c8caca4e4b23b0982f5": {
          "model_module": "@jupyter-widgets/base",
          "model_name": "LayoutModel",
          "state": {
            "_view_name": "LayoutView",
            "grid_template_rows": null,
            "right": null,
            "justify_content": null,
            "_view_module": "@jupyter-widgets/base",
            "overflow": null,
            "_model_module_version": "1.2.0",
            "_view_count": null,
            "flex_flow": null,
            "width": null,
            "min_width": null,
            "border": null,
            "align_items": null,
            "bottom": null,
            "_model_module": "@jupyter-widgets/base",
            "top": null,
            "grid_column": null,
            "overflow_y": null,
            "overflow_x": null,
            "grid_auto_flow": null,
            "grid_area": null,
            "grid_template_columns": null,
            "flex": null,
            "_model_name": "LayoutModel",
            "justify_items": null,
            "grid_row": null,
            "max_height": null,
            "align_content": null,
            "visibility": null,
            "align_self": null,
            "height": null,
            "min_height": null,
            "padding": null,
            "grid_auto_rows": null,
            "grid_gap": null,
            "max_width": null,
            "order": null,
            "_view_module_version": "1.2.0",
            "grid_template_areas": null,
            "object_position": null,
            "object_fit": null,
            "grid_auto_columns": null,
            "margin": null,
            "display": null,
            "left": null
          }
        },
        "03f5cb9acc994eb5af67b5ce12c7323a": {
          "model_module": "@jupyter-widgets/controls",
          "model_name": "HBoxModel",
          "state": {
            "_view_name": "HBoxView",
            "_dom_classes": [],
            "_model_name": "HBoxModel",
            "_view_module": "@jupyter-widgets/controls",
            "_model_module_version": "1.5.0",
            "_view_count": null,
            "_view_module_version": "1.5.0",
            "box_style": "",
            "layout": "IPY_MODEL_117cea0e90424ee89b10c7e823459924",
            "_model_module": "@jupyter-widgets/controls",
            "children": [
              "IPY_MODEL_39af30ca773d449fbf03cae828473a75",
              "IPY_MODEL_1edaf2a6a5244ea9bc0318599ab2e61f"
            ]
          }
        },
        "117cea0e90424ee89b10c7e823459924": {
          "model_module": "@jupyter-widgets/base",
          "model_name": "LayoutModel",
          "state": {
            "_view_name": "LayoutView",
            "grid_template_rows": null,
            "right": null,
            "justify_content": null,
            "_view_module": "@jupyter-widgets/base",
            "overflow": null,
            "_model_module_version": "1.2.0",
            "_view_count": null,
            "flex_flow": null,
            "width": null,
            "min_width": null,
            "border": null,
            "align_items": null,
            "bottom": null,
            "_model_module": "@jupyter-widgets/base",
            "top": null,
            "grid_column": null,
            "overflow_y": null,
            "overflow_x": null,
            "grid_auto_flow": null,
            "grid_area": null,
            "grid_template_columns": null,
            "flex": null,
            "_model_name": "LayoutModel",
            "justify_items": null,
            "grid_row": null,
            "max_height": null,
            "align_content": null,
            "visibility": null,
            "align_self": null,
            "height": null,
            "min_height": null,
            "padding": null,
            "grid_auto_rows": null,
            "grid_gap": null,
            "max_width": null,
            "order": null,
            "_view_module_version": "1.2.0",
            "grid_template_areas": null,
            "object_position": null,
            "object_fit": null,
            "grid_auto_columns": null,
            "margin": null,
            "display": null,
            "left": null
          }
        },
        "39af30ca773d449fbf03cae828473a75": {
          "model_module": "@jupyter-widgets/controls",
          "model_name": "IntProgressModel",
          "state": {
            "_view_name": "ProgressView",
            "style": "IPY_MODEL_676c18c905e54a06b7ca8846a85715f7",
            "_dom_classes": [],
            "description": "",
            "_model_name": "IntProgressModel",
            "bar_style": "success",
            "max": 1,
            "_view_module": "@jupyter-widgets/controls",
            "_model_module_version": "1.5.0",
            "value": 1,
            "_view_count": null,
            "_view_module_version": "1.5.0",
            "orientation": "horizontal",
            "min": 0,
            "description_tooltip": null,
            "_model_module": "@jupyter-widgets/controls",
            "layout": "IPY_MODEL_f711dbcad38142198b019b80614d247a"
          }
        },
        "1edaf2a6a5244ea9bc0318599ab2e61f": {
          "model_module": "@jupyter-widgets/controls",
          "model_name": "HTMLModel",
          "state": {
            "_view_name": "HTMLView",
            "style": "IPY_MODEL_d04202fcf6b248cc8e05bd8ac8949780",
            "_dom_classes": [],
            "description": "",
            "_model_name": "HTMLModel",
            "placeholder": "​",
            "_view_module": "@jupyter-widgets/controls",
            "_model_module_version": "1.5.0",
            "value": " 1654784/? [00:00&lt;00:00, 2696649.89it/s]",
            "_view_count": null,
            "_view_module_version": "1.5.0",
            "description_tooltip": null,
            "_model_module": "@jupyter-widgets/controls",
            "layout": "IPY_MODEL_be046526921b4780b10d25e328756878"
          }
        },
        "676c18c905e54a06b7ca8846a85715f7": {
          "model_module": "@jupyter-widgets/controls",
          "model_name": "ProgressStyleModel",
          "state": {
            "_view_name": "StyleView",
            "_model_name": "ProgressStyleModel",
            "description_width": "initial",
            "_view_module": "@jupyter-widgets/base",
            "_model_module_version": "1.5.0",
            "_view_count": null,
            "_view_module_version": "1.2.0",
            "bar_color": null,
            "_model_module": "@jupyter-widgets/controls"
          }
        },
        "f711dbcad38142198b019b80614d247a": {
          "model_module": "@jupyter-widgets/base",
          "model_name": "LayoutModel",
          "state": {
            "_view_name": "LayoutView",
            "grid_template_rows": null,
            "right": null,
            "justify_content": null,
            "_view_module": "@jupyter-widgets/base",
            "overflow": null,
            "_model_module_version": "1.2.0",
            "_view_count": null,
            "flex_flow": null,
            "width": null,
            "min_width": null,
            "border": null,
            "align_items": null,
            "bottom": null,
            "_model_module": "@jupyter-widgets/base",
            "top": null,
            "grid_column": null,
            "overflow_y": null,
            "overflow_x": null,
            "grid_auto_flow": null,
            "grid_area": null,
            "grid_template_columns": null,
            "flex": null,
            "_model_name": "LayoutModel",
            "justify_items": null,
            "grid_row": null,
            "max_height": null,
            "align_content": null,
            "visibility": null,
            "align_self": null,
            "height": null,
            "min_height": null,
            "padding": null,
            "grid_auto_rows": null,
            "grid_gap": null,
            "max_width": null,
            "order": null,
            "_view_module_version": "1.2.0",
            "grid_template_areas": null,
            "object_position": null,
            "object_fit": null,
            "grid_auto_columns": null,
            "margin": null,
            "display": null,
            "left": null
          }
        },
        "d04202fcf6b248cc8e05bd8ac8949780": {
          "model_module": "@jupyter-widgets/controls",
          "model_name": "DescriptionStyleModel",
          "state": {
            "_view_name": "StyleView",
            "_model_name": "DescriptionStyleModel",
            "description_width": "",
            "_view_module": "@jupyter-widgets/base",
            "_model_module_version": "1.5.0",
            "_view_count": null,
            "_view_module_version": "1.2.0",
            "_model_module": "@jupyter-widgets/controls"
          }
        },
        "be046526921b4780b10d25e328756878": {
          "model_module": "@jupyter-widgets/base",
          "model_name": "LayoutModel",
          "state": {
            "_view_name": "LayoutView",
            "grid_template_rows": null,
            "right": null,
            "justify_content": null,
            "_view_module": "@jupyter-widgets/base",
            "overflow": null,
            "_model_module_version": "1.2.0",
            "_view_count": null,
            "flex_flow": null,
            "width": null,
            "min_width": null,
            "border": null,
            "align_items": null,
            "bottom": null,
            "_model_module": "@jupyter-widgets/base",
            "top": null,
            "grid_column": null,
            "overflow_y": null,
            "overflow_x": null,
            "grid_auto_flow": null,
            "grid_area": null,
            "grid_template_columns": null,
            "flex": null,
            "_model_name": "LayoutModel",
            "justify_items": null,
            "grid_row": null,
            "max_height": null,
            "align_content": null,
            "visibility": null,
            "align_self": null,
            "height": null,
            "min_height": null,
            "padding": null,
            "grid_auto_rows": null,
            "grid_gap": null,
            "max_width": null,
            "order": null,
            "_view_module_version": "1.2.0",
            "grid_template_areas": null,
            "object_position": null,
            "object_fit": null,
            "grid_auto_columns": null,
            "margin": null,
            "display": null,
            "left": null
          }
        },
        "9eec9c7510f74ae384d09f4a7dc39d2e": {
          "model_module": "@jupyter-widgets/controls",
          "model_name": "HBoxModel",
          "state": {
            "_view_name": "HBoxView",
            "_dom_classes": [],
            "_model_name": "HBoxModel",
            "_view_module": "@jupyter-widgets/controls",
            "_model_module_version": "1.5.0",
            "_view_count": null,
            "_view_module_version": "1.5.0",
            "box_style": "",
            "layout": "IPY_MODEL_e0b5f098f7084f17ab6ad481684b357d",
            "_model_module": "@jupyter-widgets/controls",
            "children": [
              "IPY_MODEL_9b92487156e84589a88c42d7aee342b3",
              "IPY_MODEL_dd2a56a3658640f1bfd590bfa60ccf18"
            ]
          }
        },
        "e0b5f098f7084f17ab6ad481684b357d": {
          "model_module": "@jupyter-widgets/base",
          "model_name": "LayoutModel",
          "state": {
            "_view_name": "LayoutView",
            "grid_template_rows": null,
            "right": null,
            "justify_content": null,
            "_view_module": "@jupyter-widgets/base",
            "overflow": null,
            "_model_module_version": "1.2.0",
            "_view_count": null,
            "flex_flow": null,
            "width": null,
            "min_width": null,
            "border": null,
            "align_items": null,
            "bottom": null,
            "_model_module": "@jupyter-widgets/base",
            "top": null,
            "grid_column": null,
            "overflow_y": null,
            "overflow_x": null,
            "grid_auto_flow": null,
            "grid_area": null,
            "grid_template_columns": null,
            "flex": null,
            "_model_name": "LayoutModel",
            "justify_items": null,
            "grid_row": null,
            "max_height": null,
            "align_content": null,
            "visibility": null,
            "align_self": null,
            "height": null,
            "min_height": null,
            "padding": null,
            "grid_auto_rows": null,
            "grid_gap": null,
            "max_width": null,
            "order": null,
            "_view_module_version": "1.2.0",
            "grid_template_areas": null,
            "object_position": null,
            "object_fit": null,
            "grid_auto_columns": null,
            "margin": null,
            "display": null,
            "left": null
          }
        },
        "9b92487156e84589a88c42d7aee342b3": {
          "model_module": "@jupyter-widgets/controls",
          "model_name": "IntProgressModel",
          "state": {
            "_view_name": "ProgressView",
            "style": "IPY_MODEL_5ecf13fa2c17471fbda880a9916a8cbb",
            "_dom_classes": [],
            "description": "",
            "_model_name": "IntProgressModel",
            "bar_style": "success",
            "max": 1,
            "_view_module": "@jupyter-widgets/controls",
            "_model_module_version": "1.5.0",
            "value": 1,
            "_view_count": null,
            "_view_module_version": "1.5.0",
            "orientation": "horizontal",
            "min": 0,
            "description_tooltip": null,
            "_model_module": "@jupyter-widgets/controls",
            "layout": "IPY_MODEL_7d89d81133dc4dfb99c7968b15bfab45"
          }
        },
        "dd2a56a3658640f1bfd590bfa60ccf18": {
          "model_module": "@jupyter-widgets/controls",
          "model_name": "HTMLModel",
          "state": {
            "_view_name": "HTMLView",
            "style": "IPY_MODEL_f810c253036942a3abaa0a859cace4dc",
            "_dom_classes": [],
            "description": "",
            "_model_name": "HTMLModel",
            "placeholder": "​",
            "_view_module": "@jupyter-widgets/controls",
            "_model_module_version": "1.5.0",
            "value": " 8192/? [00:00&lt;00:00, 30278.71it/s]",
            "_view_count": null,
            "_view_module_version": "1.5.0",
            "description_tooltip": null,
            "_model_module": "@jupyter-widgets/controls",
            "layout": "IPY_MODEL_afc9d846f40b4e36be4c00234d3805c0"
          }
        },
        "5ecf13fa2c17471fbda880a9916a8cbb": {
          "model_module": "@jupyter-widgets/controls",
          "model_name": "ProgressStyleModel",
          "state": {
            "_view_name": "StyleView",
            "_model_name": "ProgressStyleModel",
            "description_width": "initial",
            "_view_module": "@jupyter-widgets/base",
            "_model_module_version": "1.5.0",
            "_view_count": null,
            "_view_module_version": "1.2.0",
            "bar_color": null,
            "_model_module": "@jupyter-widgets/controls"
          }
        },
        "7d89d81133dc4dfb99c7968b15bfab45": {
          "model_module": "@jupyter-widgets/base",
          "model_name": "LayoutModel",
          "state": {
            "_view_name": "LayoutView",
            "grid_template_rows": null,
            "right": null,
            "justify_content": null,
            "_view_module": "@jupyter-widgets/base",
            "overflow": null,
            "_model_module_version": "1.2.0",
            "_view_count": null,
            "flex_flow": null,
            "width": null,
            "min_width": null,
            "border": null,
            "align_items": null,
            "bottom": null,
            "_model_module": "@jupyter-widgets/base",
            "top": null,
            "grid_column": null,
            "overflow_y": null,
            "overflow_x": null,
            "grid_auto_flow": null,
            "grid_area": null,
            "grid_template_columns": null,
            "flex": null,
            "_model_name": "LayoutModel",
            "justify_items": null,
            "grid_row": null,
            "max_height": null,
            "align_content": null,
            "visibility": null,
            "align_self": null,
            "height": null,
            "min_height": null,
            "padding": null,
            "grid_auto_rows": null,
            "grid_gap": null,
            "max_width": null,
            "order": null,
            "_view_module_version": "1.2.0",
            "grid_template_areas": null,
            "object_position": null,
            "object_fit": null,
            "grid_auto_columns": null,
            "margin": null,
            "display": null,
            "left": null
          }
        },
        "f810c253036942a3abaa0a859cace4dc": {
          "model_module": "@jupyter-widgets/controls",
          "model_name": "DescriptionStyleModel",
          "state": {
            "_view_name": "StyleView",
            "_model_name": "DescriptionStyleModel",
            "description_width": "",
            "_view_module": "@jupyter-widgets/base",
            "_model_module_version": "1.5.0",
            "_view_count": null,
            "_view_module_version": "1.2.0",
            "_model_module": "@jupyter-widgets/controls"
          }
        },
        "afc9d846f40b4e36be4c00234d3805c0": {
          "model_module": "@jupyter-widgets/base",
          "model_name": "LayoutModel",
          "state": {
            "_view_name": "LayoutView",
            "grid_template_rows": null,
            "right": null,
            "justify_content": null,
            "_view_module": "@jupyter-widgets/base",
            "overflow": null,
            "_model_module_version": "1.2.0",
            "_view_count": null,
            "flex_flow": null,
            "width": null,
            "min_width": null,
            "border": null,
            "align_items": null,
            "bottom": null,
            "_model_module": "@jupyter-widgets/base",
            "top": null,
            "grid_column": null,
            "overflow_y": null,
            "overflow_x": null,
            "grid_auto_flow": null,
            "grid_area": null,
            "grid_template_columns": null,
            "flex": null,
            "_model_name": "LayoutModel",
            "justify_items": null,
            "grid_row": null,
            "max_height": null,
            "align_content": null,
            "visibility": null,
            "align_self": null,
            "height": null,
            "min_height": null,
            "padding": null,
            "grid_auto_rows": null,
            "grid_gap": null,
            "max_width": null,
            "order": null,
            "_view_module_version": "1.2.0",
            "grid_template_areas": null,
            "object_position": null,
            "object_fit": null,
            "grid_auto_columns": null,
            "margin": null,
            "display": null,
            "left": null
          }
        }
      }
    }
  },
  "cells": [
    {
      "cell_type": "markdown",
      "metadata": {
        "id": "view-in-github",
        "colab_type": "text"
      },
      "source": [
        "<a href=\"https://colab.research.google.com/github/JuanCReyes1/DataScienceinPython/blob/master/MachineLearningA3.ipynb\" target=\"_parent\"><img src=\"https://colab.research.google.com/assets/colab-badge.svg\" alt=\"Open In Colab\"/></a>"
      ]
    },
    {
      "cell_type": "markdown",
      "metadata": {
        "colab_type": "text",
        "id": "9fjsMehrN3k4"
      },
      "source": [
        "# CSCI 4155/6505 - A3 - To be submitted individually\n",
        "\n",
        "**[Total of 4 points]**\n",
        "\n",
        "For this assignment, you will be modifying the functionality of some base code that implements a convolutional network in PyTorch. Follow along this notebook in Google Colab, running each code block as you go, and insert answers where appropriate.\n",
        "(Optional note: this assignment builds directly on last week's lab where you modified parts of the PyTorch tutorials!)\n",
        "\n"
      ]
    },
    {
      "cell_type": "code",
      "metadata": {
        "colab_type": "code",
        "id": "WD81nHOfrEcx",
        "colab": {}
      },
      "source": [
        "%matplotlib inline"
      ],
      "execution_count": 0,
      "outputs": []
    },
    {
      "cell_type": "code",
      "metadata": {
        "colab_type": "code",
        "id": "MDbQh7QMrEc3",
        "colab": {}
      },
      "source": [
        "# PyTorch packages\n",
        "import torch\n",
        "import torch.nn as nn\n",
        "import torch.nn.functional as F\n",
        "import torch.optim as optim\n",
        "\n",
        "# torchvision for loading MNIST dataset\n",
        "import torchvision\n",
        "from torchvision import datasets, transforms\n",
        "\n",
        "# For plotting\n",
        "import matplotlib.pyplot as plt"
      ],
      "execution_count": 0,
      "outputs": []
    },
    {
      "cell_type": "markdown",
      "metadata": {
        "colab_type": "text",
        "id": "EM7iYDxkMIps"
      },
      "source": [
        "First, we have to load the MNIST dataset. Try running the code block below, and if it executes successfully, you should see a printout saying that there are 60,000 training examples and 10,000 test examples. A folder titled \"mnist_data\" will appear in your left sidebar if you click on the folder icon."
      ]
    },
    {
      "cell_type": "code",
      "metadata": {
        "colab_type": "code",
        "id": "pxCQM2iIrEc7",
        "outputId": "2a571636-b11e-4df1-a0dd-10c6c4abe438",
        "colab": {
          "base_uri": "https://localhost:8080/",
          "height": 400,
          "referenced_widgets": [
            "b3dfac6ec3e74061924273ea2b3ebf5f",
            "142a091579dc438baa9068a287f40537",
            "65ef21b4a2f041a2b461bf750126bf03",
            "2343e27536b3455ab932d87706e45cb3",
            "a9058ae8aea0437c90b4d235a81d150a",
            "7a27c8840fd04a84ac10e8d10295ab14",
            "6939124066124f39b34f75f23cdbb751",
            "ed490b5a724645dabc42becd40b7e8e5",
            "47c1289fa5654cd98f8bcea1c3be32c5",
            "b16915a2c3404e19b637348abc9712cc",
            "0fc0dbfea1334a44a23f7d12d9c31c44",
            "36528288121b4fe883cc697baadc9e5d",
            "ae5c40bd0e0b4bcea9ab55552d80bc4f",
            "6debefa915c04511b2f9fe92ba8911be",
            "7573505d6f814185a94fadd958c15e46",
            "0ec62fd384ca4c8caca4e4b23b0982f5",
            "03f5cb9acc994eb5af67b5ce12c7323a",
            "117cea0e90424ee89b10c7e823459924",
            "39af30ca773d449fbf03cae828473a75",
            "1edaf2a6a5244ea9bc0318599ab2e61f",
            "676c18c905e54a06b7ca8846a85715f7",
            "f711dbcad38142198b019b80614d247a",
            "d04202fcf6b248cc8e05bd8ac8949780",
            "be046526921b4780b10d25e328756878",
            "9eec9c7510f74ae384d09f4a7dc39d2e",
            "e0b5f098f7084f17ab6ad481684b357d",
            "9b92487156e84589a88c42d7aee342b3",
            "dd2a56a3658640f1bfd590bfa60ccf18",
            "5ecf13fa2c17471fbda880a9916a8cbb",
            "7d89d81133dc4dfb99c7968b15bfab45",
            "f810c253036942a3abaa0a859cace4dc",
            "afc9d846f40b4e36be4c00234d3805c0"
          ]
        }
      },
      "source": [
        "# Download the training data\n",
        "train_data = datasets.MNIST('./mnist_data', download=True, train=True,\n",
        "                            transform=transforms.Compose([\n",
        "                              transforms.ToTensor(),\n",
        "                              transforms.Normalize((0.5,), (0.5,))\n",
        "                            ]))\n",
        "\n",
        "# Download the test data\n",
        "test_data = datasets.MNIST('./mnist_data', download=True, train=False,\n",
        "                            transform=transforms.Compose([\n",
        "                              transforms.ToTensor(),\n",
        "                              transforms.Normalize((0.5,), (0.5,))\n",
        "                            ]))\n",
        "\n",
        "classes = [i for i in range(10)]\n",
        "\n",
        "print(\"Training examples: \", len(train_data))\n",
        "print(\"Test examples: \", len(test_data))"
      ],
      "execution_count": 0,
      "outputs": [
        {
          "output_type": "stream",
          "text": [
            "Downloading http://yann.lecun.com/exdb/mnist/train-images-idx3-ubyte.gz to ./mnist_data/MNIST/raw/train-images-idx3-ubyte.gz\n"
          ],
          "name": "stdout"
        },
        {
          "output_type": "display_data",
          "data": {
            "application/vnd.jupyter.widget-view+json": {
              "model_id": "b3dfac6ec3e74061924273ea2b3ebf5f",
              "version_minor": 0,
              "version_major": 2
            },
            "text/plain": [
              "HBox(children=(IntProgress(value=1, bar_style='info', max=1), HTML(value='')))"
            ]
          },
          "metadata": {
            "tags": []
          }
        },
        {
          "output_type": "stream",
          "text": [
            "Extracting ./mnist_data/MNIST/raw/train-images-idx3-ubyte.gz to ./mnist_data/MNIST/raw\n",
            "Downloading http://yann.lecun.com/exdb/mnist/train-labels-idx1-ubyte.gz to ./mnist_data/MNIST/raw/train-labels-idx1-ubyte.gz\n"
          ],
          "name": "stdout"
        },
        {
          "output_type": "display_data",
          "data": {
            "application/vnd.jupyter.widget-view+json": {
              "model_id": "47c1289fa5654cd98f8bcea1c3be32c5",
              "version_minor": 0,
              "version_major": 2
            },
            "text/plain": [
              "HBox(children=(IntProgress(value=1, bar_style='info', max=1), HTML(value='')))"
            ]
          },
          "metadata": {
            "tags": []
          }
        },
        {
          "output_type": "stream",
          "text": [
            "Extracting ./mnist_data/MNIST/raw/train-labels-idx1-ubyte.gz to ./mnist_data/MNIST/raw\n",
            "Downloading http://yann.lecun.com/exdb/mnist/t10k-images-idx3-ubyte.gz to ./mnist_data/MNIST/raw/t10k-images-idx3-ubyte.gz\n"
          ],
          "name": "stdout"
        },
        {
          "output_type": "display_data",
          "data": {
            "application/vnd.jupyter.widget-view+json": {
              "model_id": "03f5cb9acc994eb5af67b5ce12c7323a",
              "version_minor": 0,
              "version_major": 2
            },
            "text/plain": [
              "HBox(children=(IntProgress(value=1, bar_style='info', max=1), HTML(value='')))"
            ]
          },
          "metadata": {
            "tags": []
          }
        },
        {
          "output_type": "stream",
          "text": [
            "Extracting ./mnist_data/MNIST/raw/t10k-images-idx3-ubyte.gz to ./mnist_data/MNIST/raw\n",
            "Downloading http://yann.lecun.com/exdb/mnist/t10k-labels-idx1-ubyte.gz to ./mnist_data/MNIST/raw/t10k-labels-idx1-ubyte.gz\n"
          ],
          "name": "stdout"
        },
        {
          "output_type": "display_data",
          "data": {
            "application/vnd.jupyter.widget-view+json": {
              "model_id": "9eec9c7510f74ae384d09f4a7dc39d2e",
              "version_minor": 0,
              "version_major": 2
            },
            "text/plain": [
              "HBox(children=(IntProgress(value=1, bar_style='info', max=1), HTML(value='')))"
            ]
          },
          "metadata": {
            "tags": []
          }
        },
        {
          "output_type": "stream",
          "text": [
            "Extracting ./mnist_data/MNIST/raw/t10k-labels-idx1-ubyte.gz to ./mnist_data/MNIST/raw\n",
            "Processing...\n",
            "Done!\n",
            "\n",
            "\n",
            "\n",
            "Training examples:  60000\n",
            "Test examples:  10000\n"
          ],
          "name": "stdout"
        }
      ]
    },
    {
      "cell_type": "markdown",
      "metadata": {
        "id": "xwL7DMta6fDU",
        "colab_type": "text"
      },
      "source": [
        "## Lets visualize an MNIST picture:"
      ]
    },
    {
      "cell_type": "code",
      "metadata": {
        "id": "FRRVDZfe6esP",
        "colab_type": "code",
        "outputId": "17443638-34d1-4d1a-8a8b-b9df2b47f4d1",
        "colab": {
          "base_uri": "https://localhost:8080/",
          "height": 206
        }
      },
      "source": [
        "import matplotlib.pyplot as plt\n",
        "import numpy as np\n",
        "\n",
        "# function to show an image\n",
        "def imshow(img):\n",
        "    img = img / 2 + 0.5 # unnormalize\n",
        "    npimg = img.numpy()\n",
        "    plt.imshow(np.transpose(npimg, (1, 2, 0)))\n",
        "\n",
        "sample_picture = torch.utils.data.DataLoader(train_data, batch_size=5, shuffle=True)\n",
        "print(type(sample_picture))\n",
        "dataiter = iter(sample_picture)\n",
        "print(type(dataiter))\n",
        "images, labels = dataiter.next()\n",
        "print(images.size())\n",
        "# show images\n",
        "imshow(torchvision.utils.make_grid(images))\n",
        "# print labels\n",
        "print(' '.join('%5s' % classes[labels[j]] for j in range(images.shape[0])))\n",
        "\n"
      ],
      "execution_count": 0,
      "outputs": [
        {
          "output_type": "stream",
          "text": [
            "<class 'torch.utils.data.dataloader.DataLoader'>\n",
            "<class 'torch.utils.data.dataloader._SingleProcessDataLoaderIter'>\n",
            "torch.Size([5, 1, 28, 28])\n",
            "    4     5     1     8     6\n",
            "\n"
          ],
          "name": "stdout"
        },
        {
          "output_type": "display_data",
          "data": {
            "image/png": "[encoded data removed]",
            "text/plain": [
              "<Figure size 432x288 with 1 Axes>"
            ]
          },
          "metadata": {
            "tags": []
          }
        }
      ]
    },
    {
      "cell_type": "markdown",
      "metadata": {
        "colab_type": "text",
        "id": "iQAh-OPINJeU"
      },
      "source": [
        "For now we will assume that we are using the MNIST dataset. I want to call a single function that encapsulates all parts of the process: initializing the network, training, and testing. Passing to this function as arguments, I want to be able to control some basic functionality of the learning process:\n",
        "\n",
        "*   Number of epochs (repetitions of the entire training data)\n",
        "*   Batch size (how many training examples to average over per gradient update)\n",
        "\n",
        "The function call will look like:\n",
        "\n",
        "```\n",
        "losses, train_acc, test_acc = eval_net(epochs, batch_size)\n",
        "```\n",
        "\n",
        "*   `losses` will be a list of all the losses I saw during training: one for every update.\n",
        "*   `train_acc` will be a single scalar: the accuracy on the training data after training is finished.\n",
        "*   `test_acc` will be a single scalar: the accuracy on the test data after training is finished\n",
        "\n",
        "Below is the implementation of `eval_net()`.\n",
        "\n",
        "(Optional note: If the following code is confusing, please note that this is exactly the same as what you already went through step-by-step in last week's lab, so you may need to review that first.)"
      ]
    },
    {
      "cell_type": "code",
      "metadata": {
        "colab_type": "code",
        "id": "e1VHebuHrEdC",
        "colab": {}
      },
      "source": [
        "def eval_net(epochs, batch_size):\n",
        "\n",
        "  ##### Prepare return values ##################################################\n",
        "  losses = []\n",
        "  train_acc = 0\n",
        "  test_acc = 0\n",
        "\n",
        "  ##### Create iterators for each dataset ######################################\n",
        "  train_loader = torch.utils.data.DataLoader(train_data, batch_size=batch_size, shuffle=True)\n",
        "  test_loader = torch.utils.data.DataLoader(test_data, batch_size=batch_size, shuffle=False)\n",
        "\n",
        "  ##### Define the network #####################################################\n",
        "  class Net(nn.Module):\n",
        "    def __init__(self):\n",
        "      super(Net, self).__init__()\n",
        "      self.conv1 = nn.Conv2d(1, 6, 3)     # 1 channel in, 6 filters out, 3x3 filters\n",
        "      self.pool = nn.MaxPool2d(2, 2)      # 2x2 pooling, with a stride of 2 (move the window by 2 pixels)\n",
        "      self.conv2 = nn.Conv2d(6, 16, 3)    # 6 filters in, 16 filters out, 3x3 filters\n",
        "      self.fc1 = nn.Linear(16 * 5 * 5, 120) # the 16 filtered images are reduced to 5x5 now, connect to 120 hidden units out\n",
        "      self.fc2 = nn.Linear(120, 84)       # 120 hidden units in, 84 hidden units out\n",
        "      self.fc3 = nn.Linear(84, 10)        # 84 hidden units in, 10 outputs units\n",
        "\n",
        "    def forward(self, x):\n",
        "      x = self.pool(F.relu(self.conv1(x)))\n",
        "      x = self.pool(F.relu(self.conv2(x)))\n",
        "      x = x.view(-1, 16 * 5 * 5) # .view() is similar to .reshape(), so this flattens x into a vector\n",
        "      x = F.relu(self.fc1(x))\n",
        "      x = F.relu(self.fc2(x))\n",
        "      x = F.log_softmax(self.fc3(x), dim=1)\n",
        "      return x\n",
        "  \n",
        "  ##### Initialize the network and optimizer ###################################\n",
        "  print(\"Initializing the network ...\")\n",
        "  net = Net()\n",
        "  criterion = nn.CrossEntropyLoss()\n",
        "  optimizer = optim.SGD(net.parameters(), lr=0.001, momentum=0.9) # lr = learning rate/step size\n",
        "\n",
        "  ##### Training the network ###################################################\n",
        "  print(\"Training the network ...\")\n",
        "  for e in range(epochs):  # loop over the dataset multiple times\n",
        "    print(\"Epoch: \", e+1)\n",
        "    for i, data in enumerate(train_loader, 0):\n",
        "      inputs, labels = data\n",
        "      optimizer.zero_grad() # zero the parameter gradients\n",
        "\n",
        "      outputs = net(inputs) # forward pass\n",
        "      loss = criterion(outputs, labels) # compute loss\n",
        "      loss.backward() # backward pass\n",
        "      optimizer.step() # gradient descent update\n",
        "\n",
        "      losses.append(loss.item())\n",
        "\n",
        "  ##### Evaluating the network on training data ################################\n",
        "  print(\"Evaluating on training data ...\")\n",
        "  correct = 0\n",
        "  total = 0\n",
        "  with torch.no_grad():\n",
        "    for data in train_loader:\n",
        "      inputs, labels = data\n",
        "      outputs = net(inputs)\n",
        "      _, predicted = torch.max(outputs.data, 1)\n",
        "      total += labels.size(0)\n",
        "      correct += (predicted == labels).sum().item()\n",
        "  train_acc = correct / total\n",
        "\n",
        "  ##### Evaluating the network on test data ####################################\n",
        "  print(\"Evaluating on test data ...\")\n",
        "  correct = 0\n",
        "  total = 0\n",
        "  with torch.no_grad():\n",
        "    for data in test_loader:\n",
        "      inputs, labels = data\n",
        "      outputs = net(inputs)\n",
        "      _, predicted = torch.max(outputs.data, 1)\n",
        "      total += labels.size(0)\n",
        "      correct += (predicted == labels).sum().item()\n",
        "  test_acc = correct / total\n",
        "\n",
        "  return losses, train_acc, test_acc, net"
      ],
      "execution_count": 0,
      "outputs": []
    },
    {
      "cell_type": "markdown",
      "metadata": {
        "colab_type": "text",
        "id": "vcnm1UqkVMQW"
      },
      "source": [
        "Now we can try out our implementation!"
      ]
    },
    {
      "cell_type": "code",
      "metadata": {
        "colab_type": "code",
        "id": "e9uU7BjzVjq2",
        "outputId": "4f5e4eae-725c-4086-d07e-8fe687431a47",
        "colab": {
          "base_uri": "https://localhost:8080/",
          "height": 418
        }
      },
      "source": [
        "losses, train_acc, test_acc,thenet = eval_net(epochs=3, batch_size=100)\n",
        "print(\"Training accuracy: \", train_acc)\n",
        "print(\"Test accuracy: \", test_acc)\n",
        "plt.plot(losses)\n",
        "plt.show()"
      ],
      "execution_count": 0,
      "outputs": [
        {
          "output_type": "stream",
          "text": [
            "Initializing the network ...\n",
            "Training the network ...\n",
            "Epoch:  1\n",
            "Epoch:  2\n",
            "Epoch:  3\n",
            "Evaluating on training data ...\n",
            "Evaluating on test data ...\n",
            "Training accuracy:  0.9129833333333334\n",
            "Test accuracy:  0.9159\n"
          ],
          "name": "stdout"
        },
        {
          "output_type": "display_data",
          "data": {
            "image/png": "[encoded data removed]",
            "text/plain": [
              "<Figure size 432x288 with 1 Axes>"
            ]
          },
          "metadata": {
            "tags": []
          }
        }
      ]
    },
    {
      "cell_type": "code",
      "metadata": {
        "id": "KlSh2up4BGA3",
        "colab_type": "code",
        "outputId": "3238c172-5e5a-4476-b8c8-f11406f77692",
        "colab": {
          "base_uri": "https://localhost:8080/",
          "height": 171
        }
      },
      "source": [
        "testloader = torch.utils.data.DataLoader(test_data, batch_size=10, shuffle=True)\n",
        "dataiter = iter(testloader)\n",
        "images, labels = dataiter.next()\n",
        "\n",
        "# print images\n",
        "imshow(torchvision.utils.make_grid(images))\n",
        "print('GroundTruth: ', ' '.join('%1s' % classes[labels[j]] for j in range(images.shape[0])))\n",
        "\n",
        "outputs = thenet(images)\n",
        "\n",
        "_, predicted = torch.max(outputs, 1)\n",
        "\n",
        "print('Predicted: ', ' '.join('%5s' % classes[predicted[j]]\n",
        "                              for j in range(predicted.shape[0])))"
      ],
      "execution_count": 0,
      "outputs": [
        {
          "output_type": "stream",
          "text": [
            "GroundTruth:  4 6 8 1 6 8 2 7 5 7\n",
            "Predicted:      4     6     3     1     6     8     2     7     5     7\n"
          ],
          "name": "stdout"
        },
        {
          "output_type": "display_data",
          "data": {
            "image/png": "[encoded data removed]",
            "text/plain": [
              "<Figure size 432x288 with 1 Axes>"
            ]
          },
          "metadata": {
            "tags": []
          }
        }
      ]
    },
    {
      "cell_type": "code",
      "metadata": {
        "id": "cGDFgd4Zl5dL",
        "colab_type": "code",
        "colab": {}
      },
      "source": [
        "batch_size = 10\n",
        "train_loader_test = torch.utils.data.DataLoader(train_data, batch_size=batch_size, shuffle=True)\n",
        "\n",
        "class Net(nn.Module):\n",
        "    def __init__(self):\n",
        "      super(Net, self).__init__()\n",
        "      self.conv1 = nn.Conv2d(1, 6, 3)     # 1 channel in, 6 filters out, 3x3 filters\n",
        "      self.pool = nn.MaxPool2d(2, 2)      # 2x2 pooling, with a stride of 2 (move the window by 2 pixels)\n",
        "      self.conv2 = nn.Conv2d(6, 16, 3)    # 6 filters in, 16 filters out, 3x3 filters\n",
        "      self.fc1 = nn.Linear(16 * 5 * 5, 120) # the 16 filtered images are reduced to 5x5 now, connect to 120 hidden units out\n",
        "      self.fc2 = nn.Linear(120, 84)       # 120 hidden units in, 84 hidden units out\n",
        "      self.fc3 = nn.Linear(84, 10)        # 84 hidden units in, 10 outputs units\n",
        "\n",
        "    def forward(self, x):\n",
        "      x = self.pool(F.relu(self.conv1(x)))\n",
        "      x = self.pool(F.relu(self.conv2(x)))\n",
        "      x = x.view(-1, 16 * 5 * 5) # .view() is similar to .reshape(), so this flattens x into a vector\n",
        "      x = F.relu(self.fc1(x))\n",
        "      x = F.relu(self.fc2(x))\n",
        "      x = F.log_softmax(self.fc3(x), dim=1)\n",
        "      return x\n",
        "\n",
        "for i, data in enumerate(train_loader_test, 0):\n",
        "      inputs_training, labels_test = data\n",
        "      \n",
        "\n",
        "###Begin feeding forward####\n",
        "\n",
        "\n"
      ],
      "execution_count": 0,
      "outputs": []
    },
    {
      "cell_type": "code",
      "metadata": {
        "id": "auFpffsxmXJF",
        "colab_type": "code",
        "outputId": "77edf8e9-e751-4512-d227-d0cf34bbb9c0",
        "colab": {
          "base_uri": "https://localhost:8080/",
          "height": 221
        }
      },
      "source": [
        "convolution1 = nn.Conv2d(1,6,3)\n",
        "convolution2 = nn.Conv2d(6, 16, 3) \n",
        "pool1 = nn.MaxPool2d(2,2)\n",
        "\n",
        "fc1 = nn.Linear(16 * 5 * 5, 120) # the 16 filtered images are reduced to 5x5 now, connect to 120 hidden units out\n",
        "fc2 = nn.Linear(120, 84)       # 120 hidden units in, 84 hidden units out\n",
        "fc3 = nn.Linear(84, 10)        # 84 hidden units in, 10 outputs units\n",
        "\n",
        "print(inputs_training.shape)\n",
        "\n",
        "x1 = convolution1(inputs_training)\n",
        "print(x1.shape)\n",
        "\n",
        "x2 = F.relu(x1)\n",
        "print(x2.shape)\n",
        "\n",
        "x3 = pool1(x2)\n",
        "print(x3.shape)\n",
        "\n",
        "x4 = convolution2(x3)\n",
        "print(x4.shape)\n",
        "\n",
        "x5 = F.relu(x4)\n",
        "print(x5.shape)\n",
        "\n",
        "x6 = pool1(x5)\n",
        "print(x6.shape)\n",
        "\n",
        "x7 = x6.view(-1,16*5*5) #flattening\n",
        "print(x7.shape)\n",
        "\n",
        "fc1 = nn.Linear(16 * 5 * 5, 120) # the 16 filtered images are reduced to 5x5 now, connect to 120 hidden units out\n",
        "fc2 = nn.Linear(120, 84)       # 120 hidden units in, 84 hidden units out\n",
        "fc3 = nn.Linear(84, 10)        # 84 hidden units in, 10 outputs units\n",
        "\n",
        "x8 = fc1(x7)\n",
        "print(x8.shape)\n",
        "\n",
        "x9 = fc2(x8)\n",
        "print(x9.shape)\n",
        "\n",
        "x10 = fc3(x9)\n",
        "print(x10.shape)\n",
        "\n",
        "x11 = F.log_softmax(x10, dim=1)\n",
        "print(x11.shape)\n",
        "\n"
      ],
      "execution_count": 0,
      "outputs": [
        {
          "output_type": "stream",
          "text": [
            "torch.Size([10, 1, 28, 28])\n",
            "torch.Size([10, 6, 26, 26])\n",
            "torch.Size([10, 6, 26, 26])\n",
            "torch.Size([10, 6, 13, 13])\n",
            "torch.Size([10, 16, 11, 11])\n",
            "torch.Size([10, 16, 11, 11])\n",
            "torch.Size([10, 16, 5, 5])\n",
            "torch.Size([10, 400])\n",
            "torch.Size([10, 120])\n",
            "torch.Size([10, 84])\n",
            "torch.Size([10, 10])\n",
            "torch.Size([10, 10])\n"
          ],
          "name": "stdout"
        }
      ]
    },
    {
      "cell_type": "markdown",
      "metadata": {
        "id": "kQQSXzzY4GfG",
        "colab_type": "text"
      },
      "source": [
        "Similarily for part b)\n",
        "Only one convolution:"
      ]
    },
    {
      "cell_type": "code",
      "metadata": {
        "id": "fWOE5-OB3eeO",
        "colab_type": "code",
        "outputId": "81b88429-74d0-435b-946f-c76f52873541",
        "colab": {
          "base_uri": "https://localhost:8080/",
          "height": 153
        }
      },
      "source": [
        "batch_size = 10\n",
        "train_loader_test = torch.utils.data.DataLoader(train_data, batch_size=batch_size, shuffle=True)\n",
        "\n",
        "\n",
        "for i, data in enumerate(train_loader_test, 0):\n",
        "      inputs_training, labels_test = data\n",
        "\n",
        "\n",
        "convolution1 = nn.Conv2d(1,6,3)\n",
        "#convolution2 = nn.Conv2d(6, 16, 3) \n",
        "pool1 = nn.MaxPool2d(2,2)\n",
        "\n",
        "fc1 = nn.Linear(16 * 5 * 5, 120) # the 16 filtered images are reduced to 5x5 now, connect to 120 hidden units out\n",
        "fc2 = nn.Linear(120, 84)       # 120 hidden units in, 84 hidden units out\n",
        "fc3 = nn.Linear(84, 10)        # 84 hidden units in, 10 outputs units\n",
        "\n",
        "print(inputs_training.shape)\n",
        "\n",
        "x1 = convolution1(inputs_training)\n",
        "print(x1.shape)\n",
        "\n",
        "x2 = F.relu(x1)\n",
        "print(x2.shape)\n",
        "\n",
        "x3 = pool1(x2)\n",
        "print(x3.shape)\n",
        "\n",
        "x4 = x3.view(-1,6*13*13)\n",
        "print(x4.shape)\n",
        "\n",
        "fc1 = nn.Linear(6 * 13 * 13, 120) # the 16 filtered images are reduced to 5x5 now, connect to 120 hidden units out\n",
        "fc2 = nn.Linear(120, 84)       # 120 hidden units in, 84 hidden units out\n",
        "fc3 = nn.Linear(84, 10)        # 84 hidden units in, 10 outputs units\n",
        "\n",
        "x5 = fc1(x4)\n",
        "print(x8.shape)\n",
        "\n",
        "x6 = fc2(x5)\n",
        "print(x9.shape)\n",
        "\n",
        "x7 = fc3(x6)\n",
        "print(x10.shape)\n",
        "\n",
        "\n"
      ],
      "execution_count": 0,
      "outputs": [
        {
          "output_type": "stream",
          "text": [
            "torch.Size([10, 1, 28, 28])\n",
            "torch.Size([10, 6, 26, 26])\n",
            "torch.Size([10, 6, 26, 26])\n",
            "torch.Size([10, 6, 13, 13])\n",
            "torch.Size([10, 1014])\n",
            "torch.Size([10, 120])\n",
            "torch.Size([10, 84])\n",
            "torch.Size([10, 10])\n"
          ],
          "name": "stdout"
        }
      ]
    },
    {
      "cell_type": "code",
      "metadata": {
        "id": "FqdPd0_hLXwJ",
        "colab_type": "code",
        "outputId": "d7dea153-c6d3-4a21-d4b8-5569db4ac33f",
        "colab": {
          "base_uri": "https://localhost:8080/",
          "height": 187
        }
      },
      "source": [
        "class_correct = list(0. for i in range(10))\n",
        "class_total = list(0. for i in range(10))\n",
        "with torch.no_grad():\n",
        "    for data in testloader:\n",
        "        images, labels = data\n",
        "        outputs = thenet(images)\n",
        "        _, predicted = torch.max(outputs, 1)\n",
        "        c = (predicted == labels).squeeze()\n",
        "        for i in range(1,10):\n",
        "            label = labels[i]\n",
        "            class_correct[label] += c[i].item()\n",
        "            class_total[label] += 1\n",
        "\n",
        "for i in range(10):\n",
        "    print('Accuracy of %1s : %2d %%' % (\n",
        "        classes[i], 100 * class_correct[i] / class_total[i]))"
      ],
      "execution_count": 0,
      "outputs": [
        {
          "output_type": "stream",
          "text": [
            "Accuracy of 0 : 96 %\n",
            "Accuracy of 1 : 95 %\n",
            "Accuracy of 2 : 81 %\n",
            "Accuracy of 3 : 89 %\n",
            "Accuracy of 4 : 79 %\n",
            "Accuracy of 5 : 77 %\n",
            "Accuracy of 6 : 85 %\n",
            "Accuracy of 7 : 84 %\n",
            "Accuracy of 8 : 85 %\n",
            "Accuracy of 9 : 83 %\n"
          ],
          "name": "stdout"
        }
      ]
    },
    {
      "cell_type": "code",
      "metadata": {
        "id": "G6ASUJqeS-wP",
        "colab_type": "code",
        "outputId": "7d5ebaf9-3f22-4bee-c65e-6b13062b05b8",
        "colab": {
          "base_uri": "https://localhost:8080/",
          "height": 34
        }
      },
      "source": [
        "class_total[label]"
      ],
      "execution_count": 0,
      "outputs": [
        {
          "output_type": "execute_result",
          "data": {
            "text/plain": [
              "886.0"
            ]
          },
          "metadata": {
            "tags": []
          },
          "execution_count": 166
        }
      ]
    },
    {
      "cell_type": "code",
      "metadata": {
        "id": "elpnZaFCQNqx",
        "colab_type": "code",
        "outputId": "50ac02a1-885e-45b8-d2fe-32de5efd8f01",
        "colab": {
          "base_uri": "https://localhost:8080/",
          "height": 34
        }
      },
      "source": [
        "test = (predicted==labels).squeeze()\n",
        "test"
      ],
      "execution_count": 0,
      "outputs": [
        {
          "output_type": "execute_result",
          "data": {
            "text/plain": [
              "tensor([ True,  True,  True,  True,  True,  True,  True, False,  True,  True])"
            ]
          },
          "metadata": {
            "tags": []
          },
          "execution_count": 110
        }
      ]
    },
    {
      "cell_type": "markdown",
      "metadata": {
        "colab_type": "text",
        "id": "rxMqVf9cyS3H"
      },
      "source": [
        "# Questions\n",
        "\n",
        "For the following questions, you will mostly be copying and pasting the implementation of `eval_net()` and modifying a few things.\n",
        "\n",
        "\n",
        "---\n",
        "---\n",
        "---\n",
        "\n",
        "\n",
        "a) **[1 point]** You will implement a modification called `eval_net_a()`. Since we are following the implementation in `eval_net()`, assume that there are always 2 convolutional layers, and 2 fully connected hidden layers (the layer of size 10 is the output). We want to control the number of filters and the size of the hidden layers. As arguments, we will pass the epoch and batch_size as before, but also pass a list containing 4 elements: \n",
        "\n",
        "*   The number of filters in convolutional layer 1\n",
        "*   The number of filters in convolutional layer 2\n",
        "*   The number of hidden nodes in fully connected layer 1\n",
        "*   The number of hidden nodes in fully connected layer 2\n",
        "\n",
        "```\n",
        "num_params = [num_filters1, num_filters2, num_hidden1, num_hidden2]\n",
        "```"
      ]
    },
    {
      "cell_type": "code",
      "metadata": {
        "colab_type": "code",
        "id": "_BIKWtRtdzET",
        "colab": {}
      },
      "source": [
        "def eval_net_a(epochs, batch_size,num_params):\n",
        "\n",
        "  ##### Prepare return values ##################################################\n",
        "  losses = []\n",
        "  train_acc = 0\n",
        "  test_acc = 0\n",
        "  num_filters1, num_filters2, num_hidden1, num_hidden2 = num_params\n",
        "\n",
        "\n",
        "  ##### Create iterators for each dataset ######################################\n",
        "  train_loader = torch.utils.data.DataLoader(train_data, batch_size=batch_size, shuffle=True)\n",
        "  test_loader = torch.utils.data.DataLoader(test_data, batch_size=batch_size, shuffle=False)\n",
        "\n",
        "  ##### Define the network #####################################################\n",
        "  class Net(nn.Module):\n",
        "    def __init__(self):\n",
        "      super(Net, self).__init__()\n",
        "      self.conv1 = nn.Conv2d(1, num_filters1, 3)     # 1 channel in, 6 filters out, 3x3 filters\n",
        "      self.pool = nn.MaxPool2d(2, 2)      # 2x2 pooling, with a stride of 2 (move the window by 2 pixels)\n",
        "      self.conv2 = nn.Conv2d(num_filters1, num_filters2, 3)    # 6 filters in, 16 filters out, 3x3 filters\n",
        "      self.fc1 = nn.Linear(num_filters2 * 5 * 5, num_hidden1) # the 16 filtered images are reduced to 5x5 now, connect to 120 hidden units out\n",
        "      self.fc2 = nn.Linear(num_hidden1, num_hidden2)       # 120 hidden units in, 84 hidden units out\n",
        "      self.fc3 = nn.Linear(num_hidden2, 10)        # 84 hidden units in, 10 outputs units\n",
        "\n",
        "    def forward(self, x):\n",
        "      x = self.pool(F.relu(self.conv1(x)))\n",
        "      x = self.pool(F.relu(self.conv2(x)))\n",
        "      x = x.view(-1, num_filters2 * 5 * 5) # .view() is similar to .reshape(), so this flattens x into a vector\n",
        "      x = F.relu(self.fc1(x))\n",
        "      x = F.relu(self.fc2(x))\n",
        "      x = F.log_softmax(self.fc3(x), dim=1)\n",
        "      return x\n",
        " \n",
        "    \n",
        "    \n",
        "    \n",
        "  ##### Initialize the network and optimizer ###################################\n",
        "  print(\"Initializing the network ...\")\n",
        "  net = Net()\n",
        "  criterion = nn.CrossEntropyLoss()\n",
        "  optimizer = optim.SGD(net.parameters(), lr=0.001, momentum=0.9) # lr = learning rate/step size\n",
        "\n",
        "\n",
        "  ##### Training the network ###################################################\n",
        "  print(\"Training the network ...\")\n",
        "  for e in range(epochs):  # loop over the dataset multiple times\n",
        "    print(\"Epoch: \", e+1)\n",
        "    for i, data in enumerate(train_loader, 0):\n",
        "      inputs, labels = data\n",
        "      optimizer.zero_grad() # zero the parameter gradients\n",
        "\n",
        "      outputs = net(inputs) # forward pass\n",
        "      loss = criterion(outputs, labels) # compute loss\n",
        "      loss.backward() # backward pass\n",
        "      optimizer.step() # gradient descent update\n",
        "\n",
        "      losses.append(loss.item())\n",
        "\n",
        "  ##### Evaluating the network on training data ################################\n",
        "  print(\"Evaluating on training data ...\")\n",
        "  correct = 0\n",
        "  total = 0\n",
        "  with torch.no_grad():\n",
        "    for data in train_loader:\n",
        "      inputs, labels = data\n",
        "      outputs = net(inputs)\n",
        "      _, predicted = torch.max(outputs.data, 1)\n",
        "      total += labels.size(0)\n",
        "      correct += (predicted == labels).sum().item()\n",
        "  train_acc = correct / total\n",
        "\n",
        "  ##### Evaluating the network on test data ####################################\n",
        "  print(\"Evaluating on test data ...\")\n",
        "  correct = 0\n",
        "  total = 0\n",
        "  with torch.no_grad():\n",
        "    for data in test_loader:\n",
        "      inputs, labels = data\n",
        "      outputs = net(inputs)\n",
        "      _, predicted = torch.max(outputs.data, 1)\n",
        "      total += labels.size(0)\n",
        "      correct += (predicted == labels).sum().item()\n",
        "  test_acc = correct / total\n",
        "\n",
        "  return losses, train_acc, test_acc"
      ],
      "execution_count": 0,
      "outputs": []
    },
    {
      "cell_type": "code",
      "metadata": {
        "colab_type": "code",
        "id": "iU-u4Ar0eUFC",
        "outputId": "c836d741-cfe1-4281-b178-ed7d542acafe",
        "colab": {
          "base_uri": "https://localhost:8080/",
          "height": 357
        }
      },
      "source": [
        "for epoch in range(14,15):\n",
        "    # We will call your answer like this:\n",
        "    losses, train_acc, test_acc = eval_net_a(epochs=epoch, batch_size=100, num_params=[6, 16, 120, 84])\n",
        "    print(\"Training accuracy: \", train_acc)\n",
        "    print(\"Test accuracy: \", test_acc)\n",
        "    #plt.plot(losses)\n",
        "    #plt.show()"
      ],
      "execution_count": 0,
      "outputs": [
        {
          "output_type": "stream",
          "text": [
            "Initializing the network ...\n",
            "Training the network ...\n",
            "Epoch:  1\n",
            "Epoch:  2\n",
            "Epoch:  3\n",
            "Epoch:  4\n",
            "Epoch:  5\n",
            "Epoch:  6\n",
            "Epoch:  7\n",
            "Epoch:  8\n",
            "Epoch:  9\n",
            "Epoch:  10\n",
            "Epoch:  11\n",
            "Epoch:  12\n",
            "Epoch:  13\n",
            "Epoch:  14\n",
            "Evaluating on training data ...\n",
            "Evaluating on test data ...\n",
            "Training accuracy:  0.9798\n",
            "Test accuracy:  0.9782\n"
          ],
          "name": "stdout"
        }
      ]
    },
    {
      "cell_type": "markdown",
      "metadata": {
        "colab_type": "text",
        "id": "LzFm3vGLgpAo"
      },
      "source": [
        "---\n",
        "---\n",
        "---\n",
        "\n",
        "b) **[1 point]** You will implement a modification called `eval_net_b()`. **Remove the second convolutional layer from `eval_net()`.** Now there should only be 1 convolutional layer, followed by 1 pooling layer, and 2 fully connected hidden layers. The convolutional filters are currently 3x3 and the pooling is currently 2x2. We will keep these square, but we want to control the size of the filters and the size of the pooling layer. We will add a new argument that controls these:\n",
        "\n",
        "```\n",
        "sizes = [filter_size, pooling_size]\n",
        "```\n",
        "\n",
        "**Be warned:** by modifying the filter sizes, you will also have to modify the total number of inputs into the first hidden layer. It was hard-coded at `16*5*5`, because we figured out that the images were reduced to 5x5 images after the convolution and pooling, but this will no longer be true. **Hint: use `x.size()` to get the proper dimensions.**"
      ]
    },
    {
      "cell_type": "code",
      "metadata": {
        "colab_type": "code",
        "id": "_2gOfvYlilnO",
        "colab": {}
      },
      "source": [
        "def eval_net_b(epochs, batch_size,sizes):\n",
        "\n",
        "  ##### Prepare return values ##################################################\n",
        "  losses = []\n",
        "  train_acc = 0\n",
        "  test_acc = 0\n",
        "  #num_filters1, num_filters2, num_hidden1, num_hidden2 = num_params\n",
        "  filter_size, pooling_size = sizes\n",
        "\n",
        "\n",
        "  ##### Create iterators for each dataset ######################################\n",
        "  train_loader = torch.utils.data.DataLoader(train_data, batch_size=batch_size, shuffle=True)\n",
        "  test_loader = torch.utils.data.DataLoader(test_data, batch_size=batch_size, shuffle=False)\n",
        "\n",
        "  ##### Define the network #####################################################\n",
        "  class Net(nn.Module):\n",
        "    def __init__(self):\n",
        "      super(Net, self).__init__()\n",
        "      self.conv1 = nn.Conv2d(1, 6, filter_size)     # 1 channel in, 6 filters out, 3x3 filters\n",
        "      self.pool = nn.MaxPool2d(pooling_size, pooling_size)      # 2x2 pooling, with a stride of 2 (move the window by 2 pixels)\n",
        "      #self.conv2 = nn.Conv2d(num_filters1, num_filters2, 3)    # 6 filters in, 16 filters out, 3x3 filters\n",
        "      self.conv2 = nn.Conv2d(1, 6, 3)    #for now make sure conv2 is conv1\n",
        "      self.fc1 = nn.Linear(6 * 13 * 13, 120) # the 16 filtered images are reduced to 5x5 now, connect to 120 hidden units out\n",
        "      self.fc2 = nn.Linear(120,84)       # 120 hidden units in, 84 hidden units out\n",
        "      self.fc3 = nn.Linear(84, 10)        # 84 hidden units in, 10 outputs units\n",
        "\n",
        "    def forward(self, x):\n",
        "      x = self.pool(F.relu(self.conv1(x)))\n",
        "      #x = self.pool(F.relu(self.conv2(x)))\n",
        "      x = x.view(-1, 6 * 13 * 13) # .view() is similar to .reshape(), so this flattens x into a vector\n",
        "      x = F.relu(self.fc1(x))\n",
        "      x = F.relu(self.fc2(x))\n",
        "      x = F.log_softmax(self.fc3(x), dim=1)\n",
        "      return x\n",
        " \n",
        "    \n",
        "    \n",
        "    \n",
        "  ##### Initialize the network and optimizer ###################################\n",
        "  print(\"Initializing the network ...\")\n",
        "  net = Net()\n",
        "  criterion = nn.CrossEntropyLoss()\n",
        "  optimizer = optim.SGD(net.parameters(), lr=0.001, momentum=0.9) # lr = learning rate/step size\n",
        "\n",
        "\n",
        "  ##### Training the network ###################################################\n",
        "  print(\"Training the network ...\")\n",
        "  for e in range(epochs):  # loop over the dataset multiple times\n",
        "    print(\"Epoch: \", e+1)\n",
        "    for i, data in enumerate(train_loader, 0):\n",
        "      inputs, labels = data\n",
        "      optimizer.zero_grad() # zero the parameter gradients\n",
        "\n",
        "      outputs = net(inputs) # forward pass\n",
        "      loss = criterion(outputs, labels) # compute loss\n",
        "      loss.backward() # backward pass\n",
        "      optimizer.step() # gradient descent update\n",
        "\n",
        "      losses.append(loss.item())\n",
        "\n",
        "  ##### Evaluating the network on training data ################################\n",
        "  print(\"Evaluating on training data ...\")\n",
        "  correct = 0\n",
        "  total = 0\n",
        "  with torch.no_grad():\n",
        "    for data in train_loader:\n",
        "      inputs, labels = data\n",
        "      outputs = net(inputs)\n",
        "      _, predicted = torch.max(outputs.data, 1)\n",
        "      total += labels.size(0)\n",
        "      correct += (predicted == labels).sum().item()\n",
        "  train_acc = correct / total\n",
        "\n",
        "  ##### Evaluating the network on test data ####################################\n",
        "  print(\"Evaluating on test data ...\")\n",
        "  correct = 0\n",
        "  total = 0\n",
        "  with torch.no_grad():\n",
        "    for data in test_loader:\n",
        "      inputs, labels = data\n",
        "      outputs = net(inputs)\n",
        "      _, predicted = torch.max(outputs.data, 1)\n",
        "      total += labels.size(0)\n",
        "      correct += (predicted == labels).sum().item()\n",
        "  test_acc = correct / total\n",
        "\n",
        "  return losses, train_acc, test_acc"
      ],
      "execution_count": 0,
      "outputs": []
    },
    {
      "cell_type": "code",
      "metadata": {
        "colab_type": "code",
        "id": "e46COLiIin9i",
        "outputId": "cb66e445-2323-4e45-e697-aa0fe8ce7118",
        "colab": {
          "base_uri": "https://localhost:8080/",
          "height": 435
        }
      },
      "source": [
        " # We will call your answer like this:\n",
        "losses, train_acc, test_acc = eval_net_b(epochs=4, batch_size=100, sizes=[3, 2])\n",
        "print(\"Training accuracy: \", train_acc)\n",
        "print(\"Test accuracy: \", test_acc)\n",
        "plt.plot(losses)\n",
        "plt.show()"
      ],
      "execution_count": 0,
      "outputs": [
        {
          "output_type": "stream",
          "text": [
            "Initializing the network ...\n",
            "Training the network ...\n",
            "Epoch:  1\n",
            "Epoch:  2\n",
            "Epoch:  3\n",
            "Epoch:  4\n",
            "Evaluating on training data ...\n",
            "Evaluating on test data ...\n",
            "Training accuracy:  0.9189833333333334\n",
            "Test accuracy:  0.9223\n"
          ],
          "name": "stdout"
        },
        {
          "output_type": "display_data",
          "data": {
            "image/png": "[encoded data removed]",
            "text/plain": [
              "<Figure size 432x288 with 1 Axes>"
            ]
          },
          "metadata": {
            "tags": []
          }
        }
      ]
    },
    {
      "cell_type": "markdown",
      "metadata": {
        "colab_type": "text",
        "id": "yl44Ykwmjmzq"
      },
      "source": [
        "---\n",
        "---\n",
        "---\n",
        "\n",
        "c) **[1 point]** You will implement a modification called `eval_net_c()`. The original `eval_net()` uses ReLU activations in the hidden layers. We should also try different activation functions. **Find a new activation function in the torch.nn.functional documentation.** They are listed under \"Non-linear activation functions\".\n",
        "\n",
        "https://pytorch.org/docs/stable/nn.functional.html\n",
        "\n",
        "Replace the ReLU activations with your new activation function. Many of these take additional arguments. Feel free to try out different values for these parameters.\n",
        "\n",
        "**Also find a new pooling function.** These can be found at:\n",
        "\n",
        "https://pytorch.org/docs/stable/nn.html\n",
        "\n",
        "listed under \"Pooling layers\". Be sure to pick one with the \"2d\" suffix. Currently we are using MaxPool2d. Replace it with the pooling function that you find."
      ]
    },
    {
      "cell_type": "code",
      "metadata": {
        "colab_type": "code",
        "id": "zWdzEU2GlCWk",
        "colab": {}
      },
      "source": [
        "def eval_net_c(epochs, batch_size):\n",
        "\n",
        "  ##### Prepare return values ##################################################\n",
        "  losses = []\n",
        "  train_acc = 0\n",
        "  test_acc = 0\n",
        "\n",
        "  ##### Create iterators for each dataset ######################################\n",
        "  train_loader = torch.utils.data.DataLoader(train_data, batch_size=batch_size, shuffle=True)\n",
        "  test_loader = torch.utils.data.DataLoader(test_data, batch_size=batch_size, shuffle=False)\n",
        "\n",
        "  ##### Define the network #####################################################\n",
        "  class Net(nn.Module):\n",
        "    def __init__(self):\n",
        "      super(Net, self).__init__()\n",
        "      self.conv1 = nn.Conv2d(1, 6, 3)     # 1 channel in, 6 filters out, 3x3 filters\n",
        "      #self.pool = nn.MaxPool2d(2, 2)      # 2x2 pooling, with a stride of 2 (move the window by 2 pixels)\n",
        "      self.pool = nn.AvgPool2d(2, 2)      # 2x2 pooling, with a stride of 2 (move the window by 2 pixels)\n",
        "      self.conv2 = nn.Conv2d(6, 16, 3)    # 6 filters in, 16 filters out, 3x3 filters\n",
        "      self.fc1 = nn.Linear(16 * 5 * 5, 120) # the 16 filtered images are reduced to 5x5 now, connect to 120 hidden units out\n",
        "      self.fc2 = nn.Linear(120, 84)       # 120 hidden units in, 84 hidden units out\n",
        "      self.fc3 = nn.Linear(84, 10)        # 84 hidden units in, 10 outputs units\n",
        "\n",
        "    def forward(self, x):\n",
        "      x = self.pool(F.relu(self.conv1(x)))\n",
        "      x = self.pool(F.relu(self.conv2(x)))\n",
        "      x = x.view(-1, 16 * 5 * 5) # .view() is similar to .reshape(), so this flattens x into a vector\n",
        "      #x = F.relu(self.fc1(x))\n",
        "      #x = F.relu(self.fc2(x))\n",
        "      x = F.softplus(self.fc1(x),beta=1,threshold=0.5)\n",
        "      x = F.softplus(self.fc2(x),beta=1,threshold=0.5)\n",
        "      x = F.log_softmax(self.fc3(x), dim=1)\n",
        "      return x\n",
        "  \n",
        "  ##### Initialize the network and optimizer ###################################\n",
        "  print(\"Initializing the network ...\")\n",
        "  net = Net()\n",
        "  criterion = nn.CrossEntropyLoss()\n",
        "  optimizer = optim.SGD(net.parameters(), lr=0.001, momentum=0.9) # lr = learning rate/step size\n",
        "\n",
        "  ##### Training the network ###################################################\n",
        "  print(\"Training the network ...\")\n",
        "  for e in range(epochs):  # loop over the dataset multiple times\n",
        "    print(\"Epoch: \", e+1)\n",
        "    for i, data in enumerate(train_loader, 0):\n",
        "      inputs, labels = data\n",
        "      optimizer.zero_grad() # zero the parameter gradients\n",
        "\n",
        "      outputs = net(inputs) # forward pass\n",
        "      loss = criterion(outputs, labels) # compute loss\n",
        "      loss.backward() # backward pass\n",
        "      optimizer.step() # gradient descent update\n",
        "\n",
        "      losses.append(loss.item())\n",
        "\n",
        "  ##### Evaluating the network on training data ################################\n",
        "  print(\"Evaluating on training data ...\")\n",
        "  correct = 0\n",
        "  total = 0\n",
        "  with torch.no_grad():\n",
        "    for data in train_loader:\n",
        "      inputs, labels = data\n",
        "      outputs = net(inputs)\n",
        "      _, predicted = torch.max(outputs.data, 1)\n",
        "      total += labels.size(0)\n",
        "      correct += (predicted == labels).sum().item()\n",
        "  train_acc = correct / total\n",
        "\n",
        "  ##### Evaluating the network on test data ####################################\n",
        "  print(\"Evaluating on test data ...\")\n",
        "  correct = 0\n",
        "  total = 0\n",
        "  with torch.no_grad():\n",
        "    for data in test_loader:\n",
        "      inputs, labels = data\n",
        "      outputs = net(inputs)\n",
        "      _, predicted = torch.max(outputs.data, 1)\n",
        "      total += labels.size(0)\n",
        "      correct += (predicted == labels).sum().item()\n",
        "  test_acc = correct / total\n",
        "\n",
        "  return losses, train_acc, test_acc, net"
      ],
      "execution_count": 0,
      "outputs": []
    },
    {
      "cell_type": "code",
      "metadata": {
        "colab_type": "code",
        "id": "8rE0geaZlF6Y",
        "outputId": "8f11c58f-a70d-41b5-de6e-deb41bd02121",
        "colab": {
          "base_uri": "https://localhost:8080/",
          "height": 418
        }
      },
      "source": [
        "# We will call your answer like this:\n",
        "losses, train_acc, test_acc,thenet = eval_net_c(epochs=3, batch_size=100)\n",
        "print(\"Training accuracy: \", train_acc)\n",
        "print(\"Test accuracy: \", test_acc)\n",
        "plt.plot(losses)\n",
        "plt.show()"
      ],
      "execution_count": 0,
      "outputs": [
        {
          "output_type": "stream",
          "text": [
            "Initializing the network ...\n",
            "Training the network ...\n",
            "Epoch:  1\n",
            "Epoch:  2\n",
            "Epoch:  3\n",
            "Evaluating on training data ...\n",
            "Evaluating on test data ...\n",
            "Training accuracy:  0.8881333333333333\n",
            "Test accuracy:  0.8921\n"
          ],
          "name": "stdout"
        },
        {
          "output_type": "display_data",
          "data": {
            "image/png": "[encoded data removed]",
            "text/plain": [
              "<Figure size 432x288 with 1 Axes>"
            ]
          },
          "metadata": {
            "tags": []
          }
        }
      ]
    },
    {
      "cell_type": "markdown",
      "metadata": {
        "colab_type": "text",
        "id": "MqS5mJpG1kOz"
      },
      "source": [
        "---\n",
        "---\n",
        "---\n",
        "\n",
        "d) **[1 point]** You will implement a modification called `eval_net_d()`. During training, we use backpropagation to compute the gradient of the weights when we call:\n",
        "\n",
        "`loss.backward()`\n",
        "\n",
        "Then we use the gradient to update the weights in the step:\n",
        "\n",
        "`optimizer.step()`\n",
        "\n",
        "The exact formula used to update the weights depends on which optimizer we chose. In `eval_net()`, we are using Stochastic Gradient Descent (SGD), with momentum. There are many optimizers, some of which can be found at:\n",
        "\n",
        "https://pytorch.org/docs/stable/optim.html\n",
        "\n",
        "**Find a new optimization algorithm under \"Algorithms\" and replace the optimizer in `eval_net()` with it.** Some algorithms include Adadelta, Adagrad, Adam, and RMSProp. Some of them require additional parameters. Feel free to use the defaults, or try out different values."
      ]
    },
    {
      "cell_type": "code",
      "metadata": {
        "colab_type": "code",
        "id": "wvkJPR_N2_yJ",
        "colab": {}
      },
      "source": [
        "def eval_net_d(epochs, batch_size):\n",
        "\n",
        "  ##### Prepare return values ##################################################\n",
        "  losses = []\n",
        "  train_acc = 0\n",
        "  test_acc = 0\n",
        "\n",
        "  ##### Create iterators for each dataset ######################################\n",
        "  train_loader = torch.utils.data.DataLoader(train_data, batch_size=batch_size, shuffle=True)\n",
        "  test_loader = torch.utils.data.DataLoader(test_data, batch_size=batch_size, shuffle=False)\n",
        "\n",
        "  ##### Define the network #####################################################\n",
        "  class Net(nn.Module):\n",
        "    def __init__(self):\n",
        "      super(Net, self).__init__()\n",
        "      self.conv1 = nn.Conv2d(1, 6, 3)     # 1 channel in, 6 filters out, 3x3 filters\n",
        "      self.pool = nn.MaxPool2d(2, 2)      # 2x2 pooling, with a stride of 2 (move the window by 2 pixels)\n",
        "      self.conv2 = nn.Conv2d(6, 16, 3)    # 6 filters in, 16 filters out, 3x3 filters\n",
        "      self.fc1 = nn.Linear(16 * 5 * 5, 120) # the 16 filtered images are reduced to 5x5 now, connect to 120 hidden units out\n",
        "      self.fc2 = nn.Linear(120, 84)       # 120 hidden units in, 84 hidden units out\n",
        "      self.fc3 = nn.Linear(84, 10)        # 84 hidden units in, 10 outputs units\n",
        "\n",
        "    def forward(self, x):\n",
        "      x = self.pool(F.relu(self.conv1(x)))\n",
        "      x = self.pool(F.relu(self.conv2(x)))\n",
        "      x = x.view(-1, 16 * 5 * 5) # .view() is similar to .reshape(), so this flattens x into a vector\n",
        "      x = F.relu(self.fc1(x))\n",
        "      x = F.relu(self.fc2(x))\n",
        "      x = F.log_softmax(self.fc3(x), dim=1)\n",
        "      return x\n",
        "  \n",
        "  ##### Initialize the network and optimizer ###################################\n",
        "  print(\"Initializing the network ...\")\n",
        "  net = Net()\n",
        "  criterion = nn.CrossEntropyLoss()\n",
        "  #optimizer = optim.SGD(net.parameters(), lr=0.001, momentum=0.9) # lr = learning rate/step size\n",
        "  optimizer = optim.Adam(net.parameters(), lr=0.001, betas=(0.9, 0.999),eps=1e-08,) # lr = learning rate/step size\n",
        "\n",
        "  ##### Training the network ###################################################\n",
        "  print(\"Training the network ...\")\n",
        "  for e in range(epochs):  # loop over the dataset multiple times\n",
        "    print(\"Epoch: \", e+1)\n",
        "    for i, data in enumerate(train_loader, 0):\n",
        "      inputs, labels = data\n",
        "      \n",
        "      optimizer.zero_grad() # zero the parameter gradients\n",
        "      outputs = net(inputs) # forward pass\n",
        "      loss = criterion(outputs, labels) # compute loss\n",
        "      loss.backward() # backward pass\n",
        "      optimizer.step() # gradient descent update\n",
        "      losses.append(loss.item())\n",
        "\n",
        "  ##### Evaluating the network on training data ################################\n",
        "  print(\"Evaluating on training data ...\")\n",
        "  correct = 0\n",
        "  total = 0\n",
        "  with torch.no_grad():\n",
        "    for data in train_loader:\n",
        "      inputs, labels = data\n",
        "      outputs = net(inputs)\n",
        "      _, predicted = torch.max(outputs.data, 1)\n",
        "      total += labels.size(0)\n",
        "      correct += (predicted == labels).sum().item()\n",
        "  train_acc = correct / total\n",
        "\n",
        "  ##### Evaluating the network on test data ####################################\n",
        "  print(\"Evaluating on test data ...\")\n",
        "  correct = 0\n",
        "  total = 0\n",
        "  with torch.no_grad():\n",
        "    for data in test_loader:\n",
        "      inputs, labels = data\n",
        "      outputs = net(inputs)\n",
        "      _, predicted = torch.max(outputs.data, 1)\n",
        "      total += labels.size(0)\n",
        "      correct += (predicted == labels).sum().item()\n",
        "  test_acc = correct / total\n",
        "\n",
        "  return losses, train_acc, test_acc, net"
      ],
      "execution_count": 0,
      "outputs": []
    },
    {
      "cell_type": "code",
      "metadata": {
        "colab_type": "code",
        "id": "ct0mSBvG3Ge1",
        "colab": {
          "base_uri": "https://localhost:8080/",
          "height": 401
        },
        "outputId": "52d5e7a0-4841-47ed-be97-3328154c4fc2"
      },
      "source": [
        "# We will call your answer like this:\n",
        "losses, train_acc, test_acc,thenet = eval_net_d(epochs=2, batch_size=100)\n",
        "print(\"Training accuracy: \", train_acc)\n",
        "print(\"Test accuracy: \", test_acc)\n",
        "plt.plot(losses)\n",
        "plt.show()"
      ],
      "execution_count": 34,
      "outputs": [
        {
          "output_type": "stream",
          "text": [
            "Initializing the network ...\n",
            "Training the network ...\n",
            "Epoch:  1\n",
            "Epoch:  2\n",
            "Evaluating on training data ...\n",
            "Evaluating on test data ...\n",
            "Training accuracy:  0.9757833333333333\n",
            "Test accuracy:  0.9765\n"
          ],
          "name": "stdout"
        },
        {
          "output_type": "display_data",
          "data": {
            "image/png": "[encoded data removed]",
            "text/plain": [
              "<Figure size 432x288 with 1 Axes>"
            ]
          },
          "metadata": {
            "tags": []
          }
        }
      ]
    },
    {
      "cell_type": "code",
      "metadata": {
        "id": "6SNQZoIJREiu",
        "colab_type": "code",
        "colab": {
          "base_uri": "https://localhost:8080/",
          "height": 323
        },
        "outputId": "e3d0d935-522e-4f0f-8c89-9c251442413c"
      },
      "source": [
        "testloader = torch.utils.data.DataLoader(test_data, batch_size=100, shuffle=False)\n",
        "dataiter = iter(testloader)\n",
        "images, labels = dataiter.next()\n",
        "\n",
        "# print images\n",
        "imshow(torchvision.utils.make_grid(images))\n",
        "print('GroundTruth: ', ' '.join('%1s' % classes[labels[j]] for j in range(images.shape[0])))\n",
        "\n",
        "outputs = thenet(images)\n",
        "\n",
        "_, predicted = torch.max(outputs, 1)\n",
        "\n",
        "print('Predicted:   ', ' '.join('%1s' % classes[predicted[j]]\n",
        "                              for j in range(predicted.shape[0])))"
      ],
      "execution_count": 37,
      "outputs": [
        {
          "output_type": "stream",
          "text": [
            "GroundTruth:  7 2 1 0 4 1 4 9 5 9 0 6 9 0 1 5 9 7 3 4 9 6 6 5 4 0 7 4 0 1 3 1 3 4 7 2 7 1 2 1 1 7 4 2 3 5 1 2 4 4 6 3 5 5 6 0 4 1 9 5 7 8 9 3 7 4 6 4 3 0 7 0 2 9 1 7 3 2 9 7 7 6 2 7 8 4 7 3 6 1 3 6 9 3 1 4 1 7 6 9\n",
            "Predicted:    7 2 1 0 4 1 4 9 5 9 0 6 9 0 1 5 9 7 8 4 9 6 6 5 4 0 7 4 0 1 3 1 3 4 7 2 7 1 2 1 1 7 4 2 3 5 1 2 4 4 6 3 5 5 6 0 4 1 9 5 7 8 9 3 7 4 6 4 3 0 7 0 2 9 1 7 3 2 9 7 7 6 2 7 8 4 7 3 6 1 3 6 4 3 1 4 1 7 6 9\n"
          ],
          "name": "stdout"
        },
        {
          "output_type": "display_data",
          "data": {
            "image/png": "[encoded data removed]",
            "text/plain": [
              "<Figure size 432x288 with 1 Axes>"
            ]
          },
          "metadata": {
            "tags": []
          }
        }
      ]
    },
    {
      "cell_type": "code",
      "metadata": {
        "id": "fDSJV57lSzxT",
        "colab_type": "code",
        "colab": {}
      },
      "source": [
        ""
      ],
      "execution_count": 0,
      "outputs": []
    }
  ]
}