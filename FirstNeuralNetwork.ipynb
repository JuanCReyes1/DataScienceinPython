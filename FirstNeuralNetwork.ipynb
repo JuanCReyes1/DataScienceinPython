{
 "cells": [
  {
   "cell_type": "markdown",
   "metadata": {},
   "source": [
    "## A Neural Network that performs Linear Regression"
   ]
  },
  {
   "cell_type": "markdown",
   "metadata": {},
   "source": [
    "This is a quick example to demonstrate linear regression on randomly generated data using scikit learn's SGDRegressor."
   ]
  },
  {
   "cell_type": "code",
   "execution_count": 2,
   "metadata": {},
   "outputs": [],
   "source": [
    "import numpy as np\n",
    "import matplotlib.pyplot as plt"
   ]
  },
  {
   "cell_type": "code",
   "execution_count": 3,
   "metadata": {},
   "outputs": [],
   "source": [
    "from sklearn.datasets import make_regression\n",
    "import pandas as pd"
   ]
  },
  {
   "cell_type": "markdown",
   "metadata": {},
   "source": [
    "## Generating Regression Data"
   ]
  },
  {
   "cell_type": "markdown",
   "metadata": {},
   "source": [
    "We will generate our own dataset to gain control of the properties of the dataset.\n"
   ]
  },
  {
   "cell_type": "code",
   "execution_count": 4,
   "metadata": {},
   "outputs": [],
   "source": [
    "data = make_regression(n_samples = 100, n_features = 3,\n",
    "                       random_state=1)\n"
   ]
  },
  {
   "cell_type": "markdown",
   "metadata": {},
   "source": [
    "The function make_regression() returns a tuple of two Numpy objects"
   ]
  },
  {
   "cell_type": "code",
   "execution_count": 5,
   "metadata": {},
   "outputs": [
    {
     "name": "stdout",
     "output_type": "stream",
     "text": [
      "<class 'tuple'>\n"
     ]
    }
   ],
   "source": [
    "print(type(data))"
   ]
  },
  {
   "cell_type": "markdown",
   "metadata": {},
   "source": [
    " The make_regression() function stores the features in the first numpy array, and the labels in the second NumPy array.\n",
    " \n",
    "\" Briefly, feature is input; label is output. This applies to both classification and regression problems.\n",
    "\n",
    "A feature is one column of the data in your input set. For instance, if you're trying to predict the type of pet someone will choose, your input features might include age, home region, family income, etc. The label is the final choice, such as dog, fish, iguana, rock, etc.\n",
    "\n",
    "Once you've trained your model, you will give it sets of new input containing those features; it will return the predicted \"label\" (pet type) for that person. \" \n",
    "\n",
    "From: https://stackoverflow.com/questions/40898019/what-is-the-difference-between-a-feature-and-a-label/40899529"
   ]
  },
  {
   "cell_type": "code",
   "execution_count": 6,
   "metadata": {
    "scrolled": true
   },
   "outputs": [
    {
     "name": "stdout",
     "output_type": "stream",
     "text": [
      "[[ 1.29322588e+00 -6.17362064e-01 -1.10447026e-01]\n",
      " [-2.79308500e+00  3.66332015e-01  1.93752881e+00]\n",
      " [ 8.01861032e-01 -1.86569772e-01  4.65672984e-02]\n",
      " [ 1.29101580e-01  5.02740882e-01  1.61694960e+00]\n",
      " [-6.91660752e-01 -6.87172700e-01 -3.96753527e-01]\n",
      " [-7.54397941e-01  5.12929820e-01  1.25286816e+00]\n",
      " [ 1.90465871e+00  6.59049796e-01  1.11105670e+00]\n",
      " [ 2.01830179e-01  1.79215821e+00  6.61020288e-01]\n",
      " [ 4.22137467e-02 -1.10061918e+00  5.82815214e-01]\n",
      " [-1.39649634e+00 -5.04465863e-01 -1.44411381e+00]\n",
      " [-3.10116774e-01  1.03882460e+00 -2.43483776e+00]\n",
      " [ 8.36004719e-01  7.58805660e-01  1.54335911e+00]\n",
      " [-8.45080274e-02  4.17302005e-01 -2.97361883e-01]\n",
      " [-8.90555584e-01  1.95607890e+00 -1.11911540e+00]\n",
      " [-9.35769434e-01  5.30355467e-01 -2.67888080e-01]\n",
      " [ 1.55880554e+00 -1.21974440e+00  1.09402696e-01]\n",
      " [ 8.10951673e-01 -4.00878192e-01  1.04444209e+00]\n",
      " [ 4.36689932e-02  1.33145711e+00 -2.26314243e-01]\n",
      " [ 7.42044161e-01 -8.87628964e-01 -1.91835552e-01]\n",
      " [ 1.69382433e-01 -9.53700602e-01  7.40556451e-01]\n",
      " [-1.61577235e+00  4.08900538e-01  1.12141771e+00]\n",
      " [ 2.19069973e+00 -6.46916688e-01 -1.89636092e+00]\n",
      " [ 1.39984394e+00 -4.37508983e-01 -7.81911683e-01]\n",
      " [ 8.24005618e-01  1.95487808e+00 -5.62305431e-01]\n",
      " [ 1.74481176e+00  3.19039096e-01 -7.61206901e-01]\n",
      " [-1.52568032e+00 -3.74438319e-01  7.95026094e-01]\n",
      " [-1.30572692e+00 -2.30839743e-01 -3.44987210e-01]\n",
      " [-1.01745873e-01  7.50411640e-01  8.68886157e-01]\n",
      " [-1.33195167e+00 -1.65072127e+00 -1.76068856e+00]\n",
      " [-1.27255876e+00  5.03184813e-01  3.13547720e-01]\n",
      " [-1.12201873e+00 -9.97026828e-01 -5.17094458e-01]\n",
      " [ 9.00855949e-01 -1.22890226e-01 -6.83727859e-01]\n",
      " [-2.02220122e+00  8.27974643e-01 -3.06204013e-01]\n",
      " [ 9.01486892e-01 -2.48634778e-01  2.52832571e+00]\n",
      " [ 1.96710175e+00  1.23616403e+00 -1.85798186e+00]\n",
      " [-1.11731035e+00  1.65980218e+00  2.34415698e-01]\n",
      " [ 3.15159392e-01 -8.59515941e-01  8.46160648e-01]\n",
      " [ 6.23362177e-01  1.40754000e+00 -4.34956683e-01]\n",
      " [-1.74703160e-01  2.13533901e-01  9.86335188e-01]\n",
      " [ 2.48799161e-01  4.95211324e-01 -2.96641152e-01]\n",
      " [-2.49370375e-01 -2.06014071e+00  1.46210794e+00]\n",
      " [-3.22417204e-01  1.13376944e+00 -3.84054355e-01]\n",
      " [-2.98092835e-01 -7.55717130e-02  4.88518147e-01]\n",
      " [ 2.11124755e-01  1.77187720e-01  1.65275673e-02]\n",
      " [ 4.03491642e-01 -1.09491185e+00  5.93578523e-01]\n",
      " [-6.65754518e-01  8.25029824e-01 -1.67419581e+00]\n",
      " [-2.87307863e-01 -3.19801599e-01  6.80069840e-01]\n",
      " [-1.07296862e+00 -2.30153870e+00  8.65407629e-01]\n",
      " [-3.43853676e-01 -6.20000844e-01  4.35968568e-02]\n",
      " [ 2.30094735e-01 -2.22328143e-01  7.62011180e-01]\n",
      " [-2.66218506e-01 -1.37311732e+00  3.26145467e-02]\n",
      " [-7.47158294e-01  5.08077548e-02  1.69245460e+00]\n",
      " [-1.04458938e+00  5.85662000e-01  2.05117344e+00]\n",
      " [ 1.14472371e+00  5.02494339e-01  9.01590721e-01]\n",
      " [ 4.29526140e-01  1.06222724e-01 -6.06998398e-01]\n",
      " [ 6.98032034e-01  1.22450770e+00 -4.47128565e-01]\n",
      " [-1.20464572e-01 -1.18231813e+00 -1.23312074e+00]\n",
      " [ 1.62434536e+00 -5.28171752e-01 -6.11756414e-01]\n",
      " [ 3.50545979e-01 -3.86955093e-02 -1.31228341e+00]\n",
      " [ 1.60037069e-01  3.15634947e-01  8.76168921e-01]\n",
      " [ 2.44936865e+00 -1.98837863e-01 -5.45774168e-01]\n",
      " [-3.52249846e-01 -3.49342722e-01 -1.14251820e+00]\n",
      " [ 1.20158952e-01  3.00170320e-01  6.17203110e-01]\n",
      " [-1.23005814e+00  7.92806866e-01  5.50537496e-01]\n",
      " [-2.46169559e-02  1.27375593e+00 -7.75161619e-01]\n",
      " [ 2.62467445e-01 -7.33271604e-01  2.76499305e-01]\n",
      " [ 1.62765075e+00 -1.19926803e+00  3.38011697e-01]\n",
      " [-7.31127037e-02  3.69492716e-01  1.16033857e+00]\n",
      " [ 6.18539131e-01  1.81053491e+00 -4.43171931e-01]\n",
      " [-1.39662042e+00  6.74711526e-01 -8.61316361e-01]\n",
      " [-4.98213564e-01 -1.89148284e-03 -3.10984978e-01]\n",
      " [-1.62743834e+00  4.20282204e-01  6.02319280e-01]\n",
      " [-8.45205641e-01 -1.26645989e-02 -6.71246131e-01]\n",
      " [-3.26499498e-01  1.11438298e+00 -1.34267579e+00]\n",
      " [ 9.31102081e-01  8.85141164e-01  2.85587325e-01]\n",
      " [ 8.63345318e-01 -6.03920628e-01 -1.80920302e-01]\n",
      " [-2.00758069e-01  4.10051647e-01  1.86561391e-01]\n",
      " [ 1.98299720e-01 -6.70662286e-01  1.19008646e-01]\n",
      " [ 5.29465324e-01  7.78211279e-02  1.37701210e-01]\n",
      " [-5.86523939e-01  8.75838928e-01 -1.23685338e+00]\n",
      " [-6.36995647e-01  2.10025514e+00  1.90915485e-01]\n",
      " [-5.68244809e-02 -6.80678141e-01  4.92336556e-01]\n",
      " [-6.23530730e-01 -1.14434139e+00  5.20576337e-01]\n",
      " [ 6.18380262e-01  6.82551407e-01  2.32494559e-01]\n",
      " [-6.38730407e-01  7.73400683e-02  4.23494354e-01]\n",
      " [-1.36444744e-01  1.74094083e-02 -1.19054188e-01]\n",
      " [ 1.34048197e-01  2.84748111e-01  1.20205486e+00]\n",
      " [ 3.77563786e-01  1.12948391e+00  1.21821271e-01]\n",
      " [-2.08894233e-01  8.38983414e-01  5.86623191e-01]\n",
      " [-1.44087602e+00 -2.54179868e-01  1.23225307e+00]\n",
      " [ 7.84770651e-01  5.85910431e-01 -9.55425262e-01]\n",
      " [ 9.54250872e-02  6.07501958e-02  9.21450069e-01]\n",
      " [ 8.84908814e-01 -8.67787223e-01 -8.77281519e-01]\n",
      " [-1.09989127e+00 -8.77858418e-01 -1.72428208e-01]\n",
      " [ 1.13162939e+00  2.18557541e+00  1.51981682e+00]\n",
      " [ 1.19891788e+00 -3.75284950e-01  1.85156417e-01]\n",
      " [-1.11647002e+00 -1.86578994e-01  8.09271010e-02]\n",
      " [ 2.18697965e+00 -1.00155233e-01  4.41364444e-01]\n",
      " [ 5.62761097e-01  2.80665077e-01  2.40737092e-01]\n",
      " [-7.00398505e-01  2.42669441e-01 -2.03394449e-01]]\n"
     ]
    }
   ],
   "source": [
    "#Features\n",
    "\n",
    "print(data[0])\n"
   ]
  },
  {
   "cell_type": "code",
   "execution_count": 7,
   "metadata": {},
   "outputs": [
    {
     "data": {
      "text/plain": [
       "array([ 1.29322588, -0.61736206, -0.11044703])"
      ]
     },
     "execution_count": 7,
     "metadata": {},
     "output_type": "execute_result"
    }
   ],
   "source": [
    "#First Row\n",
    "\n",
    "data[0][0]"
   ]
  },
  {
   "cell_type": "code",
   "execution_count": 8,
   "metadata": {
    "scrolled": true
   },
   "outputs": [
    {
     "data": {
      "text/plain": [
       "array([ -10.37865986,   25.5124503 ,   19.67705609,  149.50205427,\n",
       "       -121.65210879,   90.29412996,  214.01379719,  224.74157328,\n",
       "        -73.17331138, -195.62776209,  -52.49101402,  201.80460524,\n",
       "         20.27419601,   89.16398784,   -4.43979447,  -45.4775122 ,\n",
       "         56.90170664,  120.54902155,  -66.21870151,  -43.83850762,\n",
       "         34.28844887,  -77.50879778,  -26.91704015,  197.19513885,\n",
       "         64.4108542 ,  -58.24364135, -100.61171138,  120.30838239,\n",
       "       -324.6376023 ,   11.80311373, -178.33643388,  -12.11793859,\n",
       "        -25.22113932,  162.27013301,  101.22058681,  128.5378687 ,\n",
       "        -21.93291701,  141.56205532,   70.77737306,   42.75618757,\n",
       "       -129.88966784,   75.63153631,    7.75853852,   27.82808415,\n",
       "        -56.01743267,  -45.12995511,   -4.79734991, -224.87997574,\n",
       "        -74.02423583,   32.47986763, -145.77204264,   70.44079726,\n",
       "        131.09675782,  152.75477314,   -5.80729922,  126.03820644,\n",
       "       -194.05903549,  -16.07374331,  -64.65855618,   89.26813436,\n",
       "         56.81764512, -116.58860426,   70.91442266,   56.12941632,\n",
       "         79.90072841,  -44.89655856,  -27.11317814,  100.82239274,\n",
       "        180.75763303,  -45.02977955,  -40.28966423,    4.70983448,\n",
       "        -77.6416384 ,   17.78110239,  145.36191106,  -32.14346413,\n",
       "         42.56333581,  -50.69469082,   39.10805003,  -11.1650345 ,\n",
       "        190.82721374,  -41.2481516 , -110.53993067,  108.40348884,\n",
       "          4.05845119,  -11.23037507,  104.01543511,  135.5604179 ,\n",
       "        107.92408052,  -17.16536951,   37.10456128,   63.81909065,\n",
       "        -97.80560038, -145.51888775,  354.71399851,   26.60508124,\n",
       "        -63.09743841,  112.39944435,   66.6482531 ,  -18.76162201])"
      ]
     },
     "execution_count": 8,
     "metadata": {},
     "output_type": "execute_result"
    }
   ],
   "source": [
    "#Labels\n",
    "data[1]"
   ]
  },
  {
   "cell_type": "code",
   "execution_count": 9,
   "metadata": {},
   "outputs": [
    {
     "data": {
      "text/plain": [
       "-10.378659861310346"
      ]
     },
     "execution_count": 9,
     "metadata": {},
     "output_type": "execute_result"
    }
   ],
   "source": [
    "#First Label\n",
    "data[1][0]"
   ]
  },
  {
   "cell_type": "markdown",
   "metadata": {},
   "source": [
    "Now we can use the pandas.DataFrame() constructor to make a dataframe.\n"
   ]
  },
  {
   "cell_type": "code",
   "execution_count": 10,
   "metadata": {},
   "outputs": [],
   "source": [
    "features = pd.DataFrame(data[0])"
   ]
  },
  {
   "cell_type": "code",
   "execution_count": 11,
   "metadata": {},
   "outputs": [],
   "source": [
    "labels = pd.Series(data[1])"
   ]
  },
  {
   "cell_type": "code",
   "execution_count": 12,
   "metadata": {
    "scrolled": true
   },
   "outputs": [
    {
     "data": {
      "text/html": [
       "<div>\n",
       "<style scoped>\n",
       "    .dataframe tbody tr th:only-of-type {\n",
       "        vertical-align: middle;\n",
       "    }\n",
       "\n",
       "    .dataframe tbody tr th {\n",
       "        vertical-align: top;\n",
       "    }\n",
       "\n",
       "    .dataframe thead th {\n",
       "        text-align: right;\n",
       "    }\n",
       "</style>\n",
       "<table border=\"1\" class=\"dataframe\">\n",
       "  <thead>\n",
       "    <tr style=\"text-align: right;\">\n",
       "      <th></th>\n",
       "      <th>0</th>\n",
       "      <th>1</th>\n",
       "      <th>2</th>\n",
       "    </tr>\n",
       "  </thead>\n",
       "  <tbody>\n",
       "    <tr>\n",
       "      <th>0</th>\n",
       "      <td>1.293226</td>\n",
       "      <td>-0.617362</td>\n",
       "      <td>-0.110447</td>\n",
       "    </tr>\n",
       "    <tr>\n",
       "      <th>1</th>\n",
       "      <td>-2.793085</td>\n",
       "      <td>0.366332</td>\n",
       "      <td>1.937529</td>\n",
       "    </tr>\n",
       "    <tr>\n",
       "      <th>2</th>\n",
       "      <td>0.801861</td>\n",
       "      <td>-0.186570</td>\n",
       "      <td>0.046567</td>\n",
       "    </tr>\n",
       "    <tr>\n",
       "      <th>3</th>\n",
       "      <td>0.129102</td>\n",
       "      <td>0.502741</td>\n",
       "      <td>1.616950</td>\n",
       "    </tr>\n",
       "    <tr>\n",
       "      <th>4</th>\n",
       "      <td>-0.691661</td>\n",
       "      <td>-0.687173</td>\n",
       "      <td>-0.396754</td>\n",
       "    </tr>\n",
       "  </tbody>\n",
       "</table>\n",
       "</div>"
      ],
      "text/plain": [
       "          0         1         2\n",
       "0  1.293226 -0.617362 -0.110447\n",
       "1 -2.793085  0.366332  1.937529\n",
       "2  0.801861 -0.186570  0.046567\n",
       "3  0.129102  0.502741  1.616950\n",
       "4 -0.691661 -0.687173 -0.396754"
      ]
     },
     "execution_count": 12,
     "metadata": {},
     "output_type": "execute_result"
    }
   ],
   "source": [
    "features.head()"
   ]
  },
  {
   "cell_type": "code",
   "execution_count": 13,
   "metadata": {
    "scrolled": true
   },
   "outputs": [
    {
     "data": {
      "text/plain": [
       "0    -10.378660\n",
       "1     25.512450\n",
       "2     19.677056\n",
       "3    149.502054\n",
       "4   -121.652109\n",
       "dtype: float64"
      ]
     },
     "execution_count": 13,
     "metadata": {},
     "output_type": "execute_result"
    }
   ],
   "source": [
    "labels.head()"
   ]
  },
  {
   "cell_type": "markdown",
   "metadata": {},
   "source": [
    "Because the inputs from one layer of neurons feed into the next layer of neurons feed the next layer of the single, output neuron, this is known as a feedforward network.\n",
    "In the language of graphs this is known as a directed, acyclic graph."
   ]
  },
  {
   "cell_type": "markdown",
   "metadata": {},
   "source": [
    "## Fitting a Network"
   ]
  },
  {
   "cell_type": "markdown",
   "metadata": {},
   "source": [
    "Gradient Descent Method using the sci-kit learn implementation.\n",
    "The implementation lives in the SGDRegressor class. \n",
    "We use it in the same way we do with the Linear Regression class."
   ]
  },
  {
   "cell_type": "markdown",
   "metadata": {},
   "source": [
    "First, we will add a bias column containing the value 1 for each row named \"bias\" to the features dataframe."
   ]
  },
  {
   "cell_type": "code",
   "execution_count": 14,
   "metadata": {},
   "outputs": [],
   "source": [
    "features[\"bias\"] = 1"
   ]
  },
  {
   "cell_type": "markdown",
   "metadata": {},
   "source": [
    "Now we will import SGDRegressor from the sklearn.linear_model"
   ]
  },
  {
   "cell_type": "code",
   "execution_count": 15,
   "metadata": {},
   "outputs": [],
   "source": [
    "from sklearn.linear_model import SGDRegressor"
   ]
  },
  {
   "cell_type": "markdown",
   "metadata": {},
   "source": [
    "Define training function which intakes features dataframe and labels series and performs model fitting.\n",
    "We will use the SGDRegressor class to handle the model fitting.\n",
    "The function will return a Numpy 2D array of weights for the linear regression model."
   ]
  },
  {
   "cell_type": "code",
   "execution_count": 23,
   "metadata": {},
   "outputs": [],
   "source": [
    "def train(features, labels):\n",
    "    lr = SGDRegressor()\n",
    "    lr.fit(features,labels)\n",
    "    weights = lr.coef_\n",
    "    return weights"
   ]
  },
  {
   "cell_type": "markdown",
   "metadata": {},
   "source": [
    "Define a feedforward function which takes in the features dataframe and the weights NumPy array.\n",
    "This will perform matrix multiplication between features (100 rows, 4 columns) and\n",
    "weights (4 rows, 1 column) and assign the result to predictions."
   ]
  },
  {
   "cell_type": "code",
   "execution_count": 24,
   "metadata": {},
   "outputs": [],
   "source": [
    "def feedforward(features, weights):\n",
    "    predictions = np.dot(features, weights.T)\n",
    "    return predictions"
   ]
  },
  {
   "cell_type": "markdown",
   "metadata": {},
   "source": [
    "Now we will run the train() and feedforward() functions. The final predictions are stored in \"linear_predictions\"."
   ]
  },
  {
   "cell_type": "code",
   "execution_count": 25,
   "metadata": {},
   "outputs": [],
   "source": [
    "train_weights = train(features,labels)\n",
    "\n",
    "linear_predictions = feedforward(features,train_weights)"
   ]
  },
  {
   "cell_type": "code",
   "execution_count": 26,
   "metadata": {},
   "outputs": [
    {
     "data": {
      "text/plain": [
       "array([ -10.35660261,   25.46989821,   19.67455269,  149.3862387 ,\n",
       "       -121.55478728,   90.22167788,  213.86510672,  224.58602803,\n",
       "        -73.12041233, -195.46724381,  -52.4140114 ,  201.65544577,\n",
       "         20.27304515,   89.12305275,   -4.42672333,  -45.43302379,\n",
       "         56.86014798,  120.47735408,  -66.15831362,  -43.80775843,\n",
       "         34.25413898,  -77.4136555 ,  -26.87429236,  197.07681195,\n",
       "         64.39066246,  -58.20880833, -100.53165696,  120.22204929,\n",
       "       -324.38269174,   11.79616941, -178.19930646,  -12.08835504,\n",
       "        -25.1964294 ,  162.13583208,  101.18979843,  128.4509767 ,\n",
       "        -21.91839053,  141.48025989,   70.72383865,   42.7403704 ,\n",
       "       -129.80963817,   75.59215315,    7.75513953,   27.81845566,\n",
       "        -55.97552807,  -45.06918125,   -4.7944684 , -224.72836983,\n",
       "        -73.96485824,   32.45726137, -145.66220807,   70.37645015,\n",
       "        130.98444665,  152.6492301 ,   -5.78458841,  125.96763626,\n",
       "       -193.89842769,  -16.04010167,  -64.5857562 ,   89.20417976,\n",
       "         56.80210728, -116.48397064,   70.86655422,   56.08855654,\n",
       "         79.86442514,  -44.85868816,  -27.08429486,  100.74591996,\n",
       "        180.64857631,  -44.98201624,  -40.24965156,    4.70294819,\n",
       "        -77.57190251,   17.79466905,  145.26895501,  -32.10662439,\n",
       "         42.53991406,  -50.65090459,   39.08994477,  -11.13346231,\n",
       "        190.69891066,  -41.21665158, -110.4622    ,  108.33605365,\n",
       "          4.05743254,  -11.21204181,  103.93682821,  135.47473714,\n",
       "        107.84976505,  -17.1646837 ,   37.10300118,   63.77210176,\n",
       "        -97.71372378, -145.40912117,  354.4593505 ,   26.59715352,\n",
       "        -63.0485716 ,  112.33133949,   66.60967786,  -18.73867321])"
      ]
     },
     "execution_count": 26,
     "metadata": {},
     "output_type": "execute_result"
    }
   ],
   "source": [
    "linear_predictions"
   ]
  },
  {
   "cell_type": "markdown",
   "metadata": {},
   "source": [
    "## Generate a dataset friendly for classification using make_classification()"
   ]
  },
  {
   "cell_type": "markdown",
   "metadata": {},
   "source": [
    "Like the data generated by make_regression(), the make_classification() function returns a tuple of two NumPy objects.\n",
    "\n",
    "The features are stored in the first NumPy array and the labels are stored in the second NumPy array.\n",
    "\n",
    "We must first import the make_classification() function from sklearn.datasets package. \n",
    "\n"
   ]
  },
  {
   "cell_type": "code",
   "execution_count": 27,
   "metadata": {},
   "outputs": [],
   "source": [
    "from sklearn.datasets import make_classification"
   ]
  },
  {
   "cell_type": "markdown",
   "metadata": {},
   "source": [
    "Generate a data set for classification:\n",
    "100 observations, 4 features, random seed of 1."
   ]
  },
  {
   "cell_type": "code",
   "execution_count": 28,
   "metadata": {},
   "outputs": [],
   "source": [
    "class_data = make_classification(n_samples=100,\n",
    "                                 n_features=4,\n",
    "                                 random_state=1)"
   ]
  },
  {
   "cell_type": "markdown",
   "metadata": {},
   "source": [
    "Features Input: Convert the NumPy array of generated features into a pandas dataframe and assign to class_features. "
   ]
  },
  {
   "cell_type": "code",
   "execution_count": 29,
   "metadata": {},
   "outputs": [],
   "source": [
    "class_features = pd.DataFrame(class_data[0])"
   ]
  },
  {
   "cell_type": "markdown",
   "metadata": {},
   "source": [
    "Labels Output: Convert the NumPy array of generated labels into a pandas dataframe and assign to class_labels. "
   ]
  },
  {
   "cell_type": "code",
   "execution_count": 30,
   "metadata": {},
   "outputs": [],
   "source": [
    "class_labels = pd.DataFrame(class_data[1])"
   ]
  },
  {
   "cell_type": "markdown",
   "metadata": {},
   "source": [
    "So far we have replicated linear regression as a feedforward neural network model and learned about nonlinear activation functions. We have a better idea of what defines a neural network. These are their component parts:\n",
    "\n",
    "- A network structure (how are the nodes connected? Which direction does the data and computation flow?)\n",
    "- A feedforward function (how are node weights and observation values combined?)\n",
    "- An activation function (what transformations on the data are performed?)\n",
    "- A model fitting function (how is the model being fitted?)\n"
   ]
  },
  {
   "cell_type": "markdown",
   "metadata": {},
   "source": [
    "## Neural Network: Logistic Regression model"
   ]
  },
  {
   "cell_type": "markdown",
   "metadata": {},
   "source": [
    "Review of Binary Classification and Logistic Regression:"
   ]
  },
  {
   "cell_type": "markdown",
   "metadata": {},
   "source": [
    "In binary classification, we are interested in finding a model that can differentiate between two categorical values (9&1).\n",
    "We can try to learn the probability that a given observation belongs in either category.\n",
    "\n",
    "In the language of conditional probability, we are interested in the probability that a given observation x belongs to each category:"
   ]
  },
  {
   "cell_type": "markdown",
   "metadata": {},
   "source": [
    "$ P(y=0|x)=0.3 $ <br> \n",
    "$ P(y=1|x)=0.7 $ <br>\n",
    "Now, we are interested in our binary classigication model to learn:\n"
   ]
  },
  {
   "cell_type": "markdown",
   "metadata": {},
   "source": [
    "$ P(y=|x)= ? $ <br>\n",
    "If $ P(y=1|x)>0.5 $, we want the model to assign it to category (1) <br> \n",
    "If $ P(y=1|x)<0.5 $, we want the model to assign it to category (0) <br> "
   ]
  },
  {
   "cell_type": "markdown",
   "metadata": {},
   "source": [
    "Implementing a Logistic Regression Model:\n",
    "<br>\n",
    "A logistic regression model consists of two main components:\n",
    "<br>\n",
    "Computing the weighted linear combination of weights and features: $Xa^T$\n",
    "<br>\n",
    "Applying a transformation function to squash the result so it varies between 0 and 1: $ \\sigma(Xa^T) $\n",
    "<br>\n",
    "Combining these two steps yields the following definition of a logistic regression model:\n",
    "<br>\n",
    "$\\hat{y}=\\sigma(Xa^T)$\n",
    "<br>\n",
    "In the neural networks literature, this function is represented as the sigmoid function:\n",
    "$S(x)=\\frac{1}{1+e^{-x}}$"
   ]
  },
  {
   "cell_type": "code",
   "execution_count": 31,
   "metadata": {},
   "outputs": [
    {
     "data": {
      "image/png": "[encoded data removed]",
      "text/plain": [
       "<Figure size 432x288 with 1 Axes>"
      ]
     },
     "metadata": {
      "needs_background": "light"
     },
     "output_type": "display_data"
    }
   ],
   "source": [
    "#Plotting a sigmoid function \n",
    "import math\n",
    "\n",
    "def sigmoid(x):\n",
    "    a = []\n",
    "    for item in x:\n",
    "        a.append(1/(1+math.exp(-item)))\n",
    "    return a\n",
    "\n",
    "#Create an array for our x-values named x from (-10,10) \n",
    "#with an interval of 0.2. Pass this into the sigmoid function.\n",
    "\n",
    "x = np.arange(-10.0,10.0,0.2)\n",
    "y=sigmoid(x)\n",
    "\n",
    "#plot the function:\n",
    "plt.plot(x,y)\n",
    "plt.show()"
   ]
  },
  {
   "cell_type": "markdown",
   "metadata": {},
   "source": [
    "Notice that the sigmoid function has horizontal asymptotes at 0 and 1. This means that any input value will always output a value between 0 and 1.\n",
    "<br>\n",
    "<br>\n",
    "To implement a network that performs a classification task, all we need to do is to change the activation function. We need to use a sigmoid function instead of the identity function."
   ]
  },
  {
   "cell_type": "code",
   "execution_count": 32,
   "metadata": {},
   "outputs": [],
   "source": [
    "#Add a bias containing the value 1 to each row in the class_features dataframe.\n",
    "class_features[\"bias\"] = 1"
   ]
  },
  {
   "cell_type": "markdown",
   "metadata": {},
   "source": [
    "Define training function:"
   ]
  },
  {
   "cell_type": "code",
   "execution_count": 33,
   "metadata": {},
   "outputs": [],
   "source": [
    "#We first need to import SGDClassifier from sklearn.linear_model\n",
    "\n",
    "from sklearn.linear_model import SGDClassifier"
   ]
  },
  {
   "cell_type": "code",
   "execution_count": 34,
   "metadata": {},
   "outputs": [],
   "source": [
    "def log_train(class_features,class_labels):\n",
    "    sg = SGDClassifier()\n",
    "    sg.fit(class_features,class_labels)\n",
    "    return sg.coef_\n",
    "    "
   ]
  },
  {
   "cell_type": "markdown",
   "metadata": {},
   "source": [
    "Define sigmoid function: Takes in a NumPy 2D array and applies the sigmoid function for every value."
   ]
  },
  {
   "cell_type": "code",
   "execution_count": 35,
   "metadata": {},
   "outputs": [],
   "source": [
    "def sigmoid(linear_combination):\n",
    "    log_predictions = 1/(1 + np.exp(-linear_combination))\n",
    "    return log_predictions"
   ]
  },
  {
   "cell_type": "markdown",
   "metadata": {},
   "source": [
    "Define log_feedforward(class_features,log_train_weights) function: <br> <br>\n",
    "- Performs matrix multiplication between class_features and log_train_weights and assigns this to a linear_combination variable.\n",
    "- Uses the sigmoid function to transform linear_combinations to log_predictions.\n",
    "- Converts each value in log_predictions to a class label ( 0 or 1).\n",
    "- Return log_predictions"
   ]
  },
  {
   "cell_type": "code",
   "execution_count": 36,
   "metadata": {},
   "outputs": [],
   "source": [
    "def log_feedforward(class_features,log_train_weights):\n",
    "    linear_combination = np.dot(class_features,log_train_weights.T)\n",
    "    log_predictions = sigmoid(linear_combination)\n",
    "    \n",
    "    log_predictions[log_predictions >= 0.5] = 1\n",
    "    log_predictions[log_predictions < 0.5] = 0\n",
    "    \n",
    "    return log_predictions"
   ]
  },
  {
   "cell_type": "markdown",
   "metadata": {},
   "source": [
    "Obtain weights"
   ]
  },
  {
   "cell_type": "code",
   "execution_count": 37,
   "metadata": {
    "collapsed": true
   },
   "outputs": [
    {
     "name": "stderr",
     "output_type": "stream",
     "text": [
      "/Users/juancarlosreyes/anaconda3/lib/python3.7/site-packages/sklearn/utils/validation.py:724: DataConversionWarning: A column-vector y was passed when a 1d array was expected. Please change the shape of y to (n_samples, ), for example using ravel().\n",
      "  y = column_or_1d(y, warn=True)\n"
     ]
    }
   ],
   "source": [
    "log_train_weights = log_train(class_features,class_labels)"
   ]
  },
  {
   "cell_type": "markdown",
   "metadata": {},
   "source": [
    "Obtain log_predictions"
   ]
  },
  {
   "cell_type": "code",
   "execution_count": 43,
   "metadata": {},
   "outputs": [],
   "source": [
    "log_predictions = log_feedforward(class_features,log_train_weights)"
   ]
  },
  {
   "cell_type": "markdown",
   "metadata": {},
   "source": [
    "All together:"
   ]
  },
  {
   "cell_type": "code",
   "execution_count": 42,
   "metadata": {},
   "outputs": [
    {
     "data": {
      "text/plain": [
       "array([[0., 0., 1., 0., 1., 0., 0., 1., 1., 0., 1., 0., 1., 0., 0., 0.,\n",
       "        1., 0., 0., 0., 0., 0., 1., 0., 1., 1., 0., 1., 0., 0., 1., 1.,\n",
       "        0., 1., 0., 0., 0., 0., 0., 0., 0., 0., 0., 0., 0., 1., 0., 0.,\n",
       "        0., 1., 1., 1., 0., 1., 0., 1., 1., 1., 0., 1., 0., 1., 0., 0.,\n",
       "        1., 1., 1., 1., 0., 0., 1., 1., 0., 0., 0., 0., 1., 1., 1., 1.,\n",
       "        0., 0., 1., 1., 1., 1., 1., 0., 1., 1., 0., 1., 1., 1., 1., 0.,\n",
       "        0., 1., 1., 0.]])"
      ]
     },
     "execution_count": 42,
     "metadata": {},
     "output_type": "execute_result"
    }
   ],
   "source": [
    "from sklearn.linear_model import SGDClassifier\n",
    "from sklearn.datasets import make_classification\n",
    "#classification with 100 samples and 4 features.\n",
    "class_data = make_classification(n_samples=100, n_features=4, random_state=1)\n",
    "#Store features from the dataframes first index.\n",
    "class_features = pd.DataFrame(class_data[0])\n",
    "#Store labels fromt the dataframes second index.\n",
    "class_labels = pd.Series(class_data[1])\n",
    "#add bias column to the features dataframe.\n",
    "class_features[\"bias\"] = 1\n",
    "\n",
    "#The log_train function which takes class features and labels to perform model fitting.\n",
    "def log_train(class_features, class_labels):\n",
    "    #SlopeGradientDescent handles model fitting\n",
    "    sg = SGDClassifier()\n",
    "    sg.fit(class_features, class_labels)\n",
    "    #Returns a 2D NumPy array of weights for the logistic model.\n",
    "    return sg.coef_\n",
    "\n",
    "#Takes in a NumPy 2D array and applies the sigmoid function to every value.\n",
    "def sigmoid(linear_combination):\n",
    "    return 1/(1+np.exp(-linear_combination))\n",
    "#Takes in the class features dataframe and the training weights NumPy array.\n",
    "def log_feedforward(class_features, log_train_weights):\n",
    "    #Performs matrix multiplication between features and weights.\n",
    "    linear_combination = np.dot(class_features, log_train_weights.T)\n",
    "    #Apply sigmoid function to transform the linear combinations.\n",
    "    log_predictions = sigmoid(linear_combination)\n",
    "    #Convert each result in log_predictions to a class label (0 or 1).\n",
    "    log_predictions[log_predictions >= 0.5] = 1\n",
    "    log_predictions[log_predictions < 0.5] = 0\n",
    "    return log_predictions\n",
    "\n",
    "#Run\n",
    "#Create weights using the training function given class features and labels.\n",
    "log_train_weights = log_train(class_features, class_labels)\n",
    "#Create prediction with feedforward function given class features and weights.\n",
    "log_predictions = log_feedforward(class_features, log_train_weights)\n",
    "\n",
    "log_predictions.T"
   ]
  },
  {
   "cell_type": "markdown",
   "metadata": {},
   "source": [
    "We learned how to represent systems of equations as graphs, the different components of a neural network, and how to represent linear and logistic regression models as graphs."
   ]
  }
 ],
 "metadata": {
  "kernelspec": {
   "display_name": "Python 3",
   "language": "python",
   "name": "python3"
  },
  "language_info": {
   "codemirror_mode": {
    "name": "ipython",
    "version": 3
   },
   "file_extension": ".py",
   "mimetype": "text/x-python",
   "name": "python",
   "nbconvert_exporter": "python",
   "pygments_lexer": "ipython3",
   "version": "3.7.3"
  }
 },
 "nbformat": 4,
 "nbformat_minor": 2
}
